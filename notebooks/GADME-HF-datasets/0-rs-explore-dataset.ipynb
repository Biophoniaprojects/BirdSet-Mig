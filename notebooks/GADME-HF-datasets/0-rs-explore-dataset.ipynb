{
 "cells": [
  {
   "cell_type": "markdown",
   "metadata": {},
   "source": [
    "# Explore GADME Huggingface dataset"
   ]
  },
  {
   "cell_type": "markdown",
   "metadata": {},
   "source": [
    "1. Log in to Huggingface (if the repository is private)\n",
    "\n",
    "```bash\n",
    "huggingface-cli login\n",
    "```\n"
   ]
  },
  {
   "cell_type": "markdown",
   "metadata": {},
   "source": [
    "1. Load dataset"
   ]
  },
  {
   "cell_type": "code",
   "execution_count": 2,
   "metadata": {},
   "outputs": [
    {
     "name": "stderr",
     "output_type": "stream",
     "text": [
      "Downloading builder script: 100%|██████████| 10.7k/10.7k [00:00<00:00, 17.2MB/s]\n",
      "Downloading extra modules: 100%|██████████| 159k/159k [00:00<00:00, 774kB/s] \n",
      "Downloading data: 100%|██████████| 217M/217M [00:10<00:00, 19.9MB/s]\n",
      "Downloading data: 100%|██████████| 211M/211M [00:07<00:00, 28.4MB/s]\n",
      "Downloading data: 100%|██████████| 212M/212M [00:08<00:00, 26.0MB/s]\n",
      "Downloading data: 100%|██████████| 210M/210M [00:06<00:00, 31.1MB/s]\n",
      "Downloading data: 100%|██████████| 212M/212M [00:12<00:00, 16.4MB/s]\n",
      "Downloading data: 100%|██████████| 212M/212M [00:08<00:00, 23.8MB/s]\n",
      "Downloading data: 100%|██████████| 213M/213M [00:07<00:00, 28.2MB/s]\n",
      "Downloading data: 100%|██████████| 210M/210M [00:07<00:00, 26.5MB/s]\n",
      "Downloading data: 100%|██████████| 211M/211M [00:06<00:00, 30.6MB/s]\n",
      "Downloading data: 100%|██████████| 212M/212M [00:06<00:00, 31.5MB/s]\n",
      "Downloading data: 100%|██████████| 213M/213M [00:07<00:00, 27.7MB/s]\n",
      "Downloading data: 100%|██████████| 213M/213M [00:07<00:00, 28.6MB/s]\n",
      "Downloading data: 100%|██████████| 218M/218M [00:09<00:00, 24.0MB/s]\n",
      "Downloading data: 100%|██████████| 212M/212M [00:06<00:00, 30.4MB/s]\n",
      "Downloading data: 100%|██████████| 211M/211M [00:07<00:00, 27.7MB/s]\n",
      "Downloading data: 100%|██████████| 210M/210M [00:06<00:00, 32.4MB/s]\n",
      "Downloading data: 100%|██████████| 215M/215M [00:06<00:00, 30.8MB/s]\n",
      "Downloading data: 100%|██████████| 210M/210M [00:07<00:00, 28.5MB/s]\n",
      "Downloading data: 100%|██████████| 223M/223M [00:07<00:00, 30.0MB/s]\n",
      "Downloading data: 100%|██████████| 210M/210M [00:06<00:00, 31.9MB/s]\n",
      "Downloading data: 100%|██████████| 211M/211M [00:07<00:00, 27.5MB/s]\n",
      "Downloading data: 100%|██████████| 211M/211M [00:06<00:00, 32.1MB/s]\n",
      "Downloading data: 100%|██████████| 213M/213M [00:07<00:00, 29.8MB/s]\n",
      "Downloading data: 100%|██████████| 210M/210M [00:07<00:00, 29.7MB/s]\n",
      "Downloading data: 100%|██████████| 211M/211M [00:06<00:00, 31.0MB/s]\n",
      "Downloading data: 100%|██████████| 211M/211M [00:07<00:00, 29.7MB/s]\n",
      "Downloading data: 100%|██████████| 211M/211M [00:06<00:00, 32.2MB/s]\n",
      "Downloading data: 100%|██████████| 211M/211M [00:08<00:00, 25.7MB/s]\n",
      "Downloading data: 100%|██████████| 210M/210M [00:06<00:00, 30.1MB/s]\n",
      "Downloading data: 100%|██████████| 36.5M/36.5M [00:01<00:00, 24.5MB/s]\n",
      "Downloading data: 100%|██████████| 213M/213M [00:07<00:00, 30.0MB/s]t]\n",
      "Downloading data: 100%|██████████| 214M/214M [00:08<00:00, 26.4MB/s]\n",
      "Downloading data: 100%|██████████| 17.7M/17.7M [00:01<00:00, 16.9MB/s]\n",
      "Downloading data: 100%|██████████| 678k/678k [00:00<00:00, 1.49MB/s]t]\n",
      "Downloading data: 100%|██████████| 190k/190k [00:00<00:00, 708kB/s] ] \n",
      "Downloading data files: 100%|██████████| 4/4 [05:01<00:00, 75.39s/it]\n",
      "Extracting data files: 100%|██████████| 4/4 [00:38<00:00,  9.61s/it]\n",
      "Generating train split: 6110 examples [00:28, 213.26 examples/s]\n",
      "Generating test split: 10296 examples [00:03, 2900.57 examples/s]\n"
     ]
    }
   ],
   "source": [
    "from datasets import load_dataset\n",
    "\n",
    "cache_dir = \"/workspaces/data\"\n",
    "\n",
    "hsn = load_dataset(name='HSN', path='DBD-research-group/gadme_v1', cache_dir=cache_dir)"
   ]
  },
  {
   "cell_type": "code",
   "execution_count": 4,
   "metadata": {},
   "outputs": [
    {
     "data": {
      "text/plain": [
       "{'audio': {'path': '/workspaces/data/downloads/extracted/e926900969633b0591039e6f20118004f33d7283e5a82a6556a285ac24f57d7f/data/xeno-canto/europe/anas_platyrhynchos/XC805337.ogg',\n",
       "  'array': array([-3.43779419e-07,  2.79373296e-07,  2.09595896e-07, ...,\n",
       "         -2.49751793e-06,  3.17790273e-06,  6.35130300e-06]),\n",
       "  'sampling_rate': 32000},\n",
       " 'filepath': '/workspaces/data/downloads/extracted/e926900969633b0591039e6f20118004f33d7283e5a82a6556a285ac24f57d7f/data/xeno-canto/europe/anas_platyrhynchos/XC805337.ogg',\n",
       " 'start_time': None,\n",
       " 'end_time': None,\n",
       " 'low_freq': None,\n",
       " 'high_freq': None,\n",
       " 'ebird_code': 11,\n",
       " 'call_type': 'uncertain',\n",
       " 'sex': 'female, male',\n",
       " 'lat': 50.0927,\n",
       " 'long': 18.9176,\n",
       " 'microphone': 'focal',\n",
       " 'license': '//creativecommons.org/licenses/by-nc-sa/4.0/',\n",
       " 'source': 'xenocanto',\n",
       " 'local_time': '19:30',\n",
       " 'detected_events': [[2.112, 6.416],\n",
       "  [9.68, 11.328],\n",
       "  [10.592, 11.776],\n",
       "  [12.528, 13.632],\n",
       "  [15.136, 17.888],\n",
       "  [18.32, 19.456],\n",
       "  [19.936, 21.12],\n",
       "  [21.584, 22.8],\n",
       "  [23.248, 24.816],\n",
       "  [25.2, 26.112]],\n",
       " 'event_cluster': [-1, -1, -1, 0, -1, 1, -1, 0, 0, 1],\n",
       " 'quality': 'A'}"
      ]
     },
     "execution_count": 4,
     "metadata": {},
     "output_type": "execute_result"
    }
   ],
   "source": [
    "hsn['train'][0]"
   ]
  },
  {
   "cell_type": "code",
   "execution_count": 5,
   "metadata": {},
   "outputs": [
    {
     "data": {
      "text/plain": [
       "{'audio': {'path': '/workspaces/data/downloads/extracted/62020f365cf438e7a0b568092ea6615b4a9453cd198b29ae048f5c77879d4f11/data/zenodo/HSN/HSN_001_20150708_061805.ogg',\n",
       "  'array': array([-0.00065817, -0.00053544, -0.00055185, ..., -0.00037386,\n",
       "         -0.00050595, -0.00055038]),\n",
       "  'sampling_rate': 32000},\n",
       " 'filepath': '/workspaces/data/downloads/extracted/62020f365cf438e7a0b568092ea6615b4a9453cd198b29ae048f5c77879d4f11/data/zenodo/HSN/HSN_001_20150708_061805.ogg',\n",
       " 'start_time': 3.8,\n",
       " 'end_time': 4.0,\n",
       " 'low_freq': 2272,\n",
       " 'high_freq': 6515,\n",
       " 'ebird_code': 0,\n",
       " 'call_type': 'nan',\n",
       " 'sex': 'nan',\n",
       " 'lat': 37.0,\n",
       " 'long': -118.5,\n",
       " 'microphone': 'Soundscape',\n",
       " 'license': 'Creative Commons Attribution 4.0 International Public License',\n",
       " 'source': 'https://zenodo.org/record/7525805',\n",
       " 'local_time': '06:18:08',\n",
       " 'detected_events': None,\n",
       " 'event_cluster': None,\n",
       " 'quality': None}"
      ]
     },
     "execution_count": 5,
     "metadata": {},
     "output_type": "execute_result"
    }
   ],
   "source": [
    "hsn['test'][0]"
   ]
  },
  {
   "cell_type": "code",
   "execution_count": 12,
   "metadata": {},
   "outputs": [
    {
     "name": "stdout",
     "output_type": "stream",
     "text": [
      "Number of samples:  6110\n",
      "Number of classes:  20\n"
     ]
    },
    {
     "data": {
      "text/plain": [
       "{'audio': Audio(sampling_rate=32000, mono=True, decode=True, id=None),\n",
       " 'filepath': Value(dtype='string', id=None),\n",
       " 'start_time': Value(dtype='float64', id=None),\n",
       " 'end_time': Value(dtype='float64', id=None),\n",
       " 'low_freq': Value(dtype='int64', id=None),\n",
       " 'high_freq': Value(dtype='int64', id=None),\n",
       " 'ebird_code': ClassLabel(names=['gcrfin', 'whcspa', 'amepip', 'sposan', 'rocwre', 'brebla', 'daejun', 'foxspa', 'clanut', 'moublu', 'casfin', 'mallar3', 'herthr', 'amerob', 'yerwar', 'yelwar', 'dusfly', 'mouchi', 'orcwar', 'warvir', 'norfli'], id=None),\n",
       " 'call_type': Value(dtype='string', id=None),\n",
       " 'sex': Value(dtype='string', id=None),\n",
       " 'lat': Value(dtype='float64', id=None),\n",
       " 'long': Value(dtype='float64', id=None),\n",
       " 'microphone': Value(dtype='string', id=None),\n",
       " 'license': Value(dtype='string', id=None),\n",
       " 'source': Value(dtype='string', id=None),\n",
       " 'local_time': Value(dtype='string', id=None),\n",
       " 'detected_events': Sequence(feature=Sequence(feature=Value(dtype='float64', id=None), length=-1, id=None), length=-1, id=None),\n",
       " 'event_cluster': Sequence(feature=Value(dtype='int64', id=None), length=-1, id=None),\n",
       " 'quality': Value(dtype='string', id=None)}"
      ]
     },
     "execution_count": 12,
     "metadata": {},
     "output_type": "execute_result"
    }
   ],
   "source": [
    "# get basic statistics\n",
    "\n",
    "# get number of examples\n",
    "print('Number of samples: ', len(hsn['train']))\n",
    "\n",
    "# get number of ebird_codes\n",
    "print('Number of classes: ',len(hsn['train'].unique('ebird_code')))\n",
    "\n",
    "hsn['train'].features"
   ]
  },
  {
   "cell_type": "code",
   "execution_count": 13,
   "metadata": {},
   "outputs": [
    {
     "name": "stdout",
     "output_type": "stream",
     "text": [
      "Number of samples:  10296\n",
      "Number of classes:  21\n"
     ]
    },
    {
     "data": {
      "text/plain": [
       "{'audio': Audio(sampling_rate=32000, mono=True, decode=True, id=None),\n",
       " 'filepath': Value(dtype='string', id=None),\n",
       " 'start_time': Value(dtype='float64', id=None),\n",
       " 'end_time': Value(dtype='float64', id=None),\n",
       " 'low_freq': Value(dtype='int64', id=None),\n",
       " 'high_freq': Value(dtype='int64', id=None),\n",
       " 'ebird_code': ClassLabel(names=['gcrfin', 'whcspa', 'amepip', 'sposan', 'rocwre', 'brebla', 'daejun', 'foxspa', 'clanut', 'moublu', 'casfin', 'mallar3', 'herthr', 'amerob', 'yerwar', 'yelwar', 'dusfly', 'mouchi', 'orcwar', 'warvir', 'norfli'], id=None),\n",
       " 'call_type': Value(dtype='string', id=None),\n",
       " 'sex': Value(dtype='string', id=None),\n",
       " 'lat': Value(dtype='float64', id=None),\n",
       " 'long': Value(dtype='float64', id=None),\n",
       " 'microphone': Value(dtype='string', id=None),\n",
       " 'license': Value(dtype='string', id=None),\n",
       " 'source': Value(dtype='string', id=None),\n",
       " 'local_time': Value(dtype='string', id=None),\n",
       " 'detected_events': Sequence(feature=Sequence(feature=Value(dtype='float64', id=None), length=-1, id=None), length=-1, id=None),\n",
       " 'event_cluster': Sequence(feature=Value(dtype='int64', id=None), length=-1, id=None),\n",
       " 'quality': Value(dtype='string', id=None)}"
      ]
     },
     "execution_count": 13,
     "metadata": {},
     "output_type": "execute_result"
    }
   ],
   "source": [
    "# get basic statistics\n",
    "\n",
    "# get number of examples\n",
    "print('Number of samples: ', len(hsn['test']))\n",
    "\n",
    "# get number of ebird_codes\n",
    "print('Number of classes: ',len(hsn['test'].unique('ebird_code')))\n",
    "\n",
    "hsn['test'].features\n",
    "\n"
   ]
  }
 ],
 "metadata": {
  "kernelspec": {
   "display_name": "gadme-zu58s5te-py3.10",
   "language": "python",
   "name": "python3"
  },
  "language_info": {
   "codemirror_mode": {
    "name": "ipython",
    "version": 3
   },
   "file_extension": ".py",
   "mimetype": "text/x-python",
   "name": "python",
   "nbconvert_exporter": "python",
   "pygments_lexer": "ipython3",
   "version": "3.10.12"
  }
 },
 "nbformat": 4,
 "nbformat_minor": 2
}
