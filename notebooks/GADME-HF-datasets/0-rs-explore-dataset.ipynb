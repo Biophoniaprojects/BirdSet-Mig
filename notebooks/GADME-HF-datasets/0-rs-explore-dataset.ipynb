{
 "cells": [
  {
   "cell_type": "markdown",
   "metadata": {},
   "source": [
    "# Explore GADME Huggingface dataset"
   ]
  },
  {
   "cell_type": "markdown",
   "metadata": {},
   "source": [
    "1. Log in to Huggingface (if the repository is private)\n",
    "\n",
    "```bash\n",
    "huggingface-cli login\n",
    "```\n"
   ]
  },
  {
   "cell_type": "markdown",
   "metadata": {},
   "source": [
    "1. Load dataset"
   ]
  },
  {
   "cell_type": "code",
   "execution_count": 1,
   "metadata": {},
   "outputs": [],
   "source": [
    "from datasets import load_dataset\n",
    "\n",
    "cache_dir = \"/workspace/data_gadme/\"\n",
    "\n",
    "dataset = load_dataset(name='high_sierras', path='DBD-research-group/gadme_v1', cache_dir=cache_dir)"
   ]
  },
  {
   "cell_type": "code",
   "execution_count": 4,
   "metadata": {},
   "outputs": [
    {
     "data": {
      "text/plain": [
       "{'audio': {'path': '/workspace/data_gadme/downloads/extracted/303d18d47166e9fbf442e07ab49b1ace47a37442a80b0889b4e1ae8dc3c10c0d/data/xeno-canto/europe/anas_platyrhynchos/XC805337.ogg',\n",
       "  'array': array([-3.43779419e-07,  2.79373296e-07,  2.09595896e-07, ...,\n",
       "         -2.49751793e-06,  3.17790273e-06,  6.35130300e-06]),\n",
       "  'sampling_rate': 32000},\n",
       " 'filepath': '/workspace/data_gadme/downloads/extracted/303d18d47166e9fbf442e07ab49b1ace47a37442a80b0889b4e1ae8dc3c10c0d/data/xeno-canto/europe/anas_platyrhynchos/XC805337.ogg',\n",
       " 'start_time': None,\n",
       " 'end_time': None,\n",
       " 'low_freq': None,\n",
       " 'high_freq': None,\n",
       " 'ebird_code': 12,\n",
       " 'ebird_code_multilabel': [12],\n",
       " 'ebird_code_secondary': ['mallar3'],\n",
       " 'call_type': 'uncertain',\n",
       " 'sex': 'female, male',\n",
       " 'lat': 50.0927,\n",
       " 'long': 18.9176,\n",
       " 'length': 29,\n",
       " 'microphone': 'focal',\n",
       " 'license': '//creativecommons.org/licenses/by-nc-sa/4.0/',\n",
       " 'source': 'xenocanto',\n",
       " 'local_time': '19:30',\n",
       " 'detected_events': [[2.112, 6.416],\n",
       "  [9.68, 11.328],\n",
       "  [10.592, 11.776],\n",
       "  [12.528, 13.632],\n",
       "  [15.136, 17.888],\n",
       "  [18.32, 19.456],\n",
       "  [19.936, 21.12],\n",
       "  [21.584, 22.8],\n",
       "  [23.248, 24.816],\n",
       "  [25.2, 26.112]],\n",
       " 'event_cluster': [-1, -1, -1, 0, -1, 1, -1, 0, 0, 1],\n",
       " 'quality': 'A',\n",
       " 'recordist': 'Ireneusz Oleksik'}"
      ]
     },
     "execution_count": 4,
     "metadata": {},
     "output_type": "execute_result"
    }
   ],
   "source": [
    "dataset['train'][0]\n"
   ]
  },
  {
   "cell_type": "code",
   "execution_count": 5,
   "metadata": {},
   "outputs": [
    {
     "data": {
      "text/plain": [
       "{'audio': {'path': '/workspace/data_gadme/downloads/extracted/49c787d2768aabf2ab61bf2c472098f0343fa61f7e3f21d3ab4fa5a810da0319/data/zenodo/HSN/HSN_001_20150708_061805.ogg',\n",
       "  'array': array([-0.00065817, -0.00053544, -0.00055185, ..., -0.00037386,\n",
       "         -0.00050595, -0.00055038]),\n",
       "  'sampling_rate': 32000},\n",
       " 'filepath': '/workspace/data_gadme/downloads/extracted/49c787d2768aabf2ab61bf2c472098f0343fa61f7e3f21d3ab4fa5a810da0319/data/zenodo/HSN/HSN_001_20150708_061805.ogg',\n",
       " 'start_time': 3.8,\n",
       " 'end_time': 4.0,\n",
       " 'low_freq': 2272,\n",
       " 'high_freq': 6515,\n",
       " 'ebird_code': 1,\n",
       " 'ebird_code_multilabel': None,\n",
       " 'ebird_code_secondary': None,\n",
       " 'call_type': None,\n",
       " 'sex': None,\n",
       " 'lat': 37.0,\n",
       " 'long': -118.5,\n",
       " 'length': None,\n",
       " 'microphone': 'Soundscape',\n",
       " 'license': None,\n",
       " 'source': 'https://zenodo.org/record/7525805',\n",
       " 'local_time': '06:18:08',\n",
       " 'detected_events': None,\n",
       " 'event_cluster': None,\n",
       " 'quality': None,\n",
       " 'recordist': None}"
      ]
     },
     "execution_count": 5,
     "metadata": {},
     "output_type": "execute_result"
    }
   ],
   "source": [
    "dataset['test'][0]"
   ]
  },
  {
   "cell_type": "code",
   "execution_count": 6,
   "metadata": {},
   "outputs": [
    {
     "name": "stdout",
     "output_type": "stream",
     "text": [
      "Number of samples:  6526\n",
      "Number of classes:  21\n"
     ]
    },
    {
     "data": {
      "text/plain": [
       "{'audio': Audio(sampling_rate=32000, mono=True, decode=True, id=None),\n",
       " 'filepath': Value(dtype='string', id=None),\n",
       " 'start_time': Value(dtype='float64', id=None),\n",
       " 'end_time': Value(dtype='float64', id=None),\n",
       " 'low_freq': Value(dtype='int64', id=None),\n",
       " 'high_freq': Value(dtype='int64', id=None),\n",
       " 'ebird_code': ClassLabel(names=['no_call', 'gcrfin', 'whcspa', 'amepip', 'sposan', 'rocwre', 'brebla', 'daejun', 'foxspa', 'clanut', 'moublu', 'casfin', 'mallar3', 'herthr', 'amerob', 'yerwar', 'yelwar', 'dusfly', 'mouchi', 'orcwar', 'warvir', 'norfli'], id=None),\n",
       " 'ebird_code_multilabel': Sequence(feature=ClassLabel(names=['no_call', 'gcrfin', 'whcspa', 'amepip', 'sposan', 'rocwre', 'brebla', 'daejun', 'foxspa', 'clanut', 'moublu', 'casfin', 'mallar3', 'herthr', 'amerob', 'yerwar', 'yelwar', 'dusfly', 'mouchi', 'orcwar', 'warvir', 'norfli'], id=None), length=-1, id=None),\n",
       " 'ebird_code_secondary': Sequence(feature=Value(dtype='string', id=None), length=-1, id=None),\n",
       " 'call_type': Value(dtype='string', id=None),\n",
       " 'sex': Value(dtype='string', id=None),\n",
       " 'lat': Value(dtype='float64', id=None),\n",
       " 'long': Value(dtype='float64', id=None),\n",
       " 'length': Value(dtype='int64', id=None),\n",
       " 'microphone': Value(dtype='string', id=None),\n",
       " 'license': Value(dtype='string', id=None),\n",
       " 'source': Value(dtype='string', id=None),\n",
       " 'local_time': Value(dtype='string', id=None),\n",
       " 'detected_events': Sequence(feature=Sequence(feature=Value(dtype='float64', id=None), length=-1, id=None), length=-1, id=None),\n",
       " 'event_cluster': Sequence(feature=Value(dtype='int64', id=None), length=-1, id=None),\n",
       " 'quality': Value(dtype='string', id=None),\n",
       " 'recordist': Value(dtype='string', id=None)}"
      ]
     },
     "execution_count": 6,
     "metadata": {},
     "output_type": "execute_result"
    }
   ],
   "source": [
    "# get basic statistics\n",
    "\n",
    "# get number of examples\n",
    "print('Number of samples: ', len(dataset['train']))\n",
    "\n",
    "# get number of ebird_codes\n",
    "print('Number of classes: ',len(dataset['train'].unique('ebird_code')))\n",
    "\n",
    "dataset['train'].features"
   ]
  },
  {
   "cell_type": "code",
   "execution_count": 8,
   "metadata": {},
   "outputs": [
    {
     "name": "stdout",
     "output_type": "stream",
     "text": [
      "Number of samples:  10296\n",
      "Number of classes:  21\n"
     ]
    },
    {
     "data": {
      "text/plain": [
       "{'audio': Audio(sampling_rate=32000, mono=True, decode=True, id=None),\n",
       " 'filepath': Value(dtype='string', id=None),\n",
       " 'start_time': Value(dtype='float64', id=None),\n",
       " 'end_time': Value(dtype='float64', id=None),\n",
       " 'low_freq': Value(dtype='int64', id=None),\n",
       " 'high_freq': Value(dtype='int64', id=None),\n",
       " 'ebird_code': ClassLabel(names=['no_call', 'gcrfin', 'whcspa', 'amepip', 'sposan', 'rocwre', 'brebla', 'daejun', 'foxspa', 'clanut', 'moublu', 'casfin', 'mallar3', 'herthr', 'amerob', 'yerwar', 'yelwar', 'dusfly', 'mouchi', 'orcwar', 'warvir', 'norfli'], id=None),\n",
       " 'ebird_code_multilabel': Sequence(feature=ClassLabel(names=['no_call', 'gcrfin', 'whcspa', 'amepip', 'sposan', 'rocwre', 'brebla', 'daejun', 'foxspa', 'clanut', 'moublu', 'casfin', 'mallar3', 'herthr', 'amerob', 'yerwar', 'yelwar', 'dusfly', 'mouchi', 'orcwar', 'warvir', 'norfli'], id=None), length=-1, id=None),\n",
       " 'ebird_code_secondary': Sequence(feature=Value(dtype='string', id=None), length=-1, id=None),\n",
       " 'call_type': Value(dtype='string', id=None),\n",
       " 'sex': Value(dtype='string', id=None),\n",
       " 'lat': Value(dtype='float64', id=None),\n",
       " 'long': Value(dtype='float64', id=None),\n",
       " 'length': Value(dtype='int64', id=None),\n",
       " 'microphone': Value(dtype='string', id=None),\n",
       " 'license': Value(dtype='string', id=None),\n",
       " 'source': Value(dtype='string', id=None),\n",
       " 'local_time': Value(dtype='string', id=None),\n",
       " 'detected_events': Sequence(feature=Sequence(feature=Value(dtype='float64', id=None), length=-1, id=None), length=-1, id=None),\n",
       " 'event_cluster': Sequence(feature=Value(dtype='int64', id=None), length=-1, id=None),\n",
       " 'quality': Value(dtype='string', id=None),\n",
       " 'recordist': Value(dtype='string', id=None)}"
      ]
     },
     "execution_count": 8,
     "metadata": {},
     "output_type": "execute_result"
    }
   ],
   "source": [
    "# get basic statistics\n",
    "\n",
    "# get number of examples\n",
    "print('Number of samples: ', len(dataset['test']))\n",
    "\n",
    "# get number of ebird_codes\n",
    "print('Number of classes: ',len(dataset['test'].unique('ebird_code')))\n",
    "\n",
    "dataset['test'].features\n",
    "\n"
   ]
  },
  {
   "cell_type": "markdown",
   "metadata": {},
   "source": [
    "# Load with base_datamodule"
   ]
  },
  {
   "cell_type": "code",
   "execution_count": 26,
   "metadata": {},
   "outputs": [],
   "source": [
    "from src.datamodule.esc50_datamodule import ESC50\n",
    "\n",
    "dm = ESC50()"
   ]
  },
  {
   "cell_type": "code",
   "execution_count": 27,
   "metadata": {},
   "outputs": [
    {
     "name": "stderr",
     "output_type": "stream",
     "text": [
      "Repo card metadata block was not found. Setting CardData to empty.\n",
      "WARNING:huggingface_hub.repocard:Repo card metadata block was not found. Setting CardData to empty.\n"
     ]
    },
    {
     "data": {
      "application/vnd.jupyter.widget-view+json": {
       "model_id": "8fd569cbbbce4351a0e7e44cc16b43b3",
       "version_major": 2,
       "version_minor": 0
      },
      "text/plain": [
       "Saving the dataset (0/2 shards):   0%|          | 0/1600 [00:00<?, ? examples/s]"
      ]
     },
     "metadata": {},
     "output_type": "display_data"
    },
    {
     "data": {
      "application/vnd.jupyter.widget-view+json": {
       "model_id": "6b6e54a7ad9b4fdfbdb43de7f53944a5",
       "version_major": 2,
       "version_minor": 0
      },
      "text/plain": [
       "Saving the dataset (0/1 shards):   0%|          | 0/200 [00:00<?, ? examples/s]"
      ]
     },
     "metadata": {},
     "output_type": "display_data"
    },
    {
     "data": {
      "application/vnd.jupyter.widget-view+json": {
       "model_id": "f467ba4a6fcf4b5abd3731e61d504c17",
       "version_major": 2,
       "version_minor": 0
      },
      "text/plain": [
       "Saving the dataset (0/1 shards):   0%|          | 0/200 [00:00<?, ? examples/s]"
      ]
     },
     "metadata": {},
     "output_type": "display_data"
    }
   ],
   "source": [
    "dm.prepare_data()"
   ]
  },
  {
   "cell_type": "code",
   "execution_count": 28,
   "metadata": {},
   "outputs": [],
   "source": [
    "dm.setup(stage='fit')"
   ]
  },
  {
   "cell_type": "code",
   "execution_count": 31,
   "metadata": {},
   "outputs": [
    {
     "data": {
      "text/plain": [
       "dict_keys(['input_values', 'labels'])"
      ]
     },
     "execution_count": 31,
     "metadata": {},
     "output_type": "execute_result"
    }
   ],
   "source": [
    "train_dataloader = dm.train_dataloader\n",
    "# get first batch\n",
    "batch = next(iter(train_dataloader()))\n",
    "batch.keys()"
   ]
  },
  {
   "cell_type": "code",
   "execution_count": 32,
   "metadata": {},
   "outputs": [
    {
     "data": {
      "text/plain": [
       "torch.Size([32, 1, 255, 1782])"
      ]
     },
     "execution_count": 32,
     "metadata": {},
     "output_type": "execute_result"
    }
   ],
   "source": [
    "batch['input_values'].shape"
   ]
  }
 ],
 "metadata": {
  "kernelspec": {
   "display_name": "gadme-zu58s5te-py3.10",
   "language": "python",
   "name": "python3"
  },
  "language_info": {
   "codemirror_mode": {
    "name": "ipython",
    "version": 3
   },
   "file_extension": ".py",
   "mimetype": "text/x-python",
   "name": "python",
   "nbconvert_exporter": "python",
   "pygments_lexer": "ipython3",
   "version": "3.10.12"
  }
 },
 "nbformat": 4,
 "nbformat_minor": 2
}
