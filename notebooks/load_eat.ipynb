{
 "cells": [
  {
   "cell_type": "code",
   "execution_count": 1,
   "metadata": {},
   "outputs": [],
   "source": [
    "import torch\n",
    "import hydra\n",
    "path = '/workspace/logs/SavedModels/2024-04-17_131106/callback_checkpoints/eat_XCM_125.ckpt'\n",
    "experiment = '/workspace/configs/experiment/local/HSN/eat_inference.yaml'\n",
    "\n",
    "# set device to gpu 0\n",
    "device = torch.device('cuda:0' if torch.cuda.is_available() else 'cpu')\n",
    "# set default torch device to device\n",
    "torch.cuda.set_device(device)"
   ]
  },
  {
   "cell_type": "code",
   "execution_count": 2,
   "metadata": {},
   "outputs": [
    {
     "name": "stdout",
     "output_type": "stream",
     "text": [
      "0\n"
     ]
    }
   ],
   "source": [
    "print(torch.cuda.current_device())"
   ]
  },
  {
   "cell_type": "code",
   "execution_count": 3,
   "metadata": {},
   "outputs": [
    {
     "data": {
      "text/plain": [
       "device(type='cuda', index=0)"
      ]
     },
     "execution_count": 3,
     "metadata": {},
     "output_type": "execute_result"
    }
   ],
   "source": [
    "device"
   ]
  },
  {
   "cell_type": "code",
   "execution_count": 4,
   "metadata": {},
   "outputs": [],
   "source": [
    "state_dict = torch.load(path, map_location=device)[\"state_dict\"]\n"
   ]
  },
  {
   "cell_type": "code",
   "execution_count": 5,
   "metadata": {},
   "outputs": [
    {
     "data": {
      "text/plain": [
       "odict_keys(['model.start.1.weight', 'model.start.2.weight', 'model.start.2.bias', 'model.start.2.running_mean', 'model.start.2.running_var', 'model.start.2.num_batches_tracked', 'model.down.0.down.1.weight', 'model.down.0.down.2.weight', 'model.down.0.down.2.bias', 'model.down.0.down.2.running_mean', 'model.down.0.down.2.running_var', 'model.down.0.down.2.num_batches_tracked', 'model.down.0.down.4.filt', 'model.down.1.block_t.1.weight', 'model.down.1.block_t.2.weight', 'model.down.1.block_t.2.bias', 'model.down.1.block_t.2.running_mean', 'model.down.1.block_t.2.running_var', 'model.down.1.block_t.2.num_batches_tracked', 'model.down.1.block_f.0.weight', 'model.down.1.block_f.1.weight', 'model.down.1.block_f.1.bias', 'model.down.1.block_f.1.running_mean', 'model.down.1.block_f.1.running_var', 'model.down.1.block_f.1.num_batches_tracked', 'model.down.1.shortcut.weight', 'model.down.1.shortcut.bias', 'model.down.2.down.1.weight', 'model.down.2.down.2.weight', 'model.down.2.down.2.bias', 'model.down.2.down.2.running_mean', 'model.down.2.down.2.running_var', 'model.down.2.down.2.num_batches_tracked', 'model.down.2.down.4.filt', 'model.down.3.down.1.weight', 'model.down.3.down.2.weight', 'model.down.3.down.2.bias', 'model.down.3.down.2.running_mean', 'model.down.3.down.2.running_var', 'model.down.3.down.2.num_batches_tracked', 'model.down.3.down.4.filt', 'model.down.4.block_t.1.weight', 'model.down.4.block_t.2.weight', 'model.down.4.block_t.2.bias', 'model.down.4.block_t.2.running_mean', 'model.down.4.block_t.2.running_var', 'model.down.4.block_t.2.num_batches_tracked', 'model.down.4.block_f.0.weight', 'model.down.4.block_f.1.weight', 'model.down.4.block_f.1.bias', 'model.down.4.block_f.1.running_mean', 'model.down.4.block_f.1.running_var', 'model.down.4.block_f.1.num_batches_tracked', 'model.down.4.shortcut.weight', 'model.down.4.shortcut.bias', 'model.down.5.down.1.weight', 'model.down.5.down.2.weight', 'model.down.5.down.2.bias', 'model.down.5.down.2.running_mean', 'model.down.5.down.2.running_var', 'model.down.5.down.2.num_batches_tracked', 'model.down.5.down.4.filt', 'model.down2.0.block_t.1.weight', 'model.down2.0.block_t.2.weight', 'model.down2.0.block_t.2.bias', 'model.down2.0.block_t.2.running_mean', 'model.down2.0.block_t.2.running_var', 'model.down2.0.block_t.2.num_batches_tracked', 'model.down2.0.block_f.0.weight', 'model.down2.0.block_f.1.weight', 'model.down2.0.block_f.1.bias', 'model.down2.0.block_f.1.running_mean', 'model.down2.0.block_f.1.running_var', 'model.down2.0.block_f.1.num_batches_tracked', 'model.down2.0.shortcut.weight', 'model.down2.0.shortcut.bias', 'model.down2.1.block_t.1.weight', 'model.down2.1.block_t.2.weight', 'model.down2.1.block_t.2.bias', 'model.down2.1.block_t.2.running_mean', 'model.down2.1.block_t.2.running_var', 'model.down2.1.block_t.2.num_batches_tracked', 'model.down2.1.block_f.0.weight', 'model.down2.1.block_f.1.weight', 'model.down2.1.block_f.1.bias', 'model.down2.1.block_f.1.running_mean', 'model.down2.1.block_f.1.running_var', 'model.down2.1.block_f.1.num_batches_tracked', 'model.down2.1.shortcut.weight', 'model.down2.1.shortcut.bias', 'model.down2.2.block_t.1.weight', 'model.down2.2.block_t.2.weight', 'model.down2.2.block_t.2.bias', 'model.down2.2.block_t.2.running_mean', 'model.down2.2.block_t.2.running_var', 'model.down2.2.block_t.2.num_batches_tracked', 'model.down2.2.block_f.0.weight', 'model.down2.2.block_f.1.weight', 'model.down2.2.block_f.1.bias', 'model.down2.2.block_f.1.running_mean', 'model.down2.2.block_f.1.running_var', 'model.down2.2.block_f.1.num_batches_tracked', 'model.down2.2.shortcut.weight', 'model.down2.2.shortcut.bias', 'model.down2.3.down.1.weight', 'model.down2.3.down.2.weight', 'model.down2.3.down.2.bias', 'model.down2.3.down.2.running_mean', 'model.down2.3.down.2.running_var', 'model.down2.3.down.2.num_batches_tracked', 'model.down2.3.down.4.filt', 'model.down2.4.block_t.1.weight', 'model.down2.4.block_t.2.weight', 'model.down2.4.block_t.2.bias', 'model.down2.4.block_t.2.running_mean', 'model.down2.4.block_t.2.running_var', 'model.down2.4.block_t.2.num_batches_tracked', 'model.down2.4.block_f.0.weight', 'model.down2.4.block_f.1.weight', 'model.down2.4.block_f.1.bias', 'model.down2.4.block_f.1.running_mean', 'model.down2.4.block_f.1.running_var', 'model.down2.4.block_f.1.num_batches_tracked', 'model.down2.4.shortcut.weight', 'model.down2.4.shortcut.bias', 'model.down2.5.block_t.1.weight', 'model.down2.5.block_t.2.weight', 'model.down2.5.block_t.2.bias', 'model.down2.5.block_t.2.running_mean', 'model.down2.5.block_t.2.running_var', 'model.down2.5.block_t.2.num_batches_tracked', 'model.down2.5.block_f.0.weight', 'model.down2.5.block_f.1.weight', 'model.down2.5.block_f.1.bias', 'model.down2.5.block_f.1.running_mean', 'model.down2.5.block_f.1.running_var', 'model.down2.5.block_f.1.num_batches_tracked', 'model.down2.5.shortcut.weight', 'model.down2.5.shortcut.bias', 'model.down2.6.block_t.1.weight', 'model.down2.6.block_t.2.weight', 'model.down2.6.block_t.2.bias', 'model.down2.6.block_t.2.running_mean', 'model.down2.6.block_t.2.running_var', 'model.down2.6.block_t.2.num_batches_tracked', 'model.down2.6.block_f.0.weight', 'model.down2.6.block_f.1.weight', 'model.down2.6.block_f.1.bias', 'model.down2.6.block_f.1.running_mean', 'model.down2.6.block_f.1.running_var', 'model.down2.6.block_f.1.num_batches_tracked', 'model.down2.6.shortcut.weight', 'model.down2.6.shortcut.bias', 'model.down2.7.down.1.weight', 'model.down2.7.down.2.weight', 'model.down2.7.down.2.bias', 'model.down2.7.down.2.running_mean', 'model.down2.7.down.2.running_var', 'model.down2.7.down.2.num_batches_tracked', 'model.down2.7.down.4.filt', 'model.project.weight', 'model.project.bias', 'model.tf.cls_token', 'model.tf.pos_embed', 'model.tf.transformer_enc.layers.0.self_attn.in_proj_weight', 'model.tf.transformer_enc.layers.0.self_attn.in_proj_bias', 'model.tf.transformer_enc.layers.0.self_attn.out_proj.weight', 'model.tf.transformer_enc.layers.0.self_attn.out_proj.bias', 'model.tf.transformer_enc.layers.0.linear1.weight', 'model.tf.transformer_enc.layers.0.linear1.bias', 'model.tf.transformer_enc.layers.0.linear2.weight', 'model.tf.transformer_enc.layers.0.linear2.bias', 'model.tf.transformer_enc.layers.0.norm1.weight', 'model.tf.transformer_enc.layers.0.norm1.bias', 'model.tf.transformer_enc.layers.0.norm2.weight', 'model.tf.transformer_enc.layers.0.norm2.bias', 'model.tf.transformer_enc.layers.1.self_attn.in_proj_weight', 'model.tf.transformer_enc.layers.1.self_attn.in_proj_bias', 'model.tf.transformer_enc.layers.1.self_attn.out_proj.weight', 'model.tf.transformer_enc.layers.1.self_attn.out_proj.bias', 'model.tf.transformer_enc.layers.1.linear1.weight', 'model.tf.transformer_enc.layers.1.linear1.bias', 'model.tf.transformer_enc.layers.1.linear2.weight', 'model.tf.transformer_enc.layers.1.linear2.bias', 'model.tf.transformer_enc.layers.1.norm1.weight', 'model.tf.transformer_enc.layers.1.norm1.bias', 'model.tf.transformer_enc.layers.1.norm2.weight', 'model.tf.transformer_enc.layers.1.norm2.bias', 'model.tf.transformer_enc.layers.2.self_attn.in_proj_weight', 'model.tf.transformer_enc.layers.2.self_attn.in_proj_bias', 'model.tf.transformer_enc.layers.2.self_attn.out_proj.weight', 'model.tf.transformer_enc.layers.2.self_attn.out_proj.bias', 'model.tf.transformer_enc.layers.2.linear1.weight', 'model.tf.transformer_enc.layers.2.linear1.bias', 'model.tf.transformer_enc.layers.2.linear2.weight', 'model.tf.transformer_enc.layers.2.linear2.bias', 'model.tf.transformer_enc.layers.2.norm1.weight', 'model.tf.transformer_enc.layers.2.norm1.bias', 'model.tf.transformer_enc.layers.2.norm2.weight', 'model.tf.transformer_enc.layers.2.norm2.bias', 'model.tf.transformer_enc.layers.3.self_attn.in_proj_weight', 'model.tf.transformer_enc.layers.3.self_attn.in_proj_bias', 'model.tf.transformer_enc.layers.3.self_attn.out_proj.weight', 'model.tf.transformer_enc.layers.3.self_attn.out_proj.bias', 'model.tf.transformer_enc.layers.3.linear1.weight', 'model.tf.transformer_enc.layers.3.linear1.bias', 'model.tf.transformer_enc.layers.3.linear2.weight', 'model.tf.transformer_enc.layers.3.linear2.bias', 'model.tf.transformer_enc.layers.3.norm1.weight', 'model.tf.transformer_enc.layers.3.norm1.bias', 'model.tf.transformer_enc.layers.3.norm2.weight', 'model.tf.transformer_enc.layers.3.norm2.bias', 'model.tf.transformer_enc.norm.weight', 'model.tf.transformer_enc.norm.bias', 'model.tf.fc.weight', 'model.tf.fc.bias'])"
      ]
     },
     "execution_count": 5,
     "metadata": {},
     "output_type": "execute_result"
    }
   ],
   "source": [
    "state_dict.keys()"
   ]
  },
  {
   "cell_type": "code",
   "execution_count": null,
   "metadata": {},
   "outputs": [],
   "source": []
  },
  {
   "cell_type": "code",
   "execution_count": 12,
   "metadata": {},
   "outputs": [
    {
     "ename": "TypeError",
     "evalue": "'collections.OrderedDict' object is not callable",
     "output_type": "error",
     "traceback": [
      "\u001b[0;31m---------------------------------------------------------------------------\u001b[0m",
      "\u001b[0;31mTypeError\u001b[0m                                 Traceback (most recent call last)",
      "Cell \u001b[0;32mIn[12], line 1\u001b[0m\n\u001b[0;32m----> 1\u001b[0m \u001b[38;5;28;01mfor\u001b[39;00m param_tensor \u001b[38;5;129;01min\u001b[39;00m \u001b[43mstate_dict\u001b[49m\u001b[43m(\u001b[49m\u001b[43m)\u001b[49m:\n\u001b[1;32m      2\u001b[0m     \u001b[38;5;28mprint\u001b[39m(param_tensor, \u001b[38;5;124m\"\u001b[39m\u001b[38;5;130;01m\\t\u001b[39;00m\u001b[38;5;124m\"\u001b[39m, state_dict()[param_tensor]\u001b[38;5;241m.\u001b[39msize())\n",
      "\u001b[0;31mTypeError\u001b[0m: 'collections.OrderedDict' object is not callable"
     ]
    }
   ],
   "source": [
    "for param_tensor in state_dict():\n",
    "    print(param_tensor, \"\\t\", state_dict()[param_tensor].size())"
   ]
  },
  {
   "cell_type": "code",
   "execution_count": 21,
   "metadata": {},
   "outputs": [
    {
     "ename": "HydraException",
     "evalue": "config_path in initialize() must be relative",
     "output_type": "error",
     "traceback": [
      "\u001b[0;31m---------------------------------------------------------------------------\u001b[0m",
      "\u001b[0;31mHydraException\u001b[0m                            Traceback (most recent call last)",
      "Cell \u001b[0;32mIn[21], line 4\u001b[0m\n\u001b[1;32m      1\u001b[0m \u001b[38;5;28;01mfrom\u001b[39;00m \u001b[38;5;21;01mhydra\u001b[39;00m \u001b[38;5;28;01mimport\u001b[39;00m compose, initialize\n\u001b[1;32m      2\u001b[0m \u001b[38;5;28;01mfrom\u001b[39;00m \u001b[38;5;21;01momegaconf\u001b[39;00m \u001b[38;5;28;01mimport\u001b[39;00m OmegaConf\n\u001b[0;32m----> 4\u001b[0m \u001b[38;5;28;01mwith\u001b[39;00m \u001b[43minitialize\u001b[49m\u001b[43m(\u001b[49m\u001b[43mversion_base\u001b[49m\u001b[38;5;241;43m=\u001b[39;49m\u001b[38;5;28;43;01mNone\u001b[39;49;00m\u001b[43m,\u001b[49m\u001b[43m \u001b[49m\u001b[43mconfig_path\u001b[49m\u001b[38;5;241;43m=\u001b[39;49m\u001b[38;5;124;43m\"\u001b[39;49m\u001b[38;5;124;43m/workspace/configs\u001b[39;49m\u001b[38;5;124;43m\"\u001b[39;49m\u001b[43m)\u001b[49m:\n\u001b[1;32m      5\u001b[0m     cfg \u001b[38;5;241m=\u001b[39m compose(config_name\u001b[38;5;241m=\u001b[39m\u001b[38;5;124m\"\u001b[39m\u001b[38;5;124mexperiment/local/HSN/eat_inference.yaml\u001b[39m\u001b[38;5;124m\"\u001b[39m)\n\u001b[1;32m      7\u001b[0m \u001b[38;5;28mprint\u001b[39m(OmegaConf\u001b[38;5;241m.\u001b[39mto_yaml(cfg))\n",
      "File \u001b[0;32m~/.cache/pypoetry/virtualenvs/birdset-xS3fZVNL-py3.10/lib/python3.10/site-packages/hydra/initialize.py:82\u001b[0m, in \u001b[0;36minitialize.__init__\u001b[0;34m(self, config_path, job_name, caller_stack_depth, version_base)\u001b[0m\n\u001b[1;32m     79\u001b[0m         config_path \u001b[38;5;241m=\u001b[39m \u001b[38;5;124m\"\u001b[39m\u001b[38;5;124m.\u001b[39m\u001b[38;5;124m\"\u001b[39m\n\u001b[1;32m     81\u001b[0m \u001b[38;5;28;01mif\u001b[39;00m config_path \u001b[38;5;129;01mis\u001b[39;00m \u001b[38;5;129;01mnot\u001b[39;00m \u001b[38;5;28;01mNone\u001b[39;00m \u001b[38;5;129;01mand\u001b[39;00m os\u001b[38;5;241m.\u001b[39mpath\u001b[38;5;241m.\u001b[39misabs(config_path):\n\u001b[0;32m---> 82\u001b[0m     \u001b[38;5;28;01mraise\u001b[39;00m HydraException(\u001b[38;5;124m\"\u001b[39m\u001b[38;5;124mconfig_path in initialize() must be relative\u001b[39m\u001b[38;5;124m\"\u001b[39m)\n\u001b[1;32m     83\u001b[0m calling_file, calling_module \u001b[38;5;241m=\u001b[39m detect_calling_file_or_module_from_stack_frame(\n\u001b[1;32m     84\u001b[0m     caller_stack_depth \u001b[38;5;241m+\u001b[39m \u001b[38;5;241m1\u001b[39m\n\u001b[1;32m     85\u001b[0m )\n\u001b[1;32m     86\u001b[0m \u001b[38;5;28;01mif\u001b[39;00m job_name \u001b[38;5;129;01mis\u001b[39;00m \u001b[38;5;28;01mNone\u001b[39;00m:\n",
      "\u001b[0;31mHydraException\u001b[0m: config_path in initialize() must be relative"
     ]
    }
   ],
   "source": [
    "from hydra import compose, initialize\n",
    "from omegaconf import OmegaConf\n",
    "\n",
    "with initialize(version_base=None, config_path=\"/workspace/configs\"):\n",
    "    cfg = compose(config_name=\"experiment/local/HSN/eat_inference.yaml\")\n",
    "\n",
    "print(OmegaConf.to_yaml(cfg))\n"
   ]
  }
 ],
 "metadata": {
  "kernelspec": {
   "display_name": "birdset-xS3fZVNL-py3.10",
   "language": "python",
   "name": "python3"
  },
  "language_info": {
   "codemirror_mode": {
    "name": "ipython",
    "version": 3
   },
   "file_extension": ".py",
   "mimetype": "text/x-python",
   "name": "python",
   "nbconvert_exporter": "python",
   "pygments_lexer": "ipython3",
   "version": "3.10.12"
  }
 },
 "nbformat": 4,
 "nbformat_minor": 2
}
