{
 "cells": [
  {
   "cell_type": "code",
   "execution_count": 9,
   "metadata": {},
   "outputs": [
    {
     "name": "stdout",
     "output_type": "stream",
     "text": [
      "Renaming run eat_SNE#5_2024-04-25_064251 from group SNE_subset_eat to DT_SNE_eat\n",
      "Renaming run eat_SNE#4_2024-04-25_064251 from group SNE_subset_eat to DT_SNE_eat\n",
      "Renaming run eat_SNE#3_2024-04-24_070018 from group SNE_subset_eat to DT_SNE_eat\n",
      "Renaming run eat_SNE#2_2024-04-23_135926 from group SNE_subset_eat to DT_SNE_eat\n",
      "Renaming run eat_SNE#1_2024-04-23_135926 from group SNE_subset_eat to DT_SNE_eat\n"
     ]
    }
   ],
   "source": [
    "import wandb\n",
    "api = wandb.Api()\n",
    " \n",
    "# Define your project and the old/new group names\n",
    "project = \"deepbirddetect/birdset\"\n",
    "old_group_name = \"SSW_subset_eat\"\n",
    "new_group_name = \"DT_SSW_eat\"\n",
    " \n",
    "# Fetch all runs in the project\n",
    "runs = api.runs(project)\n",
    " \n",
    "# Loop through each run and update the group name if it matches the old group name\n",
    "for run in runs:\n",
    "    if run.group == old_group_name:\n",
    "        print(f\"Renaming run {run.name} from group {old_group_name} to {new_group_name}\")\n",
    "        run.group = new_group_name\n",
    "        # add tag to the run\n",
    "        # if tag is \"BirdSet\" then it is a birdset run\n",
    "        if \"BirdSet\" in run.tags:\n",
    "            run.tags.append(\"birdsetDT\")\n",
    "        run.update()"
   ]
  }
 ],
 "metadata": {
  "kernelspec": {
   "display_name": "birdset-xS3fZVNL-py3.10",
   "language": "python",
   "name": "python3"
  },
  "language_info": {
   "codemirror_mode": {
    "name": "ipython",
    "version": 3
   },
   "file_extension": ".py",
   "mimetype": "text/x-python",
   "name": "python",
   "nbconvert_exporter": "python",
   "pygments_lexer": "ipython3",
   "version": "3.10.12"
  }
 },
 "nbformat": 4,
 "nbformat_minor": 2
}
