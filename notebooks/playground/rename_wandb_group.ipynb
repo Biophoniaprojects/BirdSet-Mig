{
 "cells": [
  {
   "cell_type": "code",
   "execution_count": 4,
   "metadata": {},
   "outputs": [
    {
     "name": "stdout",
     "output_type": "stream",
     "text": [
      "Renaming run eat_XCL#1_2024-05-24_115700 from group pretrain_eat_XCL to LT_XCL_eat\n",
      "Renaming run eat_XCL#1_2024-05-24_113519 from group pretrain_eat_XCL to LT_XCL_eat\n",
      "Renaming run eat_XCL#1_2024-05-24_111208 from group pretrain_eat_XCL to LT_XCL_eat\n",
      "Renaming run eat_XCL#5_2024-05-19_105101 from group pretrain_eat_XCL to LT_XCL_eat\n",
      "Renaming run eat_XCL#5_2024-05-19_104558 from group pretrain_eat_XCL to LT_XCL_eat\n",
      "Renaming run eat_XCL#5_2024-05-19_102024 from group pretrain_eat_XCL to LT_XCL_eat\n",
      "Renaming run eat_XCL#5_2024-05-18_125446 from group pretrain_eat_XCL to LT_XCL_eat\n",
      "Renaming run eat_XCL#3_2024-05-17_075334 from group pretrain_eat_XCL to LT_XCL_eat\n",
      "Renaming run eat_XCL#4_2024-05-17_075159 from group pretrain_eat_XCL to LT_XCL_eat\n",
      "Renaming run eat_XCL#4_2024-05-16_204422 from group pretrain_eat_XCL to LT_XCL_eat\n",
      "Renaming run eat_XCL#3_2024-05-16_204355 from group pretrain_eat_XCL to LT_XCL_eat\n",
      "Renaming run eat_XCL#4_2024-05-16_203148 from group pretrain_eat_XCL to LT_XCL_eat\n",
      "Renaming run eat_XCL#3_2024-05-16_203119 from group pretrain_eat_XCL to LT_XCL_eat\n",
      "Renaming run eat_XCL#3_2024-05-16_124245 from group pretrain_eat_XCL to LT_XCL_eat\n",
      "Renaming run eat_XCL#3_2024-05-16_123614 from group pretrain_eat_XCL to LT_XCL_eat\n",
      "Renaming run eat_XCL#3_2024-05-16_101906 from group pretrain_eat_XCL to LT_XCL_eat\n",
      "Renaming run eat_XCL#1_2024-05-07_085812 from group pretrain_eat_XCL to LT_XCL_eat\n",
      "Renaming run eat_XCL#1_2024-05-07_084327 from group pretrain_eat_XCL to LT_XCL_eat\n",
      "Renaming run eat_XCL#1_2024-05-07_073603 from group pretrain_eat_XCL to LT_XCL_eat\n",
      "Renaming run eat_XCL#1_2024-05-06_132505 from group pretrain_eat_XCL to LT_XCL_eat\n",
      "Renaming run eat_XCL#1_2024-05-06_074737 from group pretrain_eat_XCL to LT_XCL_eat\n",
      "Renaming run eat_XCL#1_2024-05-05_160311 from group pretrain_eat_XCL to LT_XCL_eat\n",
      "Renaming run eat_XCL#1_2024-05-05_150036 from group pretrain_eat_XCL to LT_XCL_eat\n",
      "Renaming run eat_XCL#1_2024-05-03_144549 from group pretrain_eat_XCL to LT_XCL_eat\n"
     ]
    }
   ],
   "source": [
    "import wandb\n",
    "api = wandb.Api()\n",
    " \n",
    "# Define your project and the old/new group names\n",
    "project = \"deepbirddetect/birdset\"\n",
    "old_group_name = \"pretrain_eat_XCL\"\n",
    "new_group_name = \"LT_XCL_eat\"\n",
    " \n",
    "# Fetch all runs in the project\n",
    "runs = api.runs(project)\n",
    " \n",
    "# Loop through each run and update the group name if it matches the old group name\n",
    "for run in runs:\n",
    "    if run.group == old_group_name:\n",
    "        print(f\"Renaming run {run.name} from group {old_group_name} to {new_group_name}\")\n",
    "        run.group = new_group_name\n",
    "        run.update()"
   ]
  }
 ],
 "metadata": {
  "kernelspec": {
   "display_name": "birdset-xS3fZVNL-py3.10",
   "language": "python",
   "name": "python3"
  },
  "language_info": {
   "codemirror_mode": {
    "name": "ipython",
    "version": 3
   },
   "file_extension": ".py",
   "mimetype": "text/x-python",
   "name": "python",
   "nbconvert_exporter": "python",
   "pygments_lexer": "ipython3",
   "version": "3.10.12"
  }
 },
 "nbformat": 4,
 "nbformat_minor": 2
}
