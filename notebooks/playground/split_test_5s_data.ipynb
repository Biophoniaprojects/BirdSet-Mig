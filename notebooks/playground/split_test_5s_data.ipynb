{
 "cells": [
  {
   "cell_type": "markdown",
   "metadata": {},
   "source": [
    "# Helper"
   ]
  },
  {
   "cell_type": "code",
   "execution_count": 37,
   "metadata": {},
   "outputs": [],
   "source": [
    "from datasets import load_dataset, concatenate_datasets\n",
    "from datasets import DatasetDict"
   ]
  },
  {
   "cell_type": "code",
   "execution_count": 3,
   "metadata": {},
   "outputs": [],
   "source": [
    "def get_dataset(name: str) -> DatasetDict:\n",
    "    dataset = load_dataset(\n",
    "    name=name,\n",
    "    path=\"DBD-research-group/BirdSet\",\n",
    "    cache_dir=\"../../data_birdset/\" + name\n",
    "    )\n",
    "    return dataset"
   ]
  },
  {
   "cell_type": "code",
   "execution_count": 5,
   "metadata": {},
   "outputs": [],
   "source": [
    "def cut_underscores(path: str, num: int) -> str:\n",
    "    \"\"\"\n",
    "    cuts till 'num' underscores from end of 'path'\n",
    "    \"\"\"\n",
    "    for i in range(num):\n",
    "        path = path[:path.rfind(\"_\")]\n",
    "    return path"
   ]
  },
  {
   "cell_type": "markdown",
   "metadata": {},
   "source": [
    "# NES"
   ]
  },
  {
   "cell_type": "code",
   "execution_count": 47,
   "metadata": {},
   "outputs": [
    {
     "name": "stderr",
     "output_type": "stream",
     "text": [
      "c:\\Users\\feier\\miniconda3\\envs\\birdset\\lib\\site-packages\\datasets\\load.py:1486: FutureWarning: The repository for DBD-research-group/BirdSet contains custom code which must be executed to correctly load the dataset. You can inspect the repository content at https://hf.co/datasets/DBD-research-group/BirdSet\n",
      "You can avoid this message in future by passing the argument `trust_remote_code=True`.\n",
      "Passing `trust_remote_code=True` will be mandatory to load this dataset from the next major release of `datasets`.\n",
      "  warnings.warn(\n"
     ]
    },
    {
     "name": "stdout",
     "output_type": "stream",
     "text": [
      "DatasetDict({\n",
      "    test: Dataset({\n",
      "        features: ['audio', 'filepath', 'start_time', 'end_time', 'low_freq', 'high_freq', 'ebird_code', 'ebird_code_multilabel', 'ebird_code_secondary', 'call_type', 'sex', 'lat', 'long', 'length', 'microphone', 'license', 'source', 'local_time', 'detected_events', 'event_cluster', 'peaks', 'quality', 'recordist'],\n",
      "        num_rows: 6952\n",
      "    })\n",
      "    test_5s: Dataset({\n",
      "        features: ['audio', 'filepath', 'start_time', 'end_time', 'low_freq', 'high_freq', 'ebird_code', 'ebird_code_multilabel', 'ebird_code_secondary', 'call_type', 'sex', 'lat', 'long', 'length', 'microphone', 'license', 'source', 'local_time', 'detected_events', 'event_cluster', 'peaks', 'quality', 'recordist'],\n",
      "        num_rows: 24480\n",
      "    })\n",
      "})\n"
     ]
    },
    {
     "data": {
      "text/plain": [
       "{'audio': {'bytes': None,\n",
       "  'path': 'd:\\\\Programmierzeugs\\\\BirdSet\\\\data_birdset\\\\NES_scape\\\\downloads\\\\extracted\\\\35644542a0998491c586fd647ca3e015195cd45c9d8ca749e7fc4dbb61bd5e79\\\\NES_001_S01_20190914_043000_000_005.ogg'},\n",
       " 'filepath': 'd:\\\\Programmierzeugs\\\\BirdSet\\\\data_birdset\\\\NES_scape\\\\downloads\\\\extracted\\\\35644542a0998491c586fd647ca3e015195cd45c9d8ca749e7fc4dbb61bd5e79\\\\NES_001_S01_20190914_043000_000_005.ogg',\n",
       " 'start_time': 0.0,\n",
       " 'end_time': 5.0,\n",
       " 'low_freq': None,\n",
       " 'high_freq': None,\n",
       " 'ebird_code': None,\n",
       " 'ebird_code_multilabel': [],\n",
       " 'ebird_code_secondary': None,\n",
       " 'call_type': None,\n",
       " 'sex': None,\n",
       " 'lat': 5.59,\n",
       " 'long': -75.85,\n",
       " 'length': None,\n",
       " 'microphone': 'Soundscape',\n",
       " 'license': 'Creative Commons Attribution 4.0 International Public License',\n",
       " 'source': 'https://zenodo.org/record/7525349',\n",
       " 'local_time': '4:30:29',\n",
       " 'detected_events': None,\n",
       " 'event_cluster': None,\n",
       " 'peaks': None,\n",
       " 'quality': None,\n",
       " 'recordist': None}"
      ]
     },
     "execution_count": 47,
     "metadata": {},
     "output_type": "execute_result"
    }
   ],
   "source": [
    "dataset = get_dataset(\"NES_scape\")\n",
    "test_5s = dataset[\"test_5s\"]\n",
    "print(dataset)\n",
    "next(iter(test_5s))"
   ]
  },
  {
   "cell_type": "markdown",
   "metadata": {},
   "source": [
    "## Split Test_5s by split percentage"
   ]
  },
  {
   "cell_type": "code",
   "execution_count": 48,
   "metadata": {},
   "outputs": [
    {
     "name": "stdout",
     "output_type": "stream",
     "text": [
      "dataset length: 24480\n",
      "\n",
      "bottom split idx: 19439 \n",
      "data at idx: {'audio': {'bytes': None, 'path': 'd:\\\\Programmierzeugs\\\\BirdSet\\\\data_birdset\\\\NES_scape\\\\downloads\\\\extracted\\\\35644542a0998491c586fd647ca3e015195cd45c9d8ca749e7fc4dbb61bd5e79\\\\NES_027_S02_20190923_180001_3595_3600.ogg'}, 'filepath': 'd:\\\\Programmierzeugs\\\\BirdSet\\\\data_birdset\\\\NES_scape\\\\downloads\\\\extracted\\\\35644542a0998491c586fd647ca3e015195cd45c9d8ca749e7fc4dbb61bd5e79\\\\NES_027_S02_20190923_180001_3595_3600.ogg', 'start_time': 0.0, 'end_time': 5.0, 'low_freq': None, 'high_freq': None, 'ebird_code': None, 'ebird_code_multilabel': [], 'ebird_code_secondary': None, 'call_type': None, 'sex': None, 'lat': 10.11, 'long': -84.52, 'length': None, 'microphone': 'Soundscape', 'license': 'Creative Commons Attribution 4.0 International Public License', 'source': 'https://zenodo.org/record/7525349', 'local_time': '19:43:25', 'detected_events': None, 'event_cluster': None, 'peaks': None, 'quality': None, 'recordist': None}\n",
      "\n",
      "top split idx: 20160 \n",
      "data at idx: {'audio': {'bytes': None, 'path': 'd:\\\\Programmierzeugs\\\\BirdSet\\\\data_birdset\\\\NES_scape\\\\downloads\\\\extracted\\\\35644542a0998491c586fd647ca3e015195cd45c9d8ca749e7fc4dbb61bd5e79\\\\NES_029_S02_20191004_063001_000_005.ogg'}, 'filepath': 'd:\\\\Programmierzeugs\\\\BirdSet\\\\data_birdset\\\\NES_scape\\\\downloads\\\\extracted\\\\35644542a0998491c586fd647ca3e015195cd45c9d8ca749e7fc4dbb61bd5e79\\\\NES_029_S02_20191004_063001_000_005.ogg', 'start_time': 0.0, 'end_time': 5.0, 'low_freq': None, 'high_freq': None, 'ebird_code': None, 'ebird_code_multilabel': [], 'ebird_code_secondary': None, 'call_type': None, 'sex': None, 'lat': 10.11, 'long': -84.52, 'length': None, 'microphone': 'Soundscape', 'license': 'Creative Commons Attribution 4.0 International Public License', 'source': 'https://zenodo.org/record/7525349', 'local_time': '6:30:22', 'detected_events': None, 'event_cluster': None, 'peaks': None, 'quality': None, 'recordist': None}\n",
      "\n",
      "bottom split percentage: 0.20592320261437913 \n",
      "top split percentage: 0.17647058823529416\n",
      "\n",
      "train dataset:\n",
      " Dataset({\n",
      "    features: ['audio', 'filepath', 'start_time', 'end_time', 'low_freq', 'high_freq', 'ebird_code', 'ebird_code_multilabel', 'ebird_code_secondary', 'call_type', 'sex', 'lat', 'long', 'length', 'microphone', 'license', 'source', 'local_time', 'detected_events', 'event_cluster', 'peaks', 'quality', 'recordist'],\n",
      "    num_rows: 19440\n",
      "}) {'audio': {'bytes': None, 'path': 'd:\\\\Programmierzeugs\\\\BirdSet\\\\data_birdset\\\\NES_scape\\\\downloads\\\\extracted\\\\35644542a0998491c586fd647ca3e015195cd45c9d8ca749e7fc4dbb61bd5e79\\\\NES_027_S02_20190923_180001_3595_3600.ogg'}, 'filepath': 'd:\\\\Programmierzeugs\\\\BirdSet\\\\data_birdset\\\\NES_scape\\\\downloads\\\\extracted\\\\35644542a0998491c586fd647ca3e015195cd45c9d8ca749e7fc4dbb61bd5e79\\\\NES_027_S02_20190923_180001_3595_3600.ogg', 'start_time': 0.0, 'end_time': 5.0, 'low_freq': None, 'high_freq': None, 'ebird_code': None, 'ebird_code_multilabel': [], 'ebird_code_secondary': None, 'call_type': None, 'sex': None, 'lat': 10.11, 'long': -84.52, 'length': None, 'microphone': 'Soundscape', 'license': 'Creative Commons Attribution 4.0 International Public License', 'source': 'https://zenodo.org/record/7525349', 'local_time': '19:43:25', 'detected_events': None, 'event_cluster': None, 'peaks': None, 'quality': None, 'recordist': None}\n",
      "test dataset:\n",
      " Dataset({\n",
      "    features: ['audio', 'filepath', 'start_time', 'end_time', 'low_freq', 'high_freq', 'ebird_code', 'ebird_code_multilabel', 'ebird_code_secondary', 'call_type', 'sex', 'lat', 'long', 'length', 'microphone', 'license', 'source', 'local_time', 'detected_events', 'event_cluster', 'peaks', 'quality', 'recordist'],\n",
      "    num_rows: 5040\n",
      "}) {'audio': {'bytes': None, 'path': 'd:\\\\Programmierzeugs\\\\BirdSet\\\\data_birdset\\\\NES_scape\\\\downloads\\\\extracted\\\\35644542a0998491c586fd647ca3e015195cd45c9d8ca749e7fc4dbb61bd5e79\\\\NES_028_S02_20191004_043000_000_005.ogg'}, 'filepath': 'd:\\\\Programmierzeugs\\\\BirdSet\\\\data_birdset\\\\NES_scape\\\\downloads\\\\extracted\\\\35644542a0998491c586fd647ca3e015195cd45c9d8ca749e7fc4dbb61bd5e79\\\\NES_028_S02_20191004_043000_000_005.ogg', 'start_time': 0.0, 'end_time': 5.0, 'low_freq': None, 'high_freq': None, 'ebird_code': None, 'ebird_code_multilabel': [], 'ebird_code_secondary': None, 'call_type': None, 'sex': None, 'lat': 10.11, 'long': -84.52, 'length': None, 'microphone': 'Soundscape', 'license': 'Creative Commons Attribution 4.0 International Public License', 'source': 'https://zenodo.org/record/7525349', 'local_time': '4:39:22', 'detected_events': None, 'event_cluster': None, 'peaks': None, 'quality': None, 'recordist': None}\n"
     ]
    },
    {
     "data": {
      "text/plain": [
       "DatasetDict({\n",
       "    train: Dataset({\n",
       "        features: ['audio', 'filepath', 'start_time', 'end_time', 'low_freq', 'high_freq', 'ebird_code', 'ebird_code_multilabel', 'ebird_code_secondary', 'call_type', 'sex', 'lat', 'long', 'length', 'microphone', 'license', 'source', 'local_time', 'detected_events', 'event_cluster', 'peaks', 'quality', 'recordist'],\n",
       "        num_rows: 19440\n",
       "    })\n",
       "    test: Dataset({\n",
       "        features: ['audio', 'filepath', 'start_time', 'end_time', 'low_freq', 'high_freq', 'ebird_code', 'ebird_code_multilabel', 'ebird_code_secondary', 'call_type', 'sex', 'lat', 'long', 'length', 'microphone', 'license', 'source', 'local_time', 'detected_events', 'event_cluster', 'peaks', 'quality', 'recordist'],\n",
       "        num_rows: 5040\n",
       "    })\n",
       "})"
      ]
     },
     "execution_count": 48,
     "metadata": {},
     "output_type": "execute_result"
    }
   ],
   "source": [
    "def get_file_comparison_name(path :str) -> str:\n",
    "    path = cut_underscores(path, 2)\n",
    "    return path\n",
    "\n",
    "num_rows = len(test_5s)\n",
    "print(f\"dataset length: {num_rows}\\n\")\n",
    "desired_train_split = 0.2\n",
    "desired_train_split_idx = int(num_rows * (1 - desired_train_split))\n",
    "\n",
    "filepath : str = test_5s[desired_train_split_idx][\"filepath\"]\n",
    "split_file = get_file_comparison_name(filepath)\n",
    "\n",
    "# since split shouldn't cut files in two find nearest index that's a different file\n",
    "bottom_idx = 0\n",
    "top_idx = num_rows-1\n",
    "\n",
    "for idx in range(desired_train_split_idx-1, -1, -1):\n",
    "    filepath_at_idx = test_5s[idx][\"filepath\"]\n",
    "    file_at_idx = get_file_comparison_name(filepath_at_idx)\n",
    "\n",
    "    if file_at_idx != split_file:\n",
    "        bottom_idx = idx\n",
    "        break\n",
    "\n",
    "for idx in range(desired_train_split_idx, num_rows):\n",
    "    filepath_at_idx = test_5s[idx][\"filepath\"]\n",
    "    file_at_idx = get_file_comparison_name(filepath_at_idx)\n",
    "\n",
    "    if file_at_idx != split_file:\n",
    "        top_idx = idx\n",
    "        break\n",
    "\n",
    "\n",
    "bottom_train_split = 1- (bottom_idx / num_rows)\n",
    "top_train_split = 1 - (top_idx / num_rows)\n",
    "print(f\"bottom split idx: {bottom_idx} \\ndata at idx: {test_5s[bottom_idx]}\\n\")\n",
    "print(f\"top split idx: {top_idx} \\ndata at idx: {test_5s[top_idx]}\\n\")\n",
    "print(f\"bottom split percentage: {bottom_train_split} \\ntop split percentage: {top_train_split}\\n\")\n",
    "\n",
    "# select nearest to desired split\n",
    "if bottom_train_split - desired_train_split > desired_train_split - top_train_split:\n",
    "    nearest_split_idx = top_idx\n",
    "else:\n",
    "    nearest_split_idx = bottom_idx\n",
    "\n",
    "train_split = test_5s.select(range(nearest_split_idx+1))\n",
    "test_split = test_5s.select(range(nearest_split_idx+1, num_rows))\n",
    "\n",
    "print(\"train dataset:\\n\" ,train_split, train_split[-1])\n",
    "print(\"test dataset:\\n\", test_split, test_split[0])\n",
    "\n",
    "nes_p_test_5s_dataset_dict = DatasetDict({'train':train_split, 'test':test_split})\n",
    "nes_p_test_5s_dataset_dict"
   ]
  },
  {
   "cell_type": "code",
   "execution_count": 8,
   "metadata": {},
   "outputs": [
    {
     "data": {
      "application/vnd.jupyter.widget-view+json": {
       "model_id": "3cd1360c49f34031a1b9ca0ce9f7b34f",
       "version_major": 2,
       "version_minor": 0
      },
      "text/plain": [
       "Uploading the dataset shards:   0%|          | 0/2 [00:00<?, ?it/s]"
      ]
     },
     "metadata": {},
     "output_type": "display_data"
    },
    {
     "data": {
      "application/vnd.jupyter.widget-view+json": {
       "model_id": "d56ad92b710e4f6683b99e38ee4fbe73",
       "version_major": 2,
       "version_minor": 0
      },
      "text/plain": [
       "Map:   0%|          | 0/9720 [00:00<?, ? examples/s]"
      ]
     },
     "metadata": {},
     "output_type": "display_data"
    },
    {
     "data": {
      "application/vnd.jupyter.widget-view+json": {
       "model_id": "3e656c552d0c48dc8a4a94dc3d287a53",
       "version_major": 2,
       "version_minor": 0
      },
      "text/plain": [
       "Creating parquet from Arrow format:   0%|          | 0/98 [00:00<?, ?ba/s]"
      ]
     },
     "metadata": {},
     "output_type": "display_data"
    },
    {
     "data": {
      "application/vnd.jupyter.widget-view+json": {
       "model_id": "187ade65412b46a3bfe63a9961008023",
       "version_major": 2,
       "version_minor": 0
      },
      "text/plain": [
       "Map:   0%|          | 0/9720 [00:00<?, ? examples/s]"
      ]
     },
     "metadata": {},
     "output_type": "display_data"
    },
    {
     "data": {
      "application/vnd.jupyter.widget-view+json": {
       "model_id": "2da4196d1c3c482d85d87db98f4bd6ea",
       "version_major": 2,
       "version_minor": 0
      },
      "text/plain": [
       "Creating parquet from Arrow format:   0%|          | 0/98 [00:00<?, ?ba/s]"
      ]
     },
     "metadata": {},
     "output_type": "display_data"
    },
    {
     "data": {
      "application/vnd.jupyter.widget-view+json": {
       "model_id": "9dd33d42690e4792965d36a14ad8de99",
       "version_major": 2,
       "version_minor": 0
      },
      "text/plain": [
       "Uploading the dataset shards:   0%|          | 0/1 [00:00<?, ?it/s]"
      ]
     },
     "metadata": {},
     "output_type": "display_data"
    },
    {
     "data": {
      "application/vnd.jupyter.widget-view+json": {
       "model_id": "ad7d06164049454a881a6ce67998f734",
       "version_major": 2,
       "version_minor": 0
      },
      "text/plain": [
       "Map:   0%|          | 0/5040 [00:00<?, ? examples/s]"
      ]
     },
     "metadata": {},
     "output_type": "display_data"
    },
    {
     "data": {
      "application/vnd.jupyter.widget-view+json": {
       "model_id": "c8504d9fd19d4c6d9bd0dfd084d05d66",
       "version_major": 2,
       "version_minor": 0
      },
      "text/plain": [
       "Creating parquet from Arrow format:   0%|          | 0/51 [00:00<?, ?ba/s]"
      ]
     },
     "metadata": {},
     "output_type": "display_data"
    },
    {
     "data": {
      "application/vnd.jupyter.widget-view+json": {
       "model_id": "ca9b03ead5984fba9878811fabdbaba7",
       "version_major": 2,
       "version_minor": 0
      },
      "text/plain": [
       "README.md:   0%|          | 0.00/5.57k [00:00<?, ?B/s]"
      ]
     },
     "metadata": {},
     "output_type": "display_data"
    },
    {
     "data": {
      "text/plain": [
       "CommitInfo(commit_url='https://huggingface.co/datasets/DBD-research-group/soundscape_datasets/commit/e269b82a56a57d51aebc9f4e74fa94eddb80fafa', commit_message='Upload dataset', commit_description='', oid='e269b82a56a57d51aebc9f4e74fa94eddb80fafa', pr_url=None, pr_revision=None, pr_num=None)"
      ]
     },
     "execution_count": 8,
     "metadata": {},
     "output_type": "execute_result"
    }
   ],
   "source": [
    "#nes_p_test_5s_dataset_dict.push_to_hub(repo_id=\"DBD-research-group/soundscape_datasets\", data_dir=\"NES20\")"
   ]
  },
  {
   "cell_type": "markdown",
   "metadata": {},
   "source": [
    "## Split Test_5s by last two days"
   ]
  },
  {
   "cell_type": "code",
   "execution_count": 4,
   "metadata": {},
   "outputs": [
    {
     "name": "stdout",
     "output_type": "stream",
     "text": [
      "19439 20190923\n",
      "Dataset({\n",
      "    features: ['audio', 'filepath', 'start_time', 'end_time', 'low_freq', 'high_freq', 'ebird_code', 'ebird_code_multilabel', 'ebird_code_secondary', 'call_type', 'sex', 'lat', 'long', 'length', 'microphone', 'license', 'source', 'local_time', 'detected_events', 'event_cluster', 'peaks', 'quality', 'recordist'],\n",
      "    num_rows: 19440\n",
      "}) {'audio': {'bytes': None, 'path': 'd:\\\\Programmierzeugs\\\\BirdSet\\\\data_birdset\\\\NES_scape\\\\downloads\\\\extracted\\\\35644542a0998491c586fd647ca3e015195cd45c9d8ca749e7fc4dbb61bd5e79\\\\NES_027_S02_20190923_180001_3595_3600.ogg'}, 'filepath': 'd:\\\\Programmierzeugs\\\\BirdSet\\\\data_birdset\\\\NES_scape\\\\downloads\\\\extracted\\\\35644542a0998491c586fd647ca3e015195cd45c9d8ca749e7fc4dbb61bd5e79\\\\NES_027_S02_20190923_180001_3595_3600.ogg', 'start_time': 0.0, 'end_time': 5.0, 'low_freq': None, 'high_freq': None, 'ebird_code': None, 'ebird_code_multilabel': [], 'ebird_code_secondary': None, 'call_type': None, 'sex': None, 'lat': 10.11, 'long': -84.52, 'length': None, 'microphone': 'Soundscape', 'license': 'Creative Commons Attribution 4.0 International Public License', 'source': 'https://zenodo.org/record/7525349', 'local_time': '19:43:25', 'detected_events': None, 'event_cluster': None, 'peaks': None, 'quality': None, 'recordist': None}\n",
      "Dataset({\n",
      "    features: ['audio', 'filepath', 'start_time', 'end_time', 'low_freq', 'high_freq', 'ebird_code', 'ebird_code_multilabel', 'ebird_code_secondary', 'call_type', 'sex', 'lat', 'long', 'length', 'microphone', 'license', 'source', 'local_time', 'detected_events', 'event_cluster', 'peaks', 'quality', 'recordist'],\n",
      "    num_rows: 5040\n",
      "}) {'audio': {'bytes': None, 'path': 'd:\\\\Programmierzeugs\\\\BirdSet\\\\data_birdset\\\\NES_scape\\\\downloads\\\\extracted\\\\35644542a0998491c586fd647ca3e015195cd45c9d8ca749e7fc4dbb61bd5e79\\\\NES_028_S02_20191004_043000_000_005.ogg'}, 'filepath': 'd:\\\\Programmierzeugs\\\\BirdSet\\\\data_birdset\\\\NES_scape\\\\downloads\\\\extracted\\\\35644542a0998491c586fd647ca3e015195cd45c9d8ca749e7fc4dbb61bd5e79\\\\NES_028_S02_20191004_043000_000_005.ogg', 'start_time': 0.0, 'end_time': 5.0, 'low_freq': None, 'high_freq': None, 'ebird_code': None, 'ebird_code_multilabel': [], 'ebird_code_secondary': None, 'call_type': None, 'sex': None, 'lat': 10.11, 'long': -84.52, 'length': None, 'microphone': 'Soundscape', 'license': 'Creative Commons Attribution 4.0 International Public License', 'source': 'https://zenodo.org/record/7525349', 'local_time': '4:39:22', 'detected_events': None, 'event_cluster': None, 'peaks': None, 'quality': None, 'recordist': None}\n"
     ]
    },
    {
     "data": {
      "text/plain": [
       "DatasetDict({\n",
       "    train: Dataset({\n",
       "        features: ['audio', 'filepath', 'start_time', 'end_time', 'low_freq', 'high_freq', 'ebird_code', 'ebird_code_multilabel', 'ebird_code_secondary', 'call_type', 'sex', 'lat', 'long', 'length', 'microphone', 'license', 'source', 'local_time', 'detected_events', 'event_cluster', 'peaks', 'quality', 'recordist'],\n",
       "        num_rows: 19440\n",
       "    })\n",
       "    test: Dataset({\n",
       "        features: ['audio', 'filepath', 'start_time', 'end_time', 'low_freq', 'high_freq', 'ebird_code', 'ebird_code_multilabel', 'ebird_code_secondary', 'call_type', 'sex', 'lat', 'long', 'length', 'microphone', 'license', 'source', 'local_time', 'detected_events', 'event_cluster', 'peaks', 'quality', 'recordist'],\n",
       "        num_rows: 5040\n",
       "    })\n",
       "})"
      ]
     },
     "execution_count": 4,
     "metadata": {},
     "output_type": "execute_result"
    }
   ],
   "source": [
    "num_rows = len(test_5s)\n",
    "\n",
    "filepath_at_idx = test_5s[num_rows-1][\"filepath\"]\n",
    "filepath_at_idx = cut_underscores(filepath_at_idx, 3)\n",
    "last_day = filepath_at_idx[-8:]\n",
    "day_count = 0\n",
    "split_idx = 0\n",
    "# since split shouldn't cut files find index of the last two days\n",
    "for idx in range(num_rows-1, -1, -1):\n",
    "    filepath_at_idx = test_5s[idx][\"filepath\"]\n",
    "    filepath_at_idx = cut_underscores(filepath_at_idx, 3)\n",
    "    day_at_idx = filepath_at_idx[-8:]\n",
    "\n",
    "    if last_day != day_at_idx:\n",
    "        day_count += 1\n",
    "        last_day = day_at_idx\n",
    "\n",
    "        if day_count >= 2:\n",
    "            split_idx = idx\n",
    "            break\n",
    "\n",
    "\n",
    "print(split_idx, last_day)\n",
    "\n",
    "train_split = test_5s.select(range(split_idx+1))\n",
    "test_split = test_5s.select(range(split_idx+1, num_rows))\n",
    "\n",
    "print(train_split, train_split[-1])\n",
    "print(test_split, test_split[0])\n",
    "\n",
    "nes_d_test_5s_dataset_dict = DatasetDict({'train':train_split, 'test':test_split})\n",
    "nes_d_test_5s_dataset_dict"
   ]
  },
  {
   "cell_type": "markdown",
   "metadata": {},
   "source": [
    "# HSN"
   ]
  },
  {
   "cell_type": "code",
   "execution_count": 49,
   "metadata": {},
   "outputs": [
    {
     "name": "stdout",
     "output_type": "stream",
     "text": [
      "DatasetDict({\n",
      "    test: Dataset({\n",
      "        features: ['audio', 'filepath', 'start_time', 'end_time', 'low_freq', 'high_freq', 'ebird_code', 'ebird_code_multilabel', 'ebird_code_secondary', 'call_type', 'sex', 'lat', 'long', 'length', 'microphone', 'license', 'source', 'local_time', 'detected_events', 'event_cluster', 'peaks', 'quality', 'recordist'],\n",
      "        num_rows: 10296\n",
      "    })\n",
      "    test_5s: Dataset({\n",
      "        features: ['audio', 'filepath', 'start_time', 'end_time', 'low_freq', 'high_freq', 'ebird_code', 'ebird_code_multilabel', 'ebird_code_secondary', 'call_type', 'sex', 'lat', 'long', 'length', 'microphone', 'license', 'source', 'local_time', 'detected_events', 'event_cluster', 'peaks', 'quality', 'recordist'],\n",
      "        num_rows: 12000\n",
      "    })\n",
      "})\n"
     ]
    },
    {
     "data": {
      "text/plain": [
       "{'audio': {'bytes': None,\n",
       "  'path': 'd:\\\\Programmierzeugs\\\\BirdSet\\\\data_birdset\\\\HSN_scape\\\\downloads\\\\extracted\\\\2fb6f48b55ef82b53f61a9930b5aaeed4e5b543e15b496539d6c6cc1737442a1\\\\HSN_001_20150708_061805_000_005.ogg'},\n",
       " 'filepath': 'd:\\\\Programmierzeugs\\\\BirdSet\\\\data_birdset\\\\HSN_scape\\\\downloads\\\\extracted\\\\2fb6f48b55ef82b53f61a9930b5aaeed4e5b543e15b496539d6c6cc1737442a1\\\\HSN_001_20150708_061805_000_005.ogg',\n",
       " 'start_time': 0.0,\n",
       " 'end_time': 5.0,\n",
       " 'low_freq': None,\n",
       " 'high_freq': None,\n",
       " 'ebird_code': None,\n",
       " 'ebird_code_multilabel': [0],\n",
       " 'ebird_code_secondary': None,\n",
       " 'call_type': None,\n",
       " 'sex': None,\n",
       " 'lat': 37.0,\n",
       " 'long': -118.5,\n",
       " 'length': None,\n",
       " 'microphone': 'Soundscape',\n",
       " 'license': 'Creative Commons Attribution 4.0 International Public License',\n",
       " 'source': 'https://zenodo.org/record/7525805',\n",
       " 'local_time': '6:18:08',\n",
       " 'detected_events': None,\n",
       " 'event_cluster': None,\n",
       " 'peaks': None,\n",
       " 'quality': None,\n",
       " 'recordist': None}"
      ]
     },
     "execution_count": 49,
     "metadata": {},
     "output_type": "execute_result"
    }
   ],
   "source": [
    "dataset = get_dataset(\"HSN_scape\")\n",
    "test_5s = dataset[\"test_5s\"]\n",
    "print(dataset)\n",
    "next(iter(test_5s))"
   ]
  },
  {
   "cell_type": "markdown",
   "metadata": {},
   "source": [
    "## Split by percentage"
   ]
  },
  {
   "cell_type": "code",
   "execution_count": 50,
   "metadata": {},
   "outputs": [
    {
     "name": "stdout",
     "output_type": "stream",
     "text": [
      "dataset length: 12000\n",
      "\n",
      "bottom split idx: 9599 \n",
      "data at idx: {'audio': {'bytes': None, 'path': 'd:\\\\Programmierzeugs\\\\BirdSet\\\\data_birdset\\\\HSN_scape\\\\downloads\\\\extracted\\\\2fb6f48b55ef82b53f61a9930b5aaeed4e5b543e15b496539d6c6cc1737442a1\\\\HSN_080_20150712_070105_595_600.ogg'}, 'filepath': 'd:\\\\Programmierzeugs\\\\BirdSet\\\\data_birdset\\\\HSN_scape\\\\downloads\\\\extracted\\\\2fb6f48b55ef82b53f61a9930b5aaeed4e5b543e15b496539d6c6cc1737442a1\\\\HSN_080_20150712_070105_595_600.ogg', 'start_time': 0.0, 'end_time': 5.0, 'low_freq': None, 'high_freq': None, 'ebird_code': None, 'ebird_code_multilabel': [], 'ebird_code_secondary': None, 'call_type': None, 'sex': None, 'lat': 37.0, 'long': -118.5, 'length': None, 'microphone': 'Soundscape', 'license': 'Creative Commons Attribution 4.0 International Public License', 'source': 'https://zenodo.org/record/7525805', 'local_time': '7:14:17', 'detected_events': None, 'event_cluster': None, 'peaks': None, 'quality': None, 'recordist': None}\n",
      "\n",
      "top split idx: 9720 \n",
      "data at idx: {'audio': {'bytes': None, 'path': 'd:\\\\Programmierzeugs\\\\BirdSet\\\\data_birdset\\\\HSN_scape\\\\downloads\\\\extracted\\\\2fb6f48b55ef82b53f61a9930b5aaeed4e5b543e15b496539d6c6cc1737442a1\\\\HSN_082_20150712_071105_000_005.ogg'}, 'filepath': 'd:\\\\Programmierzeugs\\\\BirdSet\\\\data_birdset\\\\HSN_scape\\\\downloads\\\\extracted\\\\2fb6f48b55ef82b53f61a9930b5aaeed4e5b543e15b496539d6c6cc1737442a1\\\\HSN_082_20150712_071105_000_005.ogg', 'start_time': 0.0, 'end_time': 5.0, 'low_freq': None, 'high_freq': None, 'ebird_code': None, 'ebird_code_multilabel': [], 'ebird_code_secondary': None, 'call_type': None, 'sex': None, 'lat': 37.0, 'long': -118.5, 'length': None, 'microphone': 'Soundscape', 'license': 'Creative Commons Attribution 4.0 International Public License', 'source': 'https://zenodo.org/record/7525805', 'local_time': '7:11:27', 'detected_events': None, 'event_cluster': None, 'peaks': None, 'quality': None, 'recordist': None}\n",
      "\n",
      "bottom split percentage: 0.20008333333333328 \n",
      "top split percentage: 0.18999999999999995\n",
      "\n",
      "train dataset:\n",
      " Dataset({\n",
      "    features: ['audio', 'filepath', 'start_time', 'end_time', 'low_freq', 'high_freq', 'ebird_code', 'ebird_code_multilabel', 'ebird_code_secondary', 'call_type', 'sex', 'lat', 'long', 'length', 'microphone', 'license', 'source', 'local_time', 'detected_events', 'event_cluster', 'peaks', 'quality', 'recordist'],\n",
      "    num_rows: 9600\n",
      "}) {'audio': {'bytes': None, 'path': 'd:\\\\Programmierzeugs\\\\BirdSet\\\\data_birdset\\\\HSN_scape\\\\downloads\\\\extracted\\\\2fb6f48b55ef82b53f61a9930b5aaeed4e5b543e15b496539d6c6cc1737442a1\\\\HSN_080_20150712_070105_595_600.ogg'}, 'filepath': 'd:\\\\Programmierzeugs\\\\BirdSet\\\\data_birdset\\\\HSN_scape\\\\downloads\\\\extracted\\\\2fb6f48b55ef82b53f61a9930b5aaeed4e5b543e15b496539d6c6cc1737442a1\\\\HSN_080_20150712_070105_595_600.ogg', 'start_time': 0.0, 'end_time': 5.0, 'low_freq': None, 'high_freq': None, 'ebird_code': None, 'ebird_code_multilabel': [], 'ebird_code_secondary': None, 'call_type': None, 'sex': None, 'lat': 37.0, 'long': -118.5, 'length': None, 'microphone': 'Soundscape', 'license': 'Creative Commons Attribution 4.0 International Public License', 'source': 'https://zenodo.org/record/7525805', 'local_time': '7:14:17', 'detected_events': None, 'event_cluster': None, 'peaks': None, 'quality': None, 'recordist': None}\n",
      "test dataset:\n",
      " Dataset({\n",
      "    features: ['audio', 'filepath', 'start_time', 'end_time', 'low_freq', 'high_freq', 'ebird_code', 'ebird_code_multilabel', 'ebird_code_secondary', 'call_type', 'sex', 'lat', 'long', 'length', 'microphone', 'license', 'source', 'local_time', 'detected_events', 'event_cluster', 'peaks', 'quality', 'recordist'],\n",
      "    num_rows: 2400\n",
      "}) {'audio': {'bytes': None, 'path': 'd:\\\\Programmierzeugs\\\\BirdSet\\\\data_birdset\\\\HSN_scape\\\\downloads\\\\extracted\\\\2fb6f48b55ef82b53f61a9930b5aaeed4e5b543e15b496539d6c6cc1737442a1\\\\HSN_081_20150712_070805_000_005.ogg'}, 'filepath': 'd:\\\\Programmierzeugs\\\\BirdSet\\\\data_birdset\\\\HSN_scape\\\\downloads\\\\extracted\\\\2fb6f48b55ef82b53f61a9930b5aaeed4e5b543e15b496539d6c6cc1737442a1\\\\HSN_081_20150712_070805_000_005.ogg', 'start_time': 0.0, 'end_time': 5.0, 'low_freq': None, 'high_freq': None, 'ebird_code': None, 'ebird_code_multilabel': [], 'ebird_code_secondary': None, 'call_type': None, 'sex': None, 'lat': 37.0, 'long': -118.5, 'length': None, 'microphone': 'Soundscape', 'license': 'Creative Commons Attribution 4.0 International Public License', 'source': 'https://zenodo.org/record/7525805', 'local_time': '7:09:48', 'detected_events': None, 'event_cluster': None, 'peaks': None, 'quality': None, 'recordist': None}\n"
     ]
    },
    {
     "data": {
      "text/plain": [
       "DatasetDict({\n",
       "    train: Dataset({\n",
       "        features: ['audio', 'filepath', 'start_time', 'end_time', 'low_freq', 'high_freq', 'ebird_code', 'ebird_code_multilabel', 'ebird_code_secondary', 'call_type', 'sex', 'lat', 'long', 'length', 'microphone', 'license', 'source', 'local_time', 'detected_events', 'event_cluster', 'peaks', 'quality', 'recordist'],\n",
       "        num_rows: 9600\n",
       "    })\n",
       "    test: Dataset({\n",
       "        features: ['audio', 'filepath', 'start_time', 'end_time', 'low_freq', 'high_freq', 'ebird_code', 'ebird_code_multilabel', 'ebird_code_secondary', 'call_type', 'sex', 'lat', 'long', 'length', 'microphone', 'license', 'source', 'local_time', 'detected_events', 'event_cluster', 'peaks', 'quality', 'recordist'],\n",
       "        num_rows: 2400\n",
       "    })\n",
       "})"
      ]
     },
     "execution_count": 50,
     "metadata": {},
     "output_type": "execute_result"
    }
   ],
   "source": [
    "def get_file_comparison_name(path :str) -> str:\n",
    "    path = cut_underscores(path, 2)\n",
    "    return path\n",
    "\n",
    "num_rows = len(test_5s)\n",
    "print(f\"dataset length: {num_rows}\\n\")\n",
    "desired_train_split = 0.2\n",
    "desired_train_split_idx = int(num_rows * (1 - desired_train_split))\n",
    "\n",
    "filepath : str = test_5s[desired_train_split_idx][\"filepath\"]\n",
    "split_file = get_file_comparison_name(filepath)\n",
    "\n",
    "# since split shouldn't cut files in two find nearest index that's a different file\n",
    "bottom_idx = 0\n",
    "top_idx = num_rows-1\n",
    "\n",
    "for idx in range(desired_train_split_idx-1, -1, -1):\n",
    "    filepath_at_idx = test_5s[idx][\"filepath\"]\n",
    "    file_at_idx = get_file_comparison_name(filepath_at_idx)\n",
    "\n",
    "    if file_at_idx != split_file:\n",
    "        bottom_idx = idx\n",
    "        break\n",
    "\n",
    "for idx in range(desired_train_split_idx, num_rows):\n",
    "    filepath_at_idx = test_5s[idx][\"filepath\"]\n",
    "    file_at_idx = get_file_comparison_name(filepath_at_idx)\n",
    "\n",
    "    if file_at_idx != split_file:\n",
    "        top_idx = idx\n",
    "        break\n",
    "\n",
    "\n",
    "bottom_train_split = 1- (bottom_idx / num_rows)\n",
    "top_train_split = 1 - (top_idx / num_rows)\n",
    "print(f\"bottom split idx: {bottom_idx} \\ndata at idx: {test_5s[bottom_idx]}\\n\")\n",
    "print(f\"top split idx: {top_idx} \\ndata at idx: {test_5s[top_idx]}\\n\")\n",
    "print(f\"bottom split percentage: {bottom_train_split} \\ntop split percentage: {top_train_split}\\n\")\n",
    "\n",
    "# select nearest to desired split\n",
    "if bottom_train_split - desired_train_split > desired_train_split - top_train_split:\n",
    "    nearest_split_idx = top_idx\n",
    "else:\n",
    "    nearest_split_idx = bottom_idx\n",
    "\n",
    "train_split = test_5s.select(range(nearest_split_idx+1))\n",
    "test_split = test_5s.select(range(nearest_split_idx+1, num_rows))\n",
    "\n",
    "print(\"train dataset:\\n\" ,train_split, train_split[-1])\n",
    "print(\"test dataset:\\n\", test_split, test_split[0])\n",
    "\n",
    "hsn_p_test_5s_dataset_dict = DatasetDict({'train':train_split, 'test':test_split})\n",
    "hsn_p_test_5s_dataset_dict"
   ]
  },
  {
   "cell_type": "code",
   "execution_count": 19,
   "metadata": {},
   "outputs": [
    {
     "data": {
      "application/vnd.jupyter.widget-view+json": {
       "model_id": "74c1ee911a7d4932a20b6c7bfc48cbeb",
       "version_major": 2,
       "version_minor": 0
      },
      "text/plain": [
       "Uploading the dataset shards:   0%|          | 0/1 [00:00<?, ?it/s]"
      ]
     },
     "metadata": {},
     "output_type": "display_data"
    },
    {
     "data": {
      "application/vnd.jupyter.widget-view+json": {
       "model_id": "93e5c202d83a4116b3e7e6fda7192bb5",
       "version_major": 2,
       "version_minor": 0
      },
      "text/plain": [
       "Map:   0%|          | 0/9600 [00:00<?, ? examples/s]"
      ]
     },
     "metadata": {},
     "output_type": "display_data"
    },
    {
     "data": {
      "application/vnd.jupyter.widget-view+json": {
       "model_id": "b5835597e471412cbee0878547300e9d",
       "version_major": 2,
       "version_minor": 0
      },
      "text/plain": [
       "Creating parquet from Arrow format:   0%|          | 0/96 [00:00<?, ?ba/s]"
      ]
     },
     "metadata": {},
     "output_type": "display_data"
    },
    {
     "data": {
      "application/vnd.jupyter.widget-view+json": {
       "model_id": "da671ff6e0844047a4ff9a9bb389ae21",
       "version_major": 2,
       "version_minor": 0
      },
      "text/plain": [
       "Uploading the dataset shards:   0%|          | 0/1 [00:00<?, ?it/s]"
      ]
     },
     "metadata": {},
     "output_type": "display_data"
    },
    {
     "data": {
      "application/vnd.jupyter.widget-view+json": {
       "model_id": "a584cda4333b4a18b06196774575661b",
       "version_major": 2,
       "version_minor": 0
      },
      "text/plain": [
       "Map:   0%|          | 0/2400 [00:00<?, ? examples/s]"
      ]
     },
     "metadata": {},
     "output_type": "display_data"
    },
    {
     "data": {
      "application/vnd.jupyter.widget-view+json": {
       "model_id": "2c535a78418343bdb6187c939cefacb1",
       "version_major": 2,
       "version_minor": 0
      },
      "text/plain": [
       "Creating parquet from Arrow format:   0%|          | 0/24 [00:00<?, ?ba/s]"
      ]
     },
     "metadata": {},
     "output_type": "display_data"
    },
    {
     "data": {
      "application/vnd.jupyter.widget-view+json": {
       "model_id": "50df57dca218458c895ccbfad83033de",
       "version_major": 2,
       "version_minor": 0
      },
      "text/plain": [
       "README.md:   0%|          | 0.00/2.36k [00:00<?, ?B/s]"
      ]
     },
     "metadata": {},
     "output_type": "display_data"
    },
    {
     "data": {
      "text/plain": [
       "CommitInfo(commit_url='https://huggingface.co/datasets/DBD-research-group/soundscape_datasets/commit/97f15ddf02630bc5be2221e54bfb628b9cc694ce', commit_message='Upload dataset', commit_description='', oid='97f15ddf02630bc5be2221e54bfb628b9cc694ce', pr_url=None, pr_revision=None, pr_num=None)"
      ]
     },
     "execution_count": 19,
     "metadata": {},
     "output_type": "execute_result"
    }
   ],
   "source": [
    "#hsn_p_test_5s_dataset_dict.push_to_hub(repo_id=\"DBD-research-group/soundscape_datasets\", data_dir=\"HSN20p\")"
   ]
  },
  {
   "cell_type": "markdown",
   "metadata": {},
   "source": [
    "## Split by days"
   ]
  },
  {
   "cell_type": "code",
   "execution_count": 17,
   "metadata": {},
   "outputs": [
    {
     "name": "stdout",
     "output_type": "stream",
     "text": [
      "8879 20150711\n",
      "test percentage: 0.26\n",
      "Dataset({\n",
      "    features: ['audio', 'filepath', 'start_time', 'end_time', 'low_freq', 'high_freq', 'ebird_code', 'ebird_code_multilabel', 'ebird_code_secondary', 'call_type', 'sex', 'lat', 'long', 'length', 'microphone', 'license', 'source', 'local_time', 'detected_events', 'event_cluster', 'peaks', 'quality', 'recordist'],\n",
      "    num_rows: 8880\n",
      "}) {'audio': {'bytes': None, 'path': 'd:\\\\Programmierzeugs\\\\BirdSet\\\\data_birdset\\\\HSN_scape\\\\downloads\\\\extracted\\\\2fb6f48b55ef82b53f61a9930b5aaeed4e5b543e15b496539d6c6cc1737442a1\\\\HSN_074_20150711_090105_595_600.ogg'}, 'filepath': 'd:\\\\Programmierzeugs\\\\BirdSet\\\\data_birdset\\\\HSN_scape\\\\downloads\\\\extracted\\\\2fb6f48b55ef82b53f61a9930b5aaeed4e5b543e15b496539d6c6cc1737442a1\\\\HSN_074_20150711_090105_595_600.ogg', 'start_time': 0.0, 'end_time': 5.0, 'low_freq': None, 'high_freq': None, 'ebird_code': None, 'ebird_code_multilabel': [], 'ebird_code_secondary': None, 'call_type': None, 'sex': None, 'lat': 37.0, 'long': -118.5, 'length': None, 'microphone': 'Soundscape', 'license': 'Creative Commons Attribution 4.0 International Public License', 'source': 'https://zenodo.org/record/7525805', 'local_time': '9:11:00', 'detected_events': None, 'event_cluster': None, 'peaks': None, 'quality': None, 'recordist': None}\n",
      "Dataset({\n",
      "    features: ['audio', 'filepath', 'start_time', 'end_time', 'low_freq', 'high_freq', 'ebird_code', 'ebird_code_multilabel', 'ebird_code_secondary', 'call_type', 'sex', 'lat', 'long', 'length', 'microphone', 'license', 'source', 'local_time', 'detected_events', 'event_cluster', 'peaks', 'quality', 'recordist'],\n",
      "    num_rows: 3120\n",
      "}) {'audio': {'bytes': None, 'path': 'd:\\\\Programmierzeugs\\\\BirdSet\\\\data_birdset\\\\HSN_scape\\\\downloads\\\\extracted\\\\2fb6f48b55ef82b53f61a9930b5aaeed4e5b543e15b496539d6c6cc1737442a1\\\\HSN_075_20150712_060805_000_005.ogg'}, 'filepath': 'd:\\\\Programmierzeugs\\\\BirdSet\\\\data_birdset\\\\HSN_scape\\\\downloads\\\\extracted\\\\2fb6f48b55ef82b53f61a9930b5aaeed4e5b543e15b496539d6c6cc1737442a1\\\\HSN_075_20150712_060805_000_005.ogg', 'start_time': 0.0, 'end_time': 5.0, 'low_freq': None, 'high_freq': None, 'ebird_code': None, 'ebird_code_multilabel': [4, 1], 'ebird_code_secondary': None, 'call_type': None, 'sex': None, 'lat': 37.0, 'long': -118.5, 'length': None, 'microphone': 'Soundscape', 'license': 'Creative Commons Attribution 4.0 International Public License', 'source': 'https://zenodo.org/record/7525805', 'local_time': '6:08:05', 'detected_events': None, 'event_cluster': None, 'peaks': None, 'quality': None, 'recordist': None}\n"
     ]
    },
    {
     "data": {
      "text/plain": [
       "DatasetDict({\n",
       "    train: Dataset({\n",
       "        features: ['audio', 'filepath', 'start_time', 'end_time', 'low_freq', 'high_freq', 'ebird_code', 'ebird_code_multilabel', 'ebird_code_secondary', 'call_type', 'sex', 'lat', 'long', 'length', 'microphone', 'license', 'source', 'local_time', 'detected_events', 'event_cluster', 'peaks', 'quality', 'recordist'],\n",
       "        num_rows: 8880\n",
       "    })\n",
       "    test: Dataset({\n",
       "        features: ['audio', 'filepath', 'start_time', 'end_time', 'low_freq', 'high_freq', 'ebird_code', 'ebird_code_multilabel', 'ebird_code_secondary', 'call_type', 'sex', 'lat', 'long', 'length', 'microphone', 'license', 'source', 'local_time', 'detected_events', 'event_cluster', 'peaks', 'quality', 'recordist'],\n",
       "        num_rows: 3120\n",
       "    })\n",
       "})"
      ]
     },
     "execution_count": 17,
     "metadata": {},
     "output_type": "execute_result"
    }
   ],
   "source": [
    "num_rows = len(test_5s)\n",
    "\n",
    "filepath_at_idx = test_5s[num_rows-1][\"filepath\"]\n",
    "filepath_at_idx = cut_underscores(filepath_at_idx, 3)\n",
    "last_day = filepath_at_idx[-8:]\n",
    "day_count = 0\n",
    "split_idx = 0\n",
    "# since split shouldn't cut files find index of the last two days\n",
    "for idx in range(num_rows-1, -1, -1):\n",
    "    filepath_at_idx = test_5s[idx][\"filepath\"]\n",
    "    filepath_at_idx = cut_underscores(filepath_at_idx, 3)\n",
    "    day_at_idx = filepath_at_idx[-8:]\n",
    "\n",
    "    if last_day != day_at_idx:\n",
    "        day_count += 1\n",
    "        last_day = day_at_idx\n",
    "\n",
    "        if day_count >= 1:\n",
    "            split_idx = idx\n",
    "            break\n",
    "\n",
    "\n",
    "print(split_idx, last_day)\n",
    "\n",
    "train_split = test_5s.select(range(split_idx+1))\n",
    "test_split = test_5s.select(range(split_idx+1, num_rows))\n",
    "print(f\"test percentage: {len(test_split)/num_rows}\")\n",
    "\n",
    "print(train_split, train_split[-1])\n",
    "print(test_split, test_split[0])\n",
    "\n",
    "hsn_d_test_5s_dataset_dict = DatasetDict({'train':train_split, 'test':test_split})\n",
    "hsn_d_test_5s_dataset_dict"
   ]
  },
  {
   "cell_type": "code",
   "execution_count": 21,
   "metadata": {},
   "outputs": [
    {
     "data": {
      "application/vnd.jupyter.widget-view+json": {
       "model_id": "167aff44387849f1964a47525e741b52",
       "version_major": 2,
       "version_minor": 0
      },
      "text/plain": [
       "Uploading the dataset shards:   0%|          | 0/1 [00:00<?, ?it/s]"
      ]
     },
     "metadata": {},
     "output_type": "display_data"
    },
    {
     "data": {
      "application/vnd.jupyter.widget-view+json": {
       "model_id": "504e0c16887b46d698b20faf05301c23",
       "version_major": 2,
       "version_minor": 0
      },
      "text/plain": [
       "Map:   0%|          | 0/8880 [00:00<?, ? examples/s]"
      ]
     },
     "metadata": {},
     "output_type": "display_data"
    },
    {
     "data": {
      "application/vnd.jupyter.widget-view+json": {
       "model_id": "5d6563c4f06d442b8ccabb6d6e0fd943",
       "version_major": 2,
       "version_minor": 0
      },
      "text/plain": [
       "Creating parquet from Arrow format:   0%|          | 0/89 [00:00<?, ?ba/s]"
      ]
     },
     "metadata": {},
     "output_type": "display_data"
    },
    {
     "data": {
      "application/vnd.jupyter.widget-view+json": {
       "model_id": "2401e102dbf344149f818d7dc4c046c7",
       "version_major": 2,
       "version_minor": 0
      },
      "text/plain": [
       "Uploading the dataset shards:   0%|          | 0/1 [00:00<?, ?it/s]"
      ]
     },
     "metadata": {},
     "output_type": "display_data"
    },
    {
     "data": {
      "application/vnd.jupyter.widget-view+json": {
       "model_id": "59500c7cff2640dea94da34f735e7007",
       "version_major": 2,
       "version_minor": 0
      },
      "text/plain": [
       "Map:   0%|          | 0/3120 [00:00<?, ? examples/s]"
      ]
     },
     "metadata": {},
     "output_type": "display_data"
    },
    {
     "data": {
      "application/vnd.jupyter.widget-view+json": {
       "model_id": "df2b54ba8c7d4d8695249446a3d9ec0d",
       "version_major": 2,
       "version_minor": 0
      },
      "text/plain": [
       "Creating parquet from Arrow format:   0%|          | 0/32 [00:00<?, ?ba/s]"
      ]
     },
     "metadata": {},
     "output_type": "display_data"
    },
    {
     "data": {
      "application/vnd.jupyter.widget-view+json": {
       "model_id": "782d0c0565b54b25994ab0c7c0108a89",
       "version_major": 2,
       "version_minor": 0
      },
      "text/plain": [
       "README.md:   0%|          | 0.00/2.35k [00:00<?, ?B/s]"
      ]
     },
     "metadata": {},
     "output_type": "display_data"
    },
    {
     "data": {
      "text/plain": [
       "CommitInfo(commit_url='https://huggingface.co/datasets/DBD-research-group/soundscape_datasets/commit/f57db9178e1f994300dc94af36bc0d00ea0a55a7', commit_message='Upload dataset', commit_description='', oid='f57db9178e1f994300dc94af36bc0d00ea0a55a7', pr_url=None, pr_revision=None, pr_num=None)"
      ]
     },
     "execution_count": 21,
     "metadata": {},
     "output_type": "execute_result"
    }
   ],
   "source": [
    "#hsn_d_test_5s_dataset_dict.push_to_hub(repo_id=\"DBD-research-group/soundscape_datasets\", data_dir=\"HSN1d\")"
   ]
  },
  {
   "cell_type": "markdown",
   "metadata": {},
   "source": [
    "# PER"
   ]
  },
  {
   "cell_type": "code",
   "execution_count": 18,
   "metadata": {},
   "outputs": [
    {
     "name": "stderr",
     "output_type": "stream",
     "text": [
      "c:\\Users\\feier\\miniconda3\\envs\\birdset\\lib\\site-packages\\datasets\\load.py:1486: FutureWarning: The repository for DBD-research-group/BirdSet contains custom code which must be executed to correctly load the dataset. You can inspect the repository content at https://hf.co/datasets/DBD-research-group/BirdSet\n",
      "You can avoid this message in future by passing the argument `trust_remote_code=True`.\n",
      "Passing `trust_remote_code=True` will be mandatory to load this dataset from the next major release of `datasets`.\n",
      "  warnings.warn(\n"
     ]
    },
    {
     "name": "stdout",
     "output_type": "stream",
     "text": [
      "DatasetDict({\n",
      "    test: Dataset({\n",
      "        features: ['audio', 'filepath', 'start_time', 'end_time', 'low_freq', 'high_freq', 'ebird_code', 'ebird_code_multilabel', 'ebird_code_secondary', 'call_type', 'sex', 'lat', 'long', 'length', 'microphone', 'license', 'source', 'local_time', 'detected_events', 'event_cluster', 'peaks', 'quality', 'recordist'],\n",
      "        num_rows: 14798\n",
      "    })\n",
      "    test_5s: Dataset({\n",
      "        features: ['audio', 'filepath', 'start_time', 'end_time', 'low_freq', 'high_freq', 'ebird_code', 'ebird_code_multilabel', 'ebird_code_secondary', 'call_type', 'sex', 'lat', 'long', 'length', 'microphone', 'license', 'source', 'local_time', 'detected_events', 'event_cluster', 'peaks', 'quality', 'recordist'],\n",
      "        num_rows: 15120\n",
      "    })\n",
      "})\n"
     ]
    },
    {
     "data": {
      "text/plain": [
       "{'audio': {'bytes': None,\n",
       "  'path': 'd:\\\\Programmierzeugs\\\\BirdSet\\\\data_birdset\\\\PER_scape\\\\downloads\\\\extracted\\\\b24997398af0755440a33aea225001367c06bf4d223d29e4eaad2901780706f4\\\\PER_001_S01_20190116_100007Z_000_005.ogg'},\n",
       " 'filepath': 'd:\\\\Programmierzeugs\\\\BirdSet\\\\data_birdset\\\\PER_scape\\\\downloads\\\\extracted\\\\b24997398af0755440a33aea225001367c06bf4d223d29e4eaad2901780706f4\\\\PER_001_S01_20190116_100007Z_000_005.ogg',\n",
       " 'start_time': 0.0,\n",
       " 'end_time': 5.0,\n",
       " 'low_freq': None,\n",
       " 'high_freq': None,\n",
       " 'ebird_code': None,\n",
       " 'ebird_code_multilabel': [],\n",
       " 'ebird_code_secondary': None,\n",
       " 'call_type': None,\n",
       " 'sex': None,\n",
       " 'lat': -12.542578,\n",
       " 'long': -69.06205,\n",
       " 'length': None,\n",
       " 'microphone': 'Soundscape',\n",
       " 'license': 'Creative Commons Attribution 4.0 International Public License',\n",
       " 'source': 'https://zenodo.org/record/7079124',\n",
       " 'local_time': '10:09:06',\n",
       " 'detected_events': None,\n",
       " 'event_cluster': None,\n",
       " 'peaks': None,\n",
       " 'quality': None,\n",
       " 'recordist': None}"
      ]
     },
     "execution_count": 18,
     "metadata": {},
     "output_type": "execute_result"
    }
   ],
   "source": [
    "dataset = get_dataset(\"PER_scape\")\n",
    "test_5s = dataset[\"test_5s\"]\n",
    "print(dataset)\n",
    "next(iter(test_5s))"
   ]
  },
  {
   "cell_type": "markdown",
   "metadata": {},
   "source": [
    "## Split by days\n",
    "\n",
    "Splitting by percentage doesn't really make sense here because of the 7 different sites."
   ]
  },
  {
   "cell_type": "code",
   "execution_count": 19,
   "metadata": {},
   "outputs": [
    {
     "name": "stdout",
     "output_type": "stream",
     "text": [
      "10079 20190120\n",
      "test percentage: 0.3333333333333333\n",
      "Dataset({\n",
      "    features: ['audio', 'filepath', 'start_time', 'end_time', 'low_freq', 'high_freq', 'ebird_code', 'ebird_code_multilabel', 'ebird_code_secondary', 'call_type', 'sex', 'lat', 'long', 'length', 'microphone', 'license', 'source', 'local_time', 'detected_events', 'event_cluster', 'peaks', 'quality', 'recordist'],\n",
      "    num_rows: 10080\n",
      "}) {'audio': {'bytes': None, 'path': 'd:\\\\Programmierzeugs\\\\BirdSet\\\\data_birdset\\\\PER_scape\\\\downloads\\\\extracted\\\\b24997398af0755440a33aea225001367c06bf4d223d29e4eaad2901780706f4\\\\PER_014_S10_20190120_100007Z_3595_3600.ogg'}, 'filepath': 'd:\\\\Programmierzeugs\\\\BirdSet\\\\data_birdset\\\\PER_scape\\\\downloads\\\\extracted\\\\b24997398af0755440a33aea225001367c06bf4d223d29e4eaad2901780706f4\\\\PER_014_S10_20190120_100007Z_3595_3600.ogg', 'start_time': 0.0, 'end_time': 5.0, 'low_freq': None, 'high_freq': None, 'ebird_code': None, 'ebird_code_multilabel': [18, 121, 85, 116], 'ebird_code_secondary': None, 'call_type': None, 'sex': None, 'lat': -12.522983, 'long': -69.046822, 'length': None, 'microphone': 'Soundscape', 'license': 'Creative Commons Attribution 4.0 International Public License', 'source': 'https://zenodo.org/record/7079124', 'local_time': '11:03:14', 'detected_events': None, 'event_cluster': None, 'peaks': None, 'quality': None, 'recordist': None}\n",
      "Dataset({\n",
      "    features: ['audio', 'filepath', 'start_time', 'end_time', 'low_freq', 'high_freq', 'ebird_code', 'ebird_code_multilabel', 'ebird_code_secondary', 'call_type', 'sex', 'lat', 'long', 'length', 'microphone', 'license', 'source', 'local_time', 'detected_events', 'event_cluster', 'peaks', 'quality', 'recordist'],\n",
      "    num_rows: 5040\n",
      "}) {'audio': {'bytes': None, 'path': 'd:\\\\Programmierzeugs\\\\BirdSet\\\\data_birdset\\\\PER_scape\\\\downloads\\\\extracted\\\\b24997398af0755440a33aea225001367c06bf4d223d29e4eaad2901780706f4\\\\PER_015_S01_20190131_100007Z_000_005.ogg'}, 'filepath': 'd:\\\\Programmierzeugs\\\\BirdSet\\\\data_birdset\\\\PER_scape\\\\downloads\\\\extracted\\\\b24997398af0755440a33aea225001367c06bf4d223d29e4eaad2901780706f4\\\\PER_015_S01_20190131_100007Z_000_005.ogg', 'start_time': 0.0, 'end_time': 5.0, 'low_freq': None, 'high_freq': None, 'ebird_code': None, 'ebird_code_multilabel': [], 'ebird_code_secondary': None, 'call_type': None, 'sex': None, 'lat': -12.542578, 'long': -69.06205, 'length': None, 'microphone': 'Soundscape', 'license': 'Creative Commons Attribution 4.0 International Public License', 'source': 'https://zenodo.org/record/7079124', 'local_time': '10:29:10', 'detected_events': None, 'event_cluster': None, 'peaks': None, 'quality': None, 'recordist': None}\n"
     ]
    },
    {
     "data": {
      "text/plain": [
       "DatasetDict({\n",
       "    train: Dataset({\n",
       "        features: ['audio', 'filepath', 'start_time', 'end_time', 'low_freq', 'high_freq', 'ebird_code', 'ebird_code_multilabel', 'ebird_code_secondary', 'call_type', 'sex', 'lat', 'long', 'length', 'microphone', 'license', 'source', 'local_time', 'detected_events', 'event_cluster', 'peaks', 'quality', 'recordist'],\n",
       "        num_rows: 10080\n",
       "    })\n",
       "    test: Dataset({\n",
       "        features: ['audio', 'filepath', 'start_time', 'end_time', 'low_freq', 'high_freq', 'ebird_code', 'ebird_code_multilabel', 'ebird_code_secondary', 'call_type', 'sex', 'lat', 'long', 'length', 'microphone', 'license', 'source', 'local_time', 'detected_events', 'event_cluster', 'peaks', 'quality', 'recordist'],\n",
       "        num_rows: 5040\n",
       "    })\n",
       "})"
      ]
     },
     "execution_count": 19,
     "metadata": {},
     "output_type": "execute_result"
    }
   ],
   "source": [
    "num_rows = len(test_5s)\n",
    "\n",
    "filepath_at_idx = test_5s[num_rows-1][\"filepath\"]\n",
    "filepath_at_idx = cut_underscores(filepath_at_idx, 3)\n",
    "last_day = filepath_at_idx[-8:]\n",
    "day_count = 0\n",
    "split_idx = 0\n",
    "# since split shouldn't cut files find index of the last two days\n",
    "for idx in range(num_rows-1, -1, -1):\n",
    "    filepath_at_idx = test_5s[idx][\"filepath\"]\n",
    "    filepath_at_idx = cut_underscores(filepath_at_idx, 3)\n",
    "    day_at_idx = filepath_at_idx[-8:]\n",
    "\n",
    "    if last_day != day_at_idx:\n",
    "        day_count += 1\n",
    "        last_day = day_at_idx\n",
    "\n",
    "        if day_count >= 1:\n",
    "            split_idx = idx\n",
    "            break\n",
    "\n",
    "\n",
    "print(split_idx, last_day)\n",
    "\n",
    "train_split = test_5s.select(range(split_idx+1))\n",
    "test_split = test_5s.select(range(split_idx+1, num_rows))\n",
    "print(f\"test percentage: {len(test_split)/num_rows}\")\n",
    "\n",
    "print(train_split, train_split[-1])\n",
    "print(test_split, test_split[0])\n",
    "\n",
    "per_test_5s_dataset_dict = DatasetDict({'train':train_split, 'test':test_split})\n",
    "per_test_5s_dataset_dict"
   ]
  },
  {
   "cell_type": "code",
   "execution_count": 27,
   "metadata": {},
   "outputs": [
    {
     "data": {
      "application/vnd.jupyter.widget-view+json": {
       "model_id": "7c653e3e7f074ce18412bb1a823d413b",
       "version_major": 2,
       "version_minor": 0
      },
      "text/plain": [
       "Uploading the dataset shards:   0%|          | 0/1 [00:00<?, ?it/s]"
      ]
     },
     "metadata": {},
     "output_type": "display_data"
    },
    {
     "data": {
      "application/vnd.jupyter.widget-view+json": {
       "model_id": "374855e2884f4a4ea5e35e1a3796de17",
       "version_major": 2,
       "version_minor": 0
      },
      "text/plain": [
       "Map:   0%|          | 0/10080 [00:00<?, ? examples/s]"
      ]
     },
     "metadata": {},
     "output_type": "display_data"
    },
    {
     "data": {
      "application/vnd.jupyter.widget-view+json": {
       "model_id": "2e467500e4064cc6a298dc679c270968",
       "version_major": 2,
       "version_minor": 0
      },
      "text/plain": [
       "Creating parquet from Arrow format:   0%|          | 0/101 [00:00<?, ?ba/s]"
      ]
     },
     "metadata": {},
     "output_type": "display_data"
    },
    {
     "data": {
      "application/vnd.jupyter.widget-view+json": {
       "model_id": "b83712fcfcbd48539e428602483d0856",
       "version_major": 2,
       "version_minor": 0
      },
      "text/plain": [
       "Uploading the dataset shards:   0%|          | 0/1 [00:00<?, ?it/s]"
      ]
     },
     "metadata": {},
     "output_type": "display_data"
    },
    {
     "data": {
      "application/vnd.jupyter.widget-view+json": {
       "model_id": "2ac7db32a79c48b4a3099a04770aa923",
       "version_major": 2,
       "version_minor": 0
      },
      "text/plain": [
       "Map:   0%|          | 0/5040 [00:00<?, ? examples/s]"
      ]
     },
     "metadata": {},
     "output_type": "display_data"
    },
    {
     "data": {
      "application/vnd.jupyter.widget-view+json": {
       "model_id": "6d77d5a05b4d41b7b8f49b21ec7a5981",
       "version_major": 2,
       "version_minor": 0
      },
      "text/plain": [
       "Creating parquet from Arrow format:   0%|          | 0/51 [00:00<?, ?ba/s]"
      ]
     },
     "metadata": {},
     "output_type": "display_data"
    },
    {
     "data": {
      "application/vnd.jupyter.widget-view+json": {
       "model_id": "99a3454376504368ad37f195f8c9ab64",
       "version_major": 2,
       "version_minor": 0
      },
      "text/plain": [
       "README.md:   0%|          | 0.00/2.54k [00:00<?, ?B/s]"
      ]
     },
     "metadata": {},
     "output_type": "display_data"
    },
    {
     "data": {
      "text/plain": [
       "CommitInfo(commit_url='https://huggingface.co/datasets/DBD-research-group/soundscape_datasets/commit/715d1518b6c72959fe397725c698486a896cbe38', commit_message='Upload dataset', commit_description='', oid='715d1518b6c72959fe397725c698486a896cbe38', pr_url=None, pr_revision=None, pr_num=None)"
      ]
     },
     "execution_count": 27,
     "metadata": {},
     "output_type": "execute_result"
    }
   ],
   "source": [
    "#per_test_5s_dataset_dict.push_to_hub(repo_id=\"DBD-research-group/soundscape_datasets\", data_dir=\"PER1d\")"
   ]
  },
  {
   "cell_type": "markdown",
   "metadata": {},
   "source": [
    "# POW"
   ]
  },
  {
   "cell_type": "code",
   "execution_count": 51,
   "metadata": {},
   "outputs": [
    {
     "name": "stderr",
     "output_type": "stream",
     "text": [
      "c:\\Users\\feier\\miniconda3\\envs\\birdset\\lib\\site-packages\\datasets\\load.py:1486: FutureWarning: The repository for DBD-research-group/BirdSet contains custom code which must be executed to correctly load the dataset. You can inspect the repository content at https://hf.co/datasets/DBD-research-group/BirdSet\n",
      "You can avoid this message in future by passing the argument `trust_remote_code=True`.\n",
      "Passing `trust_remote_code=True` will be mandatory to load this dataset from the next major release of `datasets`.\n",
      "  warnings.warn(\n"
     ]
    },
    {
     "name": "stdout",
     "output_type": "stream",
     "text": [
      "DatasetDict({\n",
      "    test: Dataset({\n",
      "        features: ['audio', 'filepath', 'start_time', 'end_time', 'low_freq', 'high_freq', 'ebird_code', 'ebird_code_multilabel', 'ebird_code_secondary', 'call_type', 'sex', 'lat', 'long', 'length', 'microphone', 'license', 'source', 'local_time', 'detected_events', 'event_cluster', 'peaks', 'quality', 'recordist'],\n",
      "        num_rows: 16052\n",
      "    })\n",
      "    test_5s: Dataset({\n",
      "        features: ['audio', 'filepath', 'start_time', 'end_time', 'low_freq', 'high_freq', 'ebird_code', 'ebird_code_multilabel', 'ebird_code_secondary', 'call_type', 'sex', 'lat', 'long', 'length', 'microphone', 'license', 'source', 'local_time', 'detected_events', 'event_cluster', 'peaks', 'quality', 'recordist'],\n",
      "        num_rows: 4560\n",
      "    })\n",
      "})\n"
     ]
    },
    {
     "data": {
      "text/plain": [
       "{'audio': {'bytes': None,\n",
       "  'path': 'd:\\\\Programmierzeugs\\\\BirdSet\\\\data_birdset\\\\POW_scape\\\\downloads\\\\extracted\\\\1d1d71a319ec3ba6a0ac229cb24efaf5f9180f58e9fdc408e5e4959dc9d02bc0\\\\Recording_1_Segment_03_000_005.ogg'},\n",
       " 'filepath': 'd:\\\\Programmierzeugs\\\\BirdSet\\\\data_birdset\\\\POW_scape\\\\downloads\\\\extracted\\\\1d1d71a319ec3ba6a0ac229cb24efaf5f9180f58e9fdc408e5e4959dc9d02bc0\\\\Recording_1_Segment_03_000_005.ogg',\n",
       " 'start_time': 0.0,\n",
       " 'end_time': 5.0,\n",
       " 'low_freq': None,\n",
       " 'high_freq': None,\n",
       " 'ebird_code': None,\n",
       " 'ebird_code_multilabel': [],\n",
       " 'ebird_code_secondary': None,\n",
       " 'call_type': None,\n",
       " 'sex': None,\n",
       " 'lat': 40.1602,\n",
       " 'long': -79.2719,\n",
       " 'length': None,\n",
       " 'microphone': 'Soundscape (AudioMoths)',\n",
       " 'license': 'Creative Commons Zero v1.0 Universal',\n",
       " 'source': 'https://zenodo.org/record/4656848',\n",
       " 'local_time': '5:47:07',\n",
       " 'detected_events': None,\n",
       " 'event_cluster': None,\n",
       " 'peaks': None,\n",
       " 'quality': None,\n",
       " 'recordist': None}"
      ]
     },
     "execution_count": 51,
     "metadata": {},
     "output_type": "execute_result"
    }
   ],
   "source": [
    "dataset = get_dataset(\"POW_scape\")\n",
    "test_5s = dataset[\"test_5s\"]\n",
    "print(dataset)\n",
    "next(iter(test_5s))"
   ]
  },
  {
   "cell_type": "markdown",
   "metadata": {},
   "source": [
    "## Split by percentage"
   ]
  },
  {
   "cell_type": "code",
   "execution_count": 52,
   "metadata": {},
   "outputs": [
    {
     "name": "stdout",
     "output_type": "stream",
     "text": [
      "dataset length: 4560\n",
      "\n",
      "bottom split idx: 2999 \n",
      "data at idx: {'audio': {'bytes': None, 'path': 'd:\\\\Programmierzeugs\\\\BirdSet\\\\data_birdset\\\\POW_scape\\\\downloads\\\\extracted\\\\1d1d71a319ec3ba6a0ac229cb24efaf5f9180f58e9fdc408e5e4959dc9d02bc0\\\\Recording_3_Segment_01_295_300.ogg'}, 'filepath': 'd:\\\\Programmierzeugs\\\\BirdSet\\\\data_birdset\\\\POW_scape\\\\downloads\\\\extracted\\\\1d1d71a319ec3ba6a0ac229cb24efaf5f9180f58e9fdc408e5e4959dc9d02bc0\\\\Recording_3_Segment_01_295_300.ogg', 'start_time': 0.0, 'end_time': 5.0, 'low_freq': None, 'high_freq': None, 'ebird_code': None, 'ebird_code_multilabel': [26, 32, 18], 'ebird_code_secondary': None, 'call_type': None, 'sex': None, 'lat': 40.1602, 'long': -79.2719, 'length': None, 'microphone': 'Soundscape (AudioMoths)', 'license': 'Creative Commons Zero v1.0 Universal', 'source': 'https://zenodo.org/record/4656848', 'local_time': '5:26:55', 'detected_events': None, 'event_cluster': None, 'peaks': None, 'quality': None, 'recordist': None}\n",
      "\n",
      "top split idx: 4559 \n",
      "data at idx: {'audio': {'bytes': None, 'path': 'd:\\\\Programmierzeugs\\\\BirdSet\\\\data_birdset\\\\POW_scape\\\\downloads\\\\extracted\\\\1d1d71a319ec3ba6a0ac229cb24efaf5f9180f58e9fdc408e5e4959dc9d02bc0\\\\Recording_4_Segment_10_295_300.ogg'}, 'filepath': 'd:\\\\Programmierzeugs\\\\BirdSet\\\\data_birdset\\\\POW_scape\\\\downloads\\\\extracted\\\\1d1d71a319ec3ba6a0ac229cb24efaf5f9180f58e9fdc408e5e4959dc9d02bc0\\\\Recording_4_Segment_10_295_300.ogg', 'start_time': 0.0, 'end_time': 5.0, 'low_freq': None, 'high_freq': None, 'ebird_code': None, 'ebird_code_multilabel': [], 'ebird_code_secondary': None, 'call_type': None, 'sex': None, 'lat': 40.1602, 'long': -79.2719, 'length': None, 'microphone': 'Soundscape (AudioMoths)', 'license': 'Creative Commons Zero v1.0 Universal', 'source': 'https://zenodo.org/record/4656848', 'local_time': '7:13:55', 'detected_events': None, 'event_cluster': None, 'peaks': None, 'quality': None, 'recordist': None}\n",
      "\n",
      "bottom split percentage: 0.34232456140350875 \n",
      "top split percentage: 0.00021929824561406353\n",
      "\n",
      "Dataset({\n",
      "    features: ['audio', 'filepath', 'start_time', 'end_time', 'low_freq', 'high_freq', 'ebird_code', 'ebird_code_multilabel', 'ebird_code_secondary', 'call_type', 'sex', 'lat', 'long', 'length', 'microphone', 'license', 'source', 'local_time', 'detected_events', 'event_cluster', 'peaks', 'quality', 'recordist'],\n",
      "    num_rows: 3000\n",
      "}) {'audio': {'bytes': None, 'path': 'd:\\\\Programmierzeugs\\\\BirdSet\\\\data_birdset\\\\POW_scape\\\\downloads\\\\extracted\\\\1d1d71a319ec3ba6a0ac229cb24efaf5f9180f58e9fdc408e5e4959dc9d02bc0\\\\Recording_3_Segment_01_295_300.ogg'}, 'filepath': 'd:\\\\Programmierzeugs\\\\BirdSet\\\\data_birdset\\\\POW_scape\\\\downloads\\\\extracted\\\\1d1d71a319ec3ba6a0ac229cb24efaf5f9180f58e9fdc408e5e4959dc9d02bc0\\\\Recording_3_Segment_01_295_300.ogg', 'start_time': 0.0, 'end_time': 5.0, 'low_freq': None, 'high_freq': None, 'ebird_code': None, 'ebird_code_multilabel': [26, 32, 18], 'ebird_code_secondary': None, 'call_type': None, 'sex': None, 'lat': 40.1602, 'long': -79.2719, 'length': None, 'microphone': 'Soundscape (AudioMoths)', 'license': 'Creative Commons Zero v1.0 Universal', 'source': 'https://zenodo.org/record/4656848', 'local_time': '5:26:55', 'detected_events': None, 'event_cluster': None, 'peaks': None, 'quality': None, 'recordist': None}\n",
      "Dataset({\n",
      "    features: ['audio', 'filepath', 'start_time', 'end_time', 'low_freq', 'high_freq', 'ebird_code', 'ebird_code_multilabel', 'ebird_code_secondary', 'call_type', 'sex', 'lat', 'long', 'length', 'microphone', 'license', 'source', 'local_time', 'detected_events', 'event_cluster', 'peaks', 'quality', 'recordist'],\n",
      "    num_rows: 1560\n",
      "}) {'audio': {'bytes': None, 'path': 'd:\\\\Programmierzeugs\\\\BirdSet\\\\data_birdset\\\\POW_scape\\\\downloads\\\\extracted\\\\1d1d71a319ec3ba6a0ac229cb24efaf5f9180f58e9fdc408e5e4959dc9d02bc0\\\\Recording_4_Segment_04_000_005.ogg'}, 'filepath': 'd:\\\\Programmierzeugs\\\\BirdSet\\\\data_birdset\\\\POW_scape\\\\downloads\\\\extracted\\\\1d1d71a319ec3ba6a0ac229cb24efaf5f9180f58e9fdc408e5e4959dc9d02bc0\\\\Recording_4_Segment_04_000_005.ogg', 'start_time': 0.0, 'end_time': 5.0, 'low_freq': None, 'high_freq': None, 'ebird_code': None, 'ebird_code_multilabel': [26, 13], 'ebird_code_secondary': None, 'call_type': None, 'sex': None, 'lat': 40.1602, 'long': -79.2719, 'length': None, 'microphone': 'Soundscape (AudioMoths)', 'license': 'Creative Commons Zero v1.0 Universal', 'source': 'https://zenodo.org/record/4656848', 'local_time': '6:39:00', 'detected_events': None, 'event_cluster': None, 'peaks': None, 'quality': None, 'recordist': None}\n"
     ]
    },
    {
     "data": {
      "text/plain": [
       "DatasetDict({\n",
       "    train: Dataset({\n",
       "        features: ['audio', 'filepath', 'start_time', 'end_time', 'low_freq', 'high_freq', 'ebird_code', 'ebird_code_multilabel', 'ebird_code_secondary', 'call_type', 'sex', 'lat', 'long', 'length', 'microphone', 'license', 'source', 'local_time', 'detected_events', 'event_cluster', 'peaks', 'quality', 'recordist'],\n",
       "        num_rows: 3000\n",
       "    })\n",
       "    test: Dataset({\n",
       "        features: ['audio', 'filepath', 'start_time', 'end_time', 'low_freq', 'high_freq', 'ebird_code', 'ebird_code_multilabel', 'ebird_code_secondary', 'call_type', 'sex', 'lat', 'long', 'length', 'microphone', 'license', 'source', 'local_time', 'detected_events', 'event_cluster', 'peaks', 'quality', 'recordist'],\n",
       "        num_rows: 1560\n",
       "    })\n",
       "})"
      ]
     },
     "execution_count": 52,
     "metadata": {},
     "output_type": "execute_result"
    }
   ],
   "source": [
    "def get_file_comparison_name(path :str) -> str:\n",
    "    path = cut_underscores(path, 4)\n",
    "    return path\n",
    "\n",
    "\n",
    "num_rows = len(test_5s)\n",
    "print(f\"dataset length: {num_rows}\\n\")\n",
    "desired_train_split = 0.2\n",
    "desired_train_split_idx = int(num_rows * (1 - desired_train_split))\n",
    "\n",
    "filepath : str = test_5s[desired_train_split_idx][\"filepath\"]\n",
    "split_file = get_file_comparison_name(filepath)\n",
    "\n",
    "# since split shouldn't cut files in two find nearest index that's a different file\n",
    "bottom_idx = 0\n",
    "top_idx = num_rows-1\n",
    "\n",
    "for idx in range(desired_train_split_idx-1, -1, -1):\n",
    "    filepath_at_idx = test_5s[idx][\"filepath\"]\n",
    "    file_at_idx = get_file_comparison_name(filepath_at_idx)\n",
    "\n",
    "    if file_at_idx != split_file:\n",
    "        bottom_idx = idx\n",
    "        break\n",
    "\n",
    "for idx in range(desired_train_split_idx, num_rows):\n",
    "    filepath_at_idx = test_5s[idx][\"filepath\"]\n",
    "    file_at_idx = get_file_comparison_name(filepath_at_idx)\n",
    "\n",
    "    if file_at_idx != split_file:\n",
    "        top_idx = idx\n",
    "        break\n",
    "\n",
    "bottom_train_split = 1- (bottom_idx / num_rows)\n",
    "top_train_split = 1 - (top_idx / num_rows)\n",
    "print(f\"bottom split idx: {bottom_idx} \\ndata at idx: {test_5s[bottom_idx]}\\n\")\n",
    "print(f\"top split idx: {top_idx} \\ndata at idx: {test_5s[top_idx]}\\n\")\n",
    "print(f\"bottom split percentage: {bottom_train_split} \\ntop split percentage: {top_train_split}\\n\")\n",
    "\n",
    "# select nearest to desired split\n",
    "if bottom_train_split - desired_train_split > desired_train_split - top_train_split:\n",
    "    nearest_split_idx = top_idx\n",
    "else:\n",
    "    nearest_split_idx = bottom_idx\n",
    "\n",
    "train_split = test_5s.select(range(nearest_split_idx+1))\n",
    "test_split = test_5s.select(range(nearest_split_idx+1, num_rows))\n",
    "\n",
    "print(train_split, train_split[-1])\n",
    "print(test_split, test_split[0])\n",
    "\n",
    "pow_p_test_5s_dataset_dict = DatasetDict({'train':train_split, 'test':test_split})\n",
    "pow_p_test_5s_dataset_dict"
   ]
  },
  {
   "cell_type": "code",
   "execution_count": 33,
   "metadata": {},
   "outputs": [
    {
     "data": {
      "application/vnd.jupyter.widget-view+json": {
       "model_id": "7f1e68fe54bd406ead002b11393b0892",
       "version_major": 2,
       "version_minor": 0
      },
      "text/plain": [
       "Uploading the dataset shards:   0%|          | 0/1 [00:00<?, ?it/s]"
      ]
     },
     "metadata": {},
     "output_type": "display_data"
    },
    {
     "data": {
      "application/vnd.jupyter.widget-view+json": {
       "model_id": "559d02a395be4bb6853ebf69c5b0e5cb",
       "version_major": 2,
       "version_minor": 0
      },
      "text/plain": [
       "Map:   0%|          | 0/3000 [00:00<?, ? examples/s]"
      ]
     },
     "metadata": {},
     "output_type": "display_data"
    },
    {
     "data": {
      "application/vnd.jupyter.widget-view+json": {
       "model_id": "fa6f5c184d254c86b92cb192d23efde8",
       "version_major": 2,
       "version_minor": 0
      },
      "text/plain": [
       "Creating parquet from Arrow format:   0%|          | 0/30 [00:00<?, ?ba/s]"
      ]
     },
     "metadata": {},
     "output_type": "display_data"
    },
    {
     "data": {
      "application/vnd.jupyter.widget-view+json": {
       "model_id": "f7dc95ce40414e9b8bcd77071ca19259",
       "version_major": 2,
       "version_minor": 0
      },
      "text/plain": [
       "Uploading the dataset shards:   0%|          | 0/1 [00:00<?, ?it/s]"
      ]
     },
     "metadata": {},
     "output_type": "display_data"
    },
    {
     "data": {
      "application/vnd.jupyter.widget-view+json": {
       "model_id": "a8f5a42a167844078ab8c11042dbba8a",
       "version_major": 2,
       "version_minor": 0
      },
      "text/plain": [
       "Map:   0%|          | 0/1560 [00:00<?, ? examples/s]"
      ]
     },
     "metadata": {},
     "output_type": "display_data"
    },
    {
     "data": {
      "application/vnd.jupyter.widget-view+json": {
       "model_id": "49ebc42582744184a9ced9c290dec803",
       "version_major": 2,
       "version_minor": 0
      },
      "text/plain": [
       "Creating parquet from Arrow format:   0%|          | 0/16 [00:00<?, ?ba/s]"
      ]
     },
     "metadata": {},
     "output_type": "display_data"
    },
    {
     "data": {
      "application/vnd.jupyter.widget-view+json": {
       "model_id": "0dbfb111b0f64204b02c121f244ba588",
       "version_major": 2,
       "version_minor": 0
      },
      "text/plain": [
       "README.md:   0%|          | 0.00/8.07k [00:00<?, ?B/s]"
      ]
     },
     "metadata": {},
     "output_type": "display_data"
    },
    {
     "data": {
      "text/plain": [
       "CommitInfo(commit_url='https://huggingface.co/datasets/DBD-research-group/soundscape_datasets/commit/3063220faaca003cabf61f649c3570eab565abaf', commit_message='Upload dataset', commit_description='', oid='3063220faaca003cabf61f649c3570eab565abaf', pr_url=None, pr_revision=None, pr_num=None)"
      ]
     },
     "execution_count": 33,
     "metadata": {},
     "output_type": "execute_result"
    }
   ],
   "source": [
    "#pow_p_test_5s_dataset_dict.push_to_hub(repo_id=\"DBD-research-group/soundscape_datasets\", data_dir=\"POW34p\")"
   ]
  },
  {
   "cell_type": "markdown",
   "metadata": {},
   "source": [
    "# SSW"
   ]
  },
  {
   "cell_type": "code",
   "execution_count": 22,
   "metadata": {},
   "outputs": [
    {
     "name": "stderr",
     "output_type": "stream",
     "text": [
      "c:\\Users\\feier\\miniconda3\\envs\\birdset\\lib\\site-packages\\datasets\\load.py:1486: FutureWarning: The repository for DBD-research-group/BirdSet contains custom code which must be executed to correctly load the dataset. You can inspect the repository content at https://hf.co/datasets/DBD-research-group/BirdSet\n",
      "You can avoid this message in future by passing the argument `trust_remote_code=True`.\n",
      "Passing `trust_remote_code=True` will be mandatory to load this dataset from the next major release of `datasets`.\n",
      "  warnings.warn(\n"
     ]
    },
    {
     "name": "stdout",
     "output_type": "stream",
     "text": [
      "DatasetDict({\n",
      "    test: Dataset({\n",
      "        features: ['audio', 'filepath', 'start_time', 'end_time', 'low_freq', 'high_freq', 'ebird_code', 'ebird_code_multilabel', 'ebird_code_secondary', 'call_type', 'sex', 'lat', 'long', 'length', 'microphone', 'license', 'source', 'local_time', 'detected_events', 'event_cluster', 'peaks', 'quality', 'recordist'],\n",
      "        num_rows: 50760\n",
      "    })\n",
      "    test_5s: Dataset({\n",
      "        features: ['audio', 'filepath', 'start_time', 'end_time', 'low_freq', 'high_freq', 'ebird_code', 'ebird_code_multilabel', 'ebird_code_secondary', 'call_type', 'sex', 'lat', 'long', 'length', 'microphone', 'license', 'source', 'local_time', 'detected_events', 'event_cluster', 'peaks', 'quality', 'recordist'],\n",
      "        num_rows: 205200\n",
      "    })\n",
      "})\n"
     ]
    },
    {
     "data": {
      "text/plain": [
       "{'audio': {'bytes': None,\n",
       "  'path': 'd:\\\\Programmierzeugs\\\\BirdSet\\\\data_birdset\\\\SSW_scape\\\\downloads\\\\extracted\\\\82dfa80c49868e320011d59caa144751c69b75fc5e906d0f95b0d456ea2692c0\\\\SSW_001_20170225_010000Z_000_005.ogg'},\n",
       " 'filepath': 'd:\\\\Programmierzeugs\\\\BirdSet\\\\data_birdset\\\\SSW_scape\\\\downloads\\\\extracted\\\\82dfa80c49868e320011d59caa144751c69b75fc5e906d0f95b0d456ea2692c0\\\\SSW_001_20170225_010000Z_000_005.ogg',\n",
       " 'start_time': 0.0,\n",
       " 'end_time': 5.0,\n",
       " 'low_freq': None,\n",
       " 'high_freq': None,\n",
       " 'ebird_code': None,\n",
       " 'ebird_code_multilabel': [],\n",
       " 'ebird_code_secondary': None,\n",
       " 'call_type': None,\n",
       " 'sex': None,\n",
       " 'lat': 42.4768,\n",
       " 'long': -76.4527,\n",
       " 'length': None,\n",
       " 'microphone': 'Soundscape',\n",
       " 'license': 'Creative Commons Attribution 4.0 International Public License',\n",
       " 'source': 'https://zenodo.org/record/7079380',\n",
       " 'local_time': '1:00:47',\n",
       " 'detected_events': None,\n",
       " 'event_cluster': None,\n",
       " 'peaks': None,\n",
       " 'quality': None,\n",
       " 'recordist': None}"
      ]
     },
     "execution_count": 22,
     "metadata": {},
     "output_type": "execute_result"
    }
   ],
   "source": [
    "dataset = get_dataset(\"SSW_scape\")\n",
    "test_5s = dataset[\"test_5s\"]\n",
    "print(dataset)\n",
    "next(iter(test_5s))"
   ]
  },
  {
   "cell_type": "markdown",
   "metadata": {},
   "source": [
    "## Split by percentage"
   ]
  },
  {
   "cell_type": "code",
   "execution_count": 24,
   "metadata": {},
   "outputs": [
    {
     "name": "stdout",
     "output_type": "stream",
     "text": [
      "dataset length: 205200\n",
      "\n",
      "SSW_229_20170701\n",
      "bottom split idx: 164159 \n",
      "data at idx: {'audio': {'bytes': None, 'path': 'd:\\\\Programmierzeugs\\\\BirdSet\\\\data_birdset\\\\SSW_scape\\\\downloads\\\\extracted\\\\7259b15a68bdee948e41762888844a7e8b2f91e1c653c8d095b6c3fcce106894\\\\SSW_228_20170701_210014Z_3595_3600.ogg'}, 'filepath': 'd:\\\\Programmierzeugs\\\\BirdSet\\\\data_birdset\\\\SSW_scape\\\\downloads\\\\extracted\\\\7259b15a68bdee948e41762888844a7e8b2f91e1c653c8d095b6c3fcce106894\\\\SSW_228_20170701_210014Z_3595_3600.ogg', 'start_time': 0.0, 'end_time': 5.0, 'low_freq': None, 'high_freq': None, 'ebird_code': None, 'ebird_code_multilabel': [46], 'ebird_code_secondary': None, 'call_type': None, 'sex': None, 'lat': 42.4768, 'long': -76.4527, 'length': None, 'microphone': 'Soundscape', 'license': 'Creative Commons Attribution 4.0 International Public License', 'source': 'https://zenodo.org/record/7079380', 'local_time': '22:00:09', 'detected_events': None, 'event_cluster': None, 'peaks': None, 'quality': None, 'recordist': None}\n",
      "\n",
      "top split idx: 164880 \n",
      "data at idx: {'audio': {'bytes': None, 'path': 'd:\\\\Programmierzeugs\\\\BirdSet\\\\data_birdset\\\\SSW_scape\\\\downloads\\\\extracted\\\\7259b15a68bdee948e41762888844a7e8b2f91e1c653c8d095b6c3fcce106894\\\\SSW_230_20170708_000000Z_000_005.ogg'}, 'filepath': 'd:\\\\Programmierzeugs\\\\BirdSet\\\\data_birdset\\\\SSW_scape\\\\downloads\\\\extracted\\\\7259b15a68bdee948e41762888844a7e8b2f91e1c653c8d095b6c3fcce106894\\\\SSW_230_20170708_000000Z_000_005.ogg', 'start_time': 0.0, 'end_time': 5.0, 'low_freq': None, 'high_freq': None, 'ebird_code': None, 'ebird_code_multilabel': [60, 43], 'ebird_code_secondary': None, 'call_type': None, 'sex': None, 'lat': 42.4768, 'long': -76.4527, 'length': None, 'microphone': 'Soundscape', 'license': 'Creative Commons Attribution 4.0 International Public License', 'source': 'https://zenodo.org/record/7079380', 'local_time': '0:00:03', 'detected_events': None, 'event_cluster': None, 'peaks': None, 'quality': None, 'recordist': None}\n",
      "\n",
      "bottom split percentage: 0.20000487329434702 \n",
      "top split percentage: 0.19649122807017538\n",
      "\n",
      "Dataset({\n",
      "    features: ['audio', 'filepath', 'start_time', 'end_time', 'low_freq', 'high_freq', 'ebird_code', 'ebird_code_multilabel', 'ebird_code_secondary', 'call_type', 'sex', 'lat', 'long', 'length', 'microphone', 'license', 'source', 'local_time', 'detected_events', 'event_cluster', 'peaks', 'quality', 'recordist'],\n",
      "    num_rows: 164160\n",
      "}) {'audio': {'bytes': None, 'path': 'd:\\\\Programmierzeugs\\\\BirdSet\\\\data_birdset\\\\SSW_scape\\\\downloads\\\\extracted\\\\7259b15a68bdee948e41762888844a7e8b2f91e1c653c8d095b6c3fcce106894\\\\SSW_228_20170701_210014Z_3595_3600.ogg'}, 'filepath': 'd:\\\\Programmierzeugs\\\\BirdSet\\\\data_birdset\\\\SSW_scape\\\\downloads\\\\extracted\\\\7259b15a68bdee948e41762888844a7e8b2f91e1c653c8d095b6c3fcce106894\\\\SSW_228_20170701_210014Z_3595_3600.ogg', 'start_time': 0.0, 'end_time': 5.0, 'low_freq': None, 'high_freq': None, 'ebird_code': None, 'ebird_code_multilabel': [46], 'ebird_code_secondary': None, 'call_type': None, 'sex': None, 'lat': 42.4768, 'long': -76.4527, 'length': None, 'microphone': 'Soundscape', 'license': 'Creative Commons Attribution 4.0 International Public License', 'source': 'https://zenodo.org/record/7079380', 'local_time': '22:00:09', 'detected_events': None, 'event_cluster': None, 'peaks': None, 'quality': None, 'recordist': None}\n",
      "Dataset({\n",
      "    features: ['audio', 'filepath', 'start_time', 'end_time', 'low_freq', 'high_freq', 'ebird_code', 'ebird_code_multilabel', 'ebird_code_secondary', 'call_type', 'sex', 'lat', 'long', 'length', 'microphone', 'license', 'source', 'local_time', 'detected_events', 'event_cluster', 'peaks', 'quality', 'recordist'],\n",
      "    num_rows: 41040\n",
      "}) {'audio': {'bytes': None, 'path': 'd:\\\\Programmierzeugs\\\\BirdSet\\\\data_birdset\\\\SSW_scape\\\\downloads\\\\extracted\\\\7259b15a68bdee948e41762888844a7e8b2f91e1c653c8d095b6c3fcce106894\\\\SSW_229_20170701_220016Z_000_005.ogg'}, 'filepath': 'd:\\\\Programmierzeugs\\\\BirdSet\\\\data_birdset\\\\SSW_scape\\\\downloads\\\\extracted\\\\7259b15a68bdee948e41762888844a7e8b2f91e1c653c8d095b6c3fcce106894\\\\SSW_229_20170701_220016Z_000_005.ogg', 'start_time': 0.0, 'end_time': 5.0, 'low_freq': None, 'high_freq': None, 'ebird_code': None, 'ebird_code_multilabel': [43], 'ebird_code_secondary': None, 'call_type': None, 'sex': None, 'lat': 42.4768, 'long': -76.4527, 'length': None, 'microphone': 'Soundscape', 'license': 'Creative Commons Attribution 4.0 International Public License', 'source': 'https://zenodo.org/record/7079380', 'local_time': '22:00:18', 'detected_events': None, 'event_cluster': None, 'peaks': None, 'quality': None, 'recordist': None}\n"
     ]
    },
    {
     "data": {
      "text/plain": [
       "DatasetDict({\n",
       "    train: Dataset({\n",
       "        features: ['audio', 'filepath', 'start_time', 'end_time', 'low_freq', 'high_freq', 'ebird_code', 'ebird_code_multilabel', 'ebird_code_secondary', 'call_type', 'sex', 'lat', 'long', 'length', 'microphone', 'license', 'source', 'local_time', 'detected_events', 'event_cluster', 'peaks', 'quality', 'recordist'],\n",
       "        num_rows: 164160\n",
       "    })\n",
       "    test: Dataset({\n",
       "        features: ['audio', 'filepath', 'start_time', 'end_time', 'low_freq', 'high_freq', 'ebird_code', 'ebird_code_multilabel', 'ebird_code_secondary', 'call_type', 'sex', 'lat', 'long', 'length', 'microphone', 'license', 'source', 'local_time', 'detected_events', 'event_cluster', 'peaks', 'quality', 'recordist'],\n",
       "        num_rows: 41040\n",
       "    })\n",
       "})"
      ]
     },
     "execution_count": 24,
     "metadata": {},
     "output_type": "execute_result"
    }
   ],
   "source": [
    "def get_file_comparison_name(path :str) -> str:\n",
    "    path = cut_underscores(path, 3)\n",
    "    path = path[-16:]\n",
    "    return path\n",
    "\n",
    "num_rows = len(test_5s)\n",
    "print(f\"dataset length: {num_rows}\\n\")\n",
    "desired_train_split = 0.2\n",
    "desired_train_split_idx = int(num_rows * (1 - desired_train_split))\n",
    "\n",
    "filepath : str = test_5s[desired_train_split_idx][\"filepath\"]\n",
    "split_file = get_file_comparison_name(filepath)\n",
    "print(split_file)\n",
    "\n",
    "# since split shouldn't cut files in two find nearest index that's a different file\n",
    "bottom_idx = 0\n",
    "top_idx = num_rows-1\n",
    "\n",
    "for idx in range(desired_train_split_idx-1, -1, -1):\n",
    "    filepath_at_idx = test_5s[idx][\"filepath\"]\n",
    "    file_at_idx = get_file_comparison_name(filepath_at_idx)\n",
    "\n",
    "    if file_at_idx != split_file:\n",
    "        bottom_idx = idx\n",
    "        break\n",
    "\n",
    "for idx in range(desired_train_split_idx, num_rows):\n",
    "    filepath_at_idx = test_5s[idx][\"filepath\"]\n",
    "    file_at_idx = get_file_comparison_name(filepath_at_idx)\n",
    "\n",
    "    if file_at_idx != split_file:\n",
    "        top_idx = idx\n",
    "        break\n",
    "\n",
    "bottom_train_split = 1- (bottom_idx / num_rows)\n",
    "top_train_split = 1 - (top_idx / num_rows)\n",
    "print(f\"bottom split idx: {bottom_idx} \\ndata at idx: {test_5s[bottom_idx]}\\n\")\n",
    "print(f\"top split idx: {top_idx} \\ndata at idx: {test_5s[top_idx]}\\n\")\n",
    "print(f\"bottom split percentage: {bottom_train_split} \\ntop split percentage: {top_train_split}\\n\")\n",
    "\n",
    "# select nearest to desired split\n",
    "if bottom_train_split - desired_train_split > desired_train_split - top_train_split:\n",
    "    nearest_split_idx = top_idx\n",
    "else:\n",
    "    nearest_split_idx = bottom_idx\n",
    "\n",
    "train_split = test_5s.select(range(nearest_split_idx+1))\n",
    "test_split = test_5s.select(range(nearest_split_idx+1, num_rows))\n",
    "\n",
    "print(train_split, train_split[-1])\n",
    "print(test_split, test_split[0])\n",
    "\n",
    "ssw_p_test_5s_dataset_dict = DatasetDict({'train':train_split, 'test':test_split})\n",
    "ssw_p_test_5s_dataset_dict"
   ]
  },
  {
   "cell_type": "code",
   "execution_count": 4,
   "metadata": {},
   "outputs": [
    {
     "data": {
      "application/vnd.jupyter.widget-view+json": {
       "model_id": "94f35088f4294517be0d09f816d33710",
       "version_major": 2,
       "version_minor": 0
      },
      "text/plain": [
       "Uploading the dataset shards:   0%|          | 0/14 [00:00<?, ?it/s]"
      ]
     },
     "metadata": {},
     "output_type": "display_data"
    },
    {
     "data": {
      "application/vnd.jupyter.widget-view+json": {
       "model_id": "b1aad2a2988d4a56af0e0e10723e833e",
       "version_major": 2,
       "version_minor": 0
      },
      "text/plain": [
       "Map:   0%|          | 0/11726 [00:00<?, ? examples/s]"
      ]
     },
     "metadata": {},
     "output_type": "display_data"
    },
    {
     "data": {
      "application/vnd.jupyter.widget-view+json": {
       "model_id": "500679ea525144ed8a90131b37c294f0",
       "version_major": 2,
       "version_minor": 0
      },
      "text/plain": [
       "Creating parquet from Arrow format:   0%|          | 0/118 [00:00<?, ?ba/s]"
      ]
     },
     "metadata": {},
     "output_type": "display_data"
    },
    {
     "data": {
      "application/vnd.jupyter.widget-view+json": {
       "model_id": "426e82b1669344cc8182dd3eaf9d6da9",
       "version_major": 2,
       "version_minor": 0
      },
      "text/plain": [
       "Map:   0%|          | 0/11726 [00:00<?, ? examples/s]"
      ]
     },
     "metadata": {},
     "output_type": "display_data"
    },
    {
     "data": {
      "application/vnd.jupyter.widget-view+json": {
       "model_id": "474178843804401782671edaaa671afb",
       "version_major": 2,
       "version_minor": 0
      },
      "text/plain": [
       "Creating parquet from Arrow format:   0%|          | 0/118 [00:00<?, ?ba/s]"
      ]
     },
     "metadata": {},
     "output_type": "display_data"
    },
    {
     "data": {
      "application/vnd.jupyter.widget-view+json": {
       "model_id": "819f65998a3d43baaa79b1fe9e9030ab",
       "version_major": 2,
       "version_minor": 0
      },
      "text/plain": [
       "Map:   0%|          | 0/11726 [00:00<?, ? examples/s]"
      ]
     },
     "metadata": {},
     "output_type": "display_data"
    },
    {
     "data": {
      "application/vnd.jupyter.widget-view+json": {
       "model_id": "beaf4b3c0f4d4806beb6ce441b4e1316",
       "version_major": 2,
       "version_minor": 0
      },
      "text/plain": [
       "Creating parquet from Arrow format:   0%|          | 0/118 [00:00<?, ?ba/s]"
      ]
     },
     "metadata": {},
     "output_type": "display_data"
    },
    {
     "data": {
      "application/vnd.jupyter.widget-view+json": {
       "model_id": "a291824c251048a49abe6a178f215a54",
       "version_major": 2,
       "version_minor": 0
      },
      "text/plain": [
       "Map:   0%|          | 0/11726 [00:00<?, ? examples/s]"
      ]
     },
     "metadata": {},
     "output_type": "display_data"
    },
    {
     "data": {
      "application/vnd.jupyter.widget-view+json": {
       "model_id": "6cc1c966ae274c3596a63cb33ad454e3",
       "version_major": 2,
       "version_minor": 0
      },
      "text/plain": [
       "Creating parquet from Arrow format:   0%|          | 0/118 [00:00<?, ?ba/s]"
      ]
     },
     "metadata": {},
     "output_type": "display_data"
    },
    {
     "data": {
      "application/vnd.jupyter.widget-view+json": {
       "model_id": "d1e6a8804497472a9bbb40826b781825",
       "version_major": 2,
       "version_minor": 0
      },
      "text/plain": [
       "Map:   0%|          | 0/11726 [00:00<?, ? examples/s]"
      ]
     },
     "metadata": {},
     "output_type": "display_data"
    },
    {
     "data": {
      "application/vnd.jupyter.widget-view+json": {
       "model_id": "9ec06af81e9d40048d737825916296d6",
       "version_major": 2,
       "version_minor": 0
      },
      "text/plain": [
       "Creating parquet from Arrow format:   0%|          | 0/118 [00:00<?, ?ba/s]"
      ]
     },
     "metadata": {},
     "output_type": "display_data"
    },
    {
     "data": {
      "application/vnd.jupyter.widget-view+json": {
       "model_id": "c0ce1e7fbf3c475eb07f73ed1c4c8d36",
       "version_major": 2,
       "version_minor": 0
      },
      "text/plain": [
       "Map:   0%|          | 0/11726 [00:00<?, ? examples/s]"
      ]
     },
     "metadata": {},
     "output_type": "display_data"
    },
    {
     "data": {
      "application/vnd.jupyter.widget-view+json": {
       "model_id": "c785aa90c65e4ee9906778971406edcc",
       "version_major": 2,
       "version_minor": 0
      },
      "text/plain": [
       "Creating parquet from Arrow format:   0%|          | 0/118 [00:00<?, ?ba/s]"
      ]
     },
     "metadata": {},
     "output_type": "display_data"
    },
    {
     "data": {
      "application/vnd.jupyter.widget-view+json": {
       "model_id": "a0fd793e83b04623a2ba97a8765115eb",
       "version_major": 2,
       "version_minor": 0
      },
      "text/plain": [
       "Map:   0%|          | 0/11726 [00:00<?, ? examples/s]"
      ]
     },
     "metadata": {},
     "output_type": "display_data"
    },
    {
     "data": {
      "application/vnd.jupyter.widget-view+json": {
       "model_id": "a90d8985f710414aa22dcfeaabf7947d",
       "version_major": 2,
       "version_minor": 0
      },
      "text/plain": [
       "Creating parquet from Arrow format:   0%|          | 0/118 [00:00<?, ?ba/s]"
      ]
     },
     "metadata": {},
     "output_type": "display_data"
    },
    {
     "data": {
      "application/vnd.jupyter.widget-view+json": {
       "model_id": "40b379199eb84307b1ce652fdb5f5551",
       "version_major": 2,
       "version_minor": 0
      },
      "text/plain": [
       "Map:   0%|          | 0/11726 [00:00<?, ? examples/s]"
      ]
     },
     "metadata": {},
     "output_type": "display_data"
    },
    {
     "data": {
      "application/vnd.jupyter.widget-view+json": {
       "model_id": "a4ff3b6d59fa4a47b3f3c46313ae98ff",
       "version_major": 2,
       "version_minor": 0
      },
      "text/plain": [
       "Creating parquet from Arrow format:   0%|          | 0/118 [00:00<?, ?ba/s]"
      ]
     },
     "metadata": {},
     "output_type": "display_data"
    },
    {
     "data": {
      "application/vnd.jupyter.widget-view+json": {
       "model_id": "3237527ed294458380d4e14ec78895f7",
       "version_major": 2,
       "version_minor": 0
      },
      "text/plain": [
       "Map:   0%|          | 0/11726 [00:00<?, ? examples/s]"
      ]
     },
     "metadata": {},
     "output_type": "display_data"
    },
    {
     "data": {
      "application/vnd.jupyter.widget-view+json": {
       "model_id": "343d65c7db1b48dbbda9e3906b214cfb",
       "version_major": 2,
       "version_minor": 0
      },
      "text/plain": [
       "Creating parquet from Arrow format:   0%|          | 0/118 [00:00<?, ?ba/s]"
      ]
     },
     "metadata": {},
     "output_type": "display_data"
    },
    {
     "data": {
      "application/vnd.jupyter.widget-view+json": {
       "model_id": "cb6d41a484d14207a14066400b34a6cd",
       "version_major": 2,
       "version_minor": 0
      },
      "text/plain": [
       "Map:   0%|          | 0/11726 [00:00<?, ? examples/s]"
      ]
     },
     "metadata": {},
     "output_type": "display_data"
    },
    {
     "data": {
      "application/vnd.jupyter.widget-view+json": {
       "model_id": "6b6ab5376cbe473d871b4797aa929954",
       "version_major": 2,
       "version_minor": 0
      },
      "text/plain": [
       "Creating parquet from Arrow format:   0%|          | 0/118 [00:00<?, ?ba/s]"
      ]
     },
     "metadata": {},
     "output_type": "display_data"
    },
    {
     "data": {
      "application/vnd.jupyter.widget-view+json": {
       "model_id": "9b4805fd2925422c94b0ba65c12e928e",
       "version_major": 2,
       "version_minor": 0
      },
      "text/plain": [
       "Map:   0%|          | 0/11725 [00:00<?, ? examples/s]"
      ]
     },
     "metadata": {},
     "output_type": "display_data"
    },
    {
     "data": {
      "application/vnd.jupyter.widget-view+json": {
       "model_id": "b4f0a6a2916941028a38e7d08f81a4b2",
       "version_major": 2,
       "version_minor": 0
      },
      "text/plain": [
       "Creating parquet from Arrow format:   0%|          | 0/118 [00:00<?, ?ba/s]"
      ]
     },
     "metadata": {},
     "output_type": "display_data"
    },
    {
     "data": {
      "application/vnd.jupyter.widget-view+json": {
       "model_id": "957ce85364c04ca7bd950e0c2ce00294",
       "version_major": 2,
       "version_minor": 0
      },
      "text/plain": [
       "Map:   0%|          | 0/11725 [00:00<?, ? examples/s]"
      ]
     },
     "metadata": {},
     "output_type": "display_data"
    },
    {
     "data": {
      "application/vnd.jupyter.widget-view+json": {
       "model_id": "d84e76da62f8414e8e31f3ce82f1be0e",
       "version_major": 2,
       "version_minor": 0
      },
      "text/plain": [
       "Creating parquet from Arrow format:   0%|          | 0/118 [00:00<?, ?ba/s]"
      ]
     },
     "metadata": {},
     "output_type": "display_data"
    },
    {
     "data": {
      "application/vnd.jupyter.widget-view+json": {
       "model_id": "0132d9b8c14c42b0a8ec82a154ec7027",
       "version_major": 2,
       "version_minor": 0
      },
      "text/plain": [
       "Map:   0%|          | 0/11725 [00:00<?, ? examples/s]"
      ]
     },
     "metadata": {},
     "output_type": "display_data"
    },
    {
     "data": {
      "application/vnd.jupyter.widget-view+json": {
       "model_id": "b844f75ea7e24ebb9f7ce987b2c86398",
       "version_major": 2,
       "version_minor": 0
      },
      "text/plain": [
       "Creating parquet from Arrow format:   0%|          | 0/118 [00:00<?, ?ba/s]"
      ]
     },
     "metadata": {},
     "output_type": "display_data"
    },
    {
     "data": {
      "application/vnd.jupyter.widget-view+json": {
       "model_id": "0084128e83cd4c7095d860381dd3de63",
       "version_major": 2,
       "version_minor": 0
      },
      "text/plain": [
       "Map:   0%|          | 0/11725 [00:00<?, ? examples/s]"
      ]
     },
     "metadata": {},
     "output_type": "display_data"
    },
    {
     "data": {
      "application/vnd.jupyter.widget-view+json": {
       "model_id": "e7654961d586490d9e8a243034f0cbd4",
       "version_major": 2,
       "version_minor": 0
      },
      "text/plain": [
       "Creating parquet from Arrow format:   0%|          | 0/118 [00:00<?, ?ba/s]"
      ]
     },
     "metadata": {},
     "output_type": "display_data"
    },
    {
     "data": {
      "application/vnd.jupyter.widget-view+json": {
       "model_id": "9ebe77768e64443b84c2fa4ef1fd3083",
       "version_major": 2,
       "version_minor": 0
      },
      "text/plain": [
       "Uploading the dataset shards:   0%|          | 0/4 [00:00<?, ?it/s]"
      ]
     },
     "metadata": {},
     "output_type": "display_data"
    },
    {
     "data": {
      "application/vnd.jupyter.widget-view+json": {
       "model_id": "84cc94a604634b13a2a2676335c4adac",
       "version_major": 2,
       "version_minor": 0
      },
      "text/plain": [
       "Map:   0%|          | 0/10260 [00:00<?, ? examples/s]"
      ]
     },
     "metadata": {},
     "output_type": "display_data"
    },
    {
     "data": {
      "application/vnd.jupyter.widget-view+json": {
       "model_id": "24d9ed5a0af1489897f9e7b35bce24f6",
       "version_major": 2,
       "version_minor": 0
      },
      "text/plain": [
       "Creating parquet from Arrow format:   0%|          | 0/103 [00:00<?, ?ba/s]"
      ]
     },
     "metadata": {},
     "output_type": "display_data"
    },
    {
     "data": {
      "application/vnd.jupyter.widget-view+json": {
       "model_id": "1bd6bb70d3e848aeaadcafc0bd01dabb",
       "version_major": 2,
       "version_minor": 0
      },
      "text/plain": [
       "Map:   0%|          | 0/10260 [00:00<?, ? examples/s]"
      ]
     },
     "metadata": {},
     "output_type": "display_data"
    },
    {
     "data": {
      "application/vnd.jupyter.widget-view+json": {
       "model_id": "39152d9dff5a457fa75b9b89f1f71d6a",
       "version_major": 2,
       "version_minor": 0
      },
      "text/plain": [
       "Creating parquet from Arrow format:   0%|          | 0/103 [00:00<?, ?ba/s]"
      ]
     },
     "metadata": {},
     "output_type": "display_data"
    },
    {
     "data": {
      "application/vnd.jupyter.widget-view+json": {
       "model_id": "2bdff5b1ebf84fb996ca937a95f82ee5",
       "version_major": 2,
       "version_minor": 0
      },
      "text/plain": [
       "Map:   0%|          | 0/10260 [00:00<?, ? examples/s]"
      ]
     },
     "metadata": {},
     "output_type": "display_data"
    },
    {
     "data": {
      "application/vnd.jupyter.widget-view+json": {
       "model_id": "17592d8ca280459fb6aa0a45abe478ae",
       "version_major": 2,
       "version_minor": 0
      },
      "text/plain": [
       "Creating parquet from Arrow format:   0%|          | 0/103 [00:00<?, ?ba/s]"
      ]
     },
     "metadata": {},
     "output_type": "display_data"
    },
    {
     "data": {
      "application/vnd.jupyter.widget-view+json": {
       "model_id": "12cf6eb2f39b4e1082f3af61bef2b616",
       "version_major": 2,
       "version_minor": 0
      },
      "text/plain": [
       "Map:   0%|          | 0/10260 [00:00<?, ? examples/s]"
      ]
     },
     "metadata": {},
     "output_type": "display_data"
    },
    {
     "data": {
      "application/vnd.jupyter.widget-view+json": {
       "model_id": "67dcf40848354622aa5211113c65e27e",
       "version_major": 2,
       "version_minor": 0
      },
      "text/plain": [
       "Creating parquet from Arrow format:   0%|          | 0/103 [00:00<?, ?ba/s]"
      ]
     },
     "metadata": {},
     "output_type": "display_data"
    },
    {
     "data": {
      "application/vnd.jupyter.widget-view+json": {
       "model_id": "04f32262e0b04224b3cc147c7b5170b6",
       "version_major": 2,
       "version_minor": 0
      },
      "text/plain": [
       "README.md:   0%|          | 0.00/3.98k [00:00<?, ?B/s]"
      ]
     },
     "metadata": {},
     "output_type": "display_data"
    },
    {
     "data": {
      "text/plain": [
       "CommitInfo(commit_url='https://huggingface.co/datasets/DBD-research-group/soundscape_datasets/commit/a4573ee638aba2f9fca8cf899ef23d632d712745', commit_message='Upload dataset', commit_description='', oid='a4573ee638aba2f9fca8cf899ef23d632d712745', pr_url=None, pr_revision=None, pr_num=None)"
      ]
     },
     "execution_count": 4,
     "metadata": {},
     "output_type": "execute_result"
    }
   ],
   "source": [
    "#ssw_p_test_5s_dataset_dict.push_to_hub(repo_id=\"DBD-research-group/soundscape_datasets\", data_dir=\"SSW20p\")"
   ]
  },
  {
   "cell_type": "markdown",
   "metadata": {},
   "source": [
    "## Split by days"
   ]
  },
  {
   "cell_type": "code",
   "execution_count": 5,
   "metadata": {},
   "outputs": [
    {
     "name": "stdout",
     "output_type": "stream",
     "text": [
      "190799 20170805\n",
      "test percentage: 0.07017543859649122\n",
      "Dataset({\n",
      "    features: ['audio', 'filepath', 'start_time', 'end_time', 'low_freq', 'high_freq', 'ebird_code', 'ebird_code_multilabel', 'ebird_code_secondary', 'call_type', 'sex', 'lat', 'long', 'length', 'microphone', 'license', 'source', 'local_time', 'detected_events', 'event_cluster', 'peaks', 'quality', 'recordist'],\n",
      "    num_rows: 190800\n",
      "}) {'audio': {'bytes': None, 'path': 'd:\\\\Programmierzeugs\\\\BirdSet\\\\data_birdset\\\\SSW_scape\\\\downloads\\\\extracted\\\\7259b15a68bdee948e41762888844a7e8b2f91e1c653c8d095b6c3fcce106894\\\\SSW_265_20170805_200016Z_3595_3600.ogg'}, 'filepath': 'd:\\\\Programmierzeugs\\\\BirdSet\\\\data_birdset\\\\SSW_scape\\\\downloads\\\\extracted\\\\7259b15a68bdee948e41762888844a7e8b2f91e1c653c8d095b6c3fcce106894\\\\SSW_265_20170805_200016Z_3595_3600.ogg', 'start_time': 0.0, 'end_time': 5.0, 'low_freq': None, 'high_freq': None, 'ebird_code': None, 'ebird_code_multilabel': [], 'ebird_code_secondary': None, 'call_type': None, 'sex': None, 'lat': 42.4768, 'long': -76.4527, 'length': None, 'microphone': 'Soundscape', 'license': 'Creative Commons Attribution 4.0 International Public License', 'source': 'https://zenodo.org/record/7079380', 'local_time': '21:00:18', 'detected_events': None, 'event_cluster': None, 'peaks': None, 'quality': None, 'recordist': None}\n",
      "Dataset({\n",
      "    features: ['audio', 'filepath', 'start_time', 'end_time', 'low_freq', 'high_freq', 'ebird_code', 'ebird_code_multilabel', 'ebird_code_secondary', 'call_type', 'sex', 'lat', 'long', 'length', 'microphone', 'license', 'source', 'local_time', 'detected_events', 'event_cluster', 'peaks', 'quality', 'recordist'],\n",
      "    num_rows: 14400\n",
      "}) {'audio': {'bytes': None, 'path': 'd:\\\\Programmierzeugs\\\\BirdSet\\\\data_birdset\\\\SSW_scape\\\\downloads\\\\extracted\\\\7259b15a68bdee948e41762888844a7e8b2f91e1c653c8d095b6c3fcce106894\\\\SSW_266_20170819_090010Z_000_005.ogg'}, 'filepath': 'd:\\\\Programmierzeugs\\\\BirdSet\\\\data_birdset\\\\SSW_scape\\\\downloads\\\\extracted\\\\7259b15a68bdee948e41762888844a7e8b2f91e1c653c8d095b6c3fcce106894\\\\SSW_266_20170819_090010Z_000_005.ogg', 'start_time': 0.0, 'end_time': 5.0, 'low_freq': None, 'high_freq': None, 'ebird_code': None, 'ebird_code_multilabel': [], 'ebird_code_secondary': None, 'call_type': None, 'sex': None, 'lat': 42.4768, 'long': -76.4527, 'length': None, 'microphone': 'Soundscape', 'license': 'Creative Commons Attribution 4.0 International Public License', 'source': 'https://zenodo.org/record/7079380', 'local_time': '9:39:37', 'detected_events': None, 'event_cluster': None, 'peaks': None, 'quality': None, 'recordist': None}\n"
     ]
    },
    {
     "data": {
      "text/plain": [
       "DatasetDict({\n",
       "    train: Dataset({\n",
       "        features: ['audio', 'filepath', 'start_time', 'end_time', 'low_freq', 'high_freq', 'ebird_code', 'ebird_code_multilabel', 'ebird_code_secondary', 'call_type', 'sex', 'lat', 'long', 'length', 'microphone', 'license', 'source', 'local_time', 'detected_events', 'event_cluster', 'peaks', 'quality', 'recordist'],\n",
       "        num_rows: 190800\n",
       "    })\n",
       "    test: Dataset({\n",
       "        features: ['audio', 'filepath', 'start_time', 'end_time', 'low_freq', 'high_freq', 'ebird_code', 'ebird_code_multilabel', 'ebird_code_secondary', 'call_type', 'sex', 'lat', 'long', 'length', 'microphone', 'license', 'source', 'local_time', 'detected_events', 'event_cluster', 'peaks', 'quality', 'recordist'],\n",
       "        num_rows: 14400\n",
       "    })\n",
       "})"
      ]
     },
     "execution_count": 5,
     "metadata": {},
     "output_type": "execute_result"
    }
   ],
   "source": [
    "num_rows = len(test_5s)\n",
    "\n",
    "filepath_at_idx = test_5s[num_rows-1][\"filepath\"]\n",
    "filepath_at_idx = filepath_at_idx[:filepath_at_idx.rfind(\"_\")]\n",
    "filepath_at_idx = filepath_at_idx[:filepath_at_idx.rfind(\"_\")]\n",
    "filepath_at_idx = filepath_at_idx[:filepath_at_idx.rfind(\"_\")]\n",
    "last_day = filepath_at_idx[-8:]\n",
    "day_count = 0\n",
    "split_idx = 0\n",
    "# since split shouldn't cut files find index of the last two days\n",
    "for idx in range(num_rows-1, -1, -1):\n",
    "    filepath_at_idx = test_5s[idx][\"filepath\"]\n",
    "    filepath_at_idx = filepath_at_idx[:filepath_at_idx.rfind(\"_\")]\n",
    "    filepath_at_idx = filepath_at_idx[:filepath_at_idx.rfind(\"_\")]\n",
    "    filepath_at_idx = filepath_at_idx[:filepath_at_idx.rfind(\"_\")]\n",
    "    day_at_idx = filepath_at_idx[-8:]\n",
    "\n",
    "    if last_day != day_at_idx:\n",
    "        day_count += 1\n",
    "        last_day = day_at_idx\n",
    "\n",
    "        if day_count >= 2:\n",
    "            split_idx = idx\n",
    "            break\n",
    "\n",
    "\n",
    "print(split_idx, last_day)\n",
    "\n",
    "train_split = test_5s.select(range(split_idx+1))\n",
    "test_split = test_5s.select(range(split_idx+1, num_rows))\n",
    "print(f\"test percentage: {len(test_split)/num_rows}\")\n",
    "\n",
    "print(train_split, train_split[-1])\n",
    "print(test_split, test_split[0])\n",
    "\n",
    "ssw_d_test_5s_dataset_dict = DatasetDict({'train':train_split, 'test':test_split})\n",
    "ssw_d_test_5s_dataset_dict"
   ]
  },
  {
   "cell_type": "markdown",
   "metadata": {},
   "source": [
    "# UHH"
   ]
  },
  {
   "cell_type": "code",
   "execution_count": 31,
   "metadata": {},
   "outputs": [
    {
     "name": "stderr",
     "output_type": "stream",
     "text": [
      "c:\\Users\\feier\\miniconda3\\envs\\birdset\\lib\\site-packages\\datasets\\load.py:1486: FutureWarning: The repository for DBD-research-group/BirdSet contains custom code which must be executed to correctly load the dataset. You can inspect the repository content at https://hf.co/datasets/DBD-research-group/BirdSet\n",
      "You can avoid this message in future by passing the argument `trust_remote_code=True`.\n",
      "Passing `trust_remote_code=True` will be mandatory to load this dataset from the next major release of `datasets`.\n",
      "  warnings.warn(\n"
     ]
    },
    {
     "name": "stdout",
     "output_type": "stream",
     "text": [
      "DatasetDict({\n",
      "    test: Dataset({\n",
      "        features: ['audio', 'filepath', 'start_time', 'end_time', 'low_freq', 'high_freq', 'ebird_code', 'ebird_code_multilabel', 'ebird_code_secondary', 'call_type', 'sex', 'lat', 'long', 'length', 'microphone', 'license', 'source', 'local_time', 'detected_events', 'event_cluster', 'peaks', 'quality', 'recordist'],\n",
      "        num_rows: 59583\n",
      "    })\n",
      "    test_5s: Dataset({\n",
      "        features: ['audio', 'filepath', 'start_time', 'end_time', 'low_freq', 'high_freq', 'ebird_code', 'ebird_code_multilabel', 'ebird_code_secondary', 'call_type', 'sex', 'lat', 'long', 'length', 'microphone', 'license', 'source', 'local_time', 'detected_events', 'event_cluster', 'peaks', 'quality', 'recordist'],\n",
      "        num_rows: 36637\n",
      "    })\n",
      "})\n"
     ]
    },
    {
     "data": {
      "text/plain": [
       "{'audio': {'bytes': None,\n",
       "  'path': 'd:\\\\Programmierzeugs\\\\BirdSet\\\\data_birdset\\\\UHH_scape\\\\downloads\\\\extracted\\\\a39fd4590182df6876811d8e287d9479e4bec4a72763eac481048068f2595c09\\\\UHH_001_S01_20161121_150000_000_005.ogg'},\n",
       " 'filepath': 'd:\\\\Programmierzeugs\\\\BirdSet\\\\data_birdset\\\\UHH_scape\\\\downloads\\\\extracted\\\\a39fd4590182df6876811d8e287d9479e4bec4a72763eac481048068f2595c09\\\\UHH_001_S01_20161121_150000_000_005.ogg',\n",
       " 'start_time': 0.0,\n",
       " 'end_time': 5.0,\n",
       " 'low_freq': None,\n",
       " 'high_freq': None,\n",
       " 'ebird_code': None,\n",
       " 'ebird_code_multilabel': [],\n",
       " 'ebird_code_secondary': None,\n",
       " 'call_type': None,\n",
       " 'sex': None,\n",
       " 'lat': 19.801668,\n",
       " 'long': -155.609444,\n",
       " 'length': None,\n",
       " 'microphone': 'Soundscape',\n",
       " 'license': 'Creative Commons Attribution 4.0 International Public License',\n",
       " 'source': 'https://zenodo.org/record/7078499',\n",
       " 'local_time': '15:00:06',\n",
       " 'detected_events': None,\n",
       " 'event_cluster': None,\n",
       " 'peaks': None,\n",
       " 'quality': None,\n",
       " 'recordist': None}"
      ]
     },
     "execution_count": 31,
     "metadata": {},
     "output_type": "execute_result"
    }
   ],
   "source": [
    "dataset = get_dataset(\"UHH_scape\")\n",
    "test_5s = dataset[\"test_5s\"]\n",
    "print(dataset)\n",
    "next(iter(test_5s))"
   ]
  },
  {
   "cell_type": "markdown",
   "metadata": {},
   "source": [
    "## Split in sites"
   ]
  },
  {
   "cell_type": "code",
   "execution_count": 36,
   "metadata": {},
   "outputs": [
    {
     "name": "stdout",
     "output_type": "stream",
     "text": [
      "S01\n",
      "4\n"
     ]
    },
    {
     "data": {
      "text/plain": [
       "{'S01': Dataset({\n",
       "     features: ['audio', 'filepath', 'start_time', 'end_time', 'low_freq', 'high_freq', 'ebird_code', 'ebird_code_multilabel', 'ebird_code_secondary', 'call_type', 'sex', 'lat', 'long', 'length', 'microphone', 'license', 'source', 'local_time', 'detected_events', 'event_cluster', 'peaks', 'quality', 'recordist'],\n",
       "     num_rows: 24900\n",
       " }),\n",
       " 'S03': Dataset({\n",
       "     features: ['audio', 'filepath', 'start_time', 'end_time', 'low_freq', 'high_freq', 'ebird_code', 'ebird_code_multilabel', 'ebird_code_secondary', 'call_type', 'sex', 'lat', 'long', 'length', 'microphone', 'license', 'source', 'local_time', 'detected_events', 'event_cluster', 'peaks', 'quality', 'recordist'],\n",
       "     num_rows: 732\n",
       " }),\n",
       " 'S04': Dataset({\n",
       "     features: ['audio', 'filepath', 'start_time', 'end_time', 'low_freq', 'high_freq', 'ebird_code', 'ebird_code_multilabel', 'ebird_code_secondary', 'call_type', 'sex', 'lat', 'long', 'length', 'microphone', 'license', 'source', 'local_time', 'detected_events', 'event_cluster', 'peaks', 'quality', 'recordist'],\n",
       "     num_rows: 1944\n",
       " }),\n",
       " 'S02': Dataset({\n",
       "     features: ['audio', 'filepath', 'start_time', 'end_time', 'low_freq', 'high_freq', 'ebird_code', 'ebird_code_multilabel', 'ebird_code_secondary', 'call_type', 'sex', 'lat', 'long', 'length', 'microphone', 'license', 'source', 'local_time', 'detected_events', 'event_cluster', 'peaks', 'quality', 'recordist'],\n",
       "     num_rows: 9060\n",
       " })}"
      ]
     },
     "execution_count": 36,
     "metadata": {},
     "output_type": "execute_result"
    }
   ],
   "source": [
    "sites = {}\n",
    "\n",
    "\n",
    "site = test_5s[\"filepath\"][0][:test_5s[\"filepath\"][0].rfind(\"_\")]\n",
    "site = cut_underscores(site, 3)\n",
    "last_site = site[-3:]\n",
    "last_split_idx = 0\n",
    "print(last_site)\n",
    "\n",
    "all_files = test_5s[\"filepath\"]\n",
    "for idx in range(len(all_files)):\n",
    "    site = all_files[idx][:all_files[idx].rfind(\"_\")]\n",
    "    site = cut_underscores(site, 3)\n",
    "    site = site[-3:]\n",
    "\n",
    "    if site != last_site:\n",
    "        sites[last_site] = test_5s.select(range(last_split_idx, idx))\n",
    "        last_split_idx = idx\n",
    "        last_site = site\n",
    "\n",
    "sites[last_site] = test_5s.select(range(last_split_idx, idx))\n",
    "\n",
    "print(len(sites))\n",
    "sites"
   ]
  },
  {
   "cell_type": "markdown",
   "metadata": {},
   "source": [
    "## Split by percentage"
   ]
  },
  {
   "cell_type": "code",
   "execution_count": 42,
   "metadata": {},
   "outputs": [
    {
     "name": "stdout",
     "output_type": "stream",
     "text": [
      "20161205\n",
      "bottom split idx: 19439 \n",
      "data at idx: {'audio': {'bytes': None, 'path': 'd:\\\\Programmierzeugs\\\\BirdSet\\\\data_birdset\\\\UHH_scape\\\\downloads\\\\extracted\\\\a39fd4590182df6876811d8e287d9479e4bec4a72763eac481048068f2595c09\\\\UHH_324_S01_20161204_155000_295_300.ogg'}, 'filepath': 'd:\\\\Programmierzeugs\\\\BirdSet\\\\data_birdset\\\\UHH_scape\\\\downloads\\\\extracted\\\\a39fd4590182df6876811d8e287d9479e4bec4a72763eac481048068f2595c09\\\\UHH_324_S01_20161204_155000_295_300.ogg', 'start_time': 0.0, 'end_time': 5.0, 'low_freq': None, 'high_freq': None, 'ebird_code': None, 'ebird_code_multilabel': [], 'ebird_code_secondary': None, 'call_type': None, 'sex': None, 'lat': 19.801668, 'long': -155.609444, 'length': None, 'microphone': 'Soundscape', 'license': 'Creative Commons Attribution 4.0 International Public License', 'source': 'https://zenodo.org/record/7078499', 'local_time': '15:55:03', 'detected_events': None, 'event_cluster': None, 'peaks': None, 'quality': None, 'recordist': None}\n",
      "\n",
      "top split idx: 21180 \n",
      "data at idx: {'audio': {'bytes': None, 'path': 'd:\\\\Programmierzeugs\\\\BirdSet\\\\data_birdset\\\\UHH_scape\\\\downloads\\\\extracted\\\\a39fd4590182df6876811d8e287d9479e4bec4a72763eac481048068f2595c09\\\\UHH_354_S01_20170302_150000_000_005.ogg'}, 'filepath': 'd:\\\\Programmierzeugs\\\\BirdSet\\\\data_birdset\\\\UHH_scape\\\\downloads\\\\extracted\\\\a39fd4590182df6876811d8e287d9479e4bec4a72763eac481048068f2595c09\\\\UHH_354_S01_20170302_150000_000_005.ogg', 'start_time': 0.0, 'end_time': 5.0, 'low_freq': None, 'high_freq': None, 'ebird_code': None, 'ebird_code_multilabel': [21], 'ebird_code_secondary': None, 'call_type': None, 'sex': None, 'lat': 19.801668, 'long': -155.609444, 'length': None, 'microphone': 'Soundscape', 'license': 'Creative Commons Attribution 4.0 International Public License', 'source': 'https://zenodo.org/record/7078499', 'local_time': '15:00:00', 'detected_events': None, 'event_cluster': None, 'peaks': None, 'quality': None, 'recordist': None}\n",
      "\n",
      "bottom split percentage: 0.21931726907630522 \n",
      "top split percentage: 0.14939759036144573\n",
      "\n",
      "Dataset({\n",
      "    features: ['audio', 'filepath', 'start_time', 'end_time', 'low_freq', 'high_freq', 'ebird_code', 'ebird_code_multilabel', 'ebird_code_secondary', 'call_type', 'sex', 'lat', 'long', 'length', 'microphone', 'license', 'source', 'local_time', 'detected_events', 'event_cluster', 'peaks', 'quality', 'recordist'],\n",
      "    num_rows: 19440\n",
      "}) {'audio': {'bytes': None, 'path': 'd:\\\\Programmierzeugs\\\\BirdSet\\\\data_birdset\\\\UHH_scape\\\\downloads\\\\extracted\\\\a39fd4590182df6876811d8e287d9479e4bec4a72763eac481048068f2595c09\\\\UHH_324_S01_20161204_155000_295_300.ogg'}, 'filepath': 'd:\\\\Programmierzeugs\\\\BirdSet\\\\data_birdset\\\\UHH_scape\\\\downloads\\\\extracted\\\\a39fd4590182df6876811d8e287d9479e4bec4a72763eac481048068f2595c09\\\\UHH_324_S01_20161204_155000_295_300.ogg', 'start_time': 0.0, 'end_time': 5.0, 'low_freq': None, 'high_freq': None, 'ebird_code': None, 'ebird_code_multilabel': [], 'ebird_code_secondary': None, 'call_type': None, 'sex': None, 'lat': 19.801668, 'long': -155.609444, 'length': None, 'microphone': 'Soundscape', 'license': 'Creative Commons Attribution 4.0 International Public License', 'source': 'https://zenodo.org/record/7078499', 'local_time': '15:55:03', 'detected_events': None, 'event_cluster': None, 'peaks': None, 'quality': None, 'recordist': None}\n",
      "Dataset({\n",
      "    features: ['audio', 'filepath', 'start_time', 'end_time', 'low_freq', 'high_freq', 'ebird_code', 'ebird_code_multilabel', 'ebird_code_secondary', 'call_type', 'sex', 'lat', 'long', 'length', 'microphone', 'license', 'source', 'local_time', 'detected_events', 'event_cluster', 'peaks', 'quality', 'recordist'],\n",
      "    num_rows: 5460\n",
      "}) {'audio': {'bytes': None, 'path': 'd:\\\\Programmierzeugs\\\\BirdSet\\\\data_birdset\\\\UHH_scape\\\\downloads\\\\extracted\\\\a39fd4590182df6876811d8e287d9479e4bec4a72763eac481048068f2595c09\\\\UHH_325_S01_20161205_062000_000_005.ogg'}, 'filepath': 'd:\\\\Programmierzeugs\\\\BirdSet\\\\data_birdset\\\\UHH_scape\\\\downloads\\\\extracted\\\\a39fd4590182df6876811d8e287d9479e4bec4a72763eac481048068f2595c09\\\\UHH_325_S01_20161205_062000_000_005.ogg', 'start_time': 0.0, 'end_time': 5.0, 'low_freq': None, 'high_freq': None, 'ebird_code': None, 'ebird_code_multilabel': [], 'ebird_code_secondary': None, 'call_type': None, 'sex': None, 'lat': 19.801668, 'long': -155.609444, 'length': None, 'microphone': 'Soundscape', 'license': 'Creative Commons Attribution 4.0 International Public License', 'source': 'https://zenodo.org/record/7078499', 'local_time': '6:24:38', 'detected_events': None, 'event_cluster': None, 'peaks': None, 'quality': None, 'recordist': None}\n",
      "20180901\n",
      "bottom split idx: 575 \n",
      "data at idx: {'audio': {'bytes': None, 'path': 'd:\\\\Programmierzeugs\\\\BirdSet\\\\data_birdset\\\\UHH_scape\\\\downloads\\\\extracted\\\\a39fd4590182df6876811d8e287d9479e4bec4a72763eac481048068f2595c09\\\\UHH_010_S01_20161122_063000_175_180.ogg'}, 'filepath': 'd:\\\\Programmierzeugs\\\\BirdSet\\\\data_birdset\\\\UHH_scape\\\\downloads\\\\extracted\\\\a39fd4590182df6876811d8e287d9479e4bec4a72763eac481048068f2595c09\\\\UHH_010_S01_20161122_063000_175_180.ogg', 'start_time': 0.0, 'end_time': 5.0, 'low_freq': None, 'high_freq': None, 'ebird_code': None, 'ebird_code_multilabel': [], 'ebird_code_secondary': None, 'call_type': None, 'sex': None, 'lat': 19.801668, 'long': -155.609444, 'length': None, 'microphone': 'Soundscape', 'license': 'Creative Commons Attribution 4.0 International Public License', 'source': 'https://zenodo.org/record/7078499', 'local_time': '6:33:08', 'detected_events': None, 'event_cluster': None, 'peaks': None, 'quality': None, 'recordist': None}\n",
      "\n",
      "top split idx: 731 \n",
      "data at idx: {'audio': {'bytes': None, 'path': 'd:\\\\Programmierzeugs\\\\BirdSet\\\\data_birdset\\\\UHH_scape\\\\downloads\\\\extracted\\\\a39fd4590182df6876811d8e287d9479e4bec4a72763eac481048068f2595c09\\\\UHH_013_S01_20161122_070000_055_060.ogg'}, 'filepath': 'd:\\\\Programmierzeugs\\\\BirdSet\\\\data_birdset\\\\UHH_scape\\\\downloads\\\\extracted\\\\a39fd4590182df6876811d8e287d9479e4bec4a72763eac481048068f2595c09\\\\UHH_013_S01_20161122_070000_055_060.ogg', 'start_time': 0.0, 'end_time': 5.0, 'low_freq': None, 'high_freq': None, 'ebird_code': None, 'ebird_code_multilabel': [11], 'ebird_code_secondary': None, 'call_type': None, 'sex': None, 'lat': 19.801668, 'long': -155.609444, 'length': None, 'microphone': 'Soundscape', 'license': 'Creative Commons Attribution 4.0 International Public License', 'source': 'https://zenodo.org/record/7078499', 'local_time': '7:00:55', 'detected_events': None, 'event_cluster': None, 'peaks': None, 'quality': None, 'recordist': None}\n",
      "\n",
      "bottom split percentage: 0.21448087431693985 \n",
      "top split percentage: 0.001366120218579181\n",
      "\n",
      "Dataset({\n",
      "    features: ['audio', 'filepath', 'start_time', 'end_time', 'low_freq', 'high_freq', 'ebird_code', 'ebird_code_multilabel', 'ebird_code_secondary', 'call_type', 'sex', 'lat', 'long', 'length', 'microphone', 'license', 'source', 'local_time', 'detected_events', 'event_cluster', 'peaks', 'quality', 'recordist'],\n",
      "    num_rows: 576\n",
      "}) {'audio': {'bytes': None, 'path': 'd:\\\\Programmierzeugs\\\\BirdSet\\\\data_birdset\\\\UHH_scape\\\\downloads\\\\extracted\\\\a39fd4590182df6876811d8e287d9479e4bec4a72763eac481048068f2595c09\\\\UHH_463_S03_20180831_214700_055_059.ogg'}, 'filepath': 'd:\\\\Programmierzeugs\\\\BirdSet\\\\data_birdset\\\\UHH_scape\\\\downloads\\\\extracted\\\\a39fd4590182df6876811d8e287d9479e4bec4a72763eac481048068f2595c09\\\\UHH_463_S03_20180831_214700_055_059.ogg', 'start_time': 0.0, 'end_time': 4.988781250000002, 'low_freq': None, 'high_freq': None, 'ebird_code': None, 'ebird_code_multilabel': [], 'ebird_code_secondary': None, 'call_type': None, 'sex': None, 'lat': 19.46647, 'long': -155.582011, 'length': None, 'microphone': 'Soundscape', 'license': 'Creative Commons Attribution 4.0 International Public License', 'source': 'https://zenodo.org/record/7078499', 'local_time': '21:48:01', 'detected_events': None, 'event_cluster': None, 'peaks': None, 'quality': None, 'recordist': None}\n",
      "Dataset({\n",
      "    features: ['audio', 'filepath', 'start_time', 'end_time', 'low_freq', 'high_freq', 'ebird_code', 'ebird_code_multilabel', 'ebird_code_secondary', 'call_type', 'sex', 'lat', 'long', 'length', 'microphone', 'license', 'source', 'local_time', 'detected_events', 'event_cluster', 'peaks', 'quality', 'recordist'],\n",
      "    num_rows: 156\n",
      "}) {'audio': {'bytes': None, 'path': 'd:\\\\Programmierzeugs\\\\BirdSet\\\\data_birdset\\\\UHH_scape\\\\downloads\\\\extracted\\\\a39fd4590182df6876811d8e287d9479e4bec4a72763eac481048068f2595c09\\\\UHH_464_S03_20180901_213700_000_005.ogg'}, 'filepath': 'd:\\\\Programmierzeugs\\\\BirdSet\\\\data_birdset\\\\UHH_scape\\\\downloads\\\\extracted\\\\a39fd4590182df6876811d8e287d9479e4bec4a72763eac481048068f2595c09\\\\UHH_464_S03_20180901_213700_000_005.ogg', 'start_time': 0.0, 'end_time': 5.0, 'low_freq': None, 'high_freq': None, 'ebird_code': None, 'ebird_code_multilabel': [], 'ebird_code_secondary': None, 'call_type': None, 'sex': None, 'lat': 19.46647, 'long': -155.582011, 'length': None, 'microphone': 'Soundscape', 'license': 'Creative Commons Attribution 4.0 International Public License', 'source': 'https://zenodo.org/record/7078499', 'local_time': '21:37:06', 'detected_events': None, 'event_cluster': None, 'peaks': None, 'quality': None, 'recordist': None}\n",
      "20190413\n",
      "bottom split idx: 1511 \n",
      "data at idx: {'audio': {'bytes': None, 'path': 'd:\\\\Programmierzeugs\\\\BirdSet\\\\data_birdset\\\\UHH_scape\\\\downloads\\\\extracted\\\\a39fd4590182df6876811d8e287d9479e4bec4a72763eac481048068f2595c09\\\\UHH_026_S01_20161123_091000_055_060.ogg'}, 'filepath': 'd:\\\\Programmierzeugs\\\\BirdSet\\\\data_birdset\\\\UHH_scape\\\\downloads\\\\extracted\\\\a39fd4590182df6876811d8e287d9479e4bec4a72763eac481048068f2595c09\\\\UHH_026_S01_20161123_091000_055_060.ogg', 'start_time': 0.0, 'end_time': 5.0, 'low_freq': None, 'high_freq': None, 'ebird_code': None, 'ebird_code_multilabel': [21, 11], 'ebird_code_secondary': None, 'call_type': None, 'sex': None, 'lat': 19.801668, 'long': -155.609444, 'length': None, 'microphone': 'Soundscape', 'license': 'Creative Commons Attribution 4.0 International Public License', 'source': 'https://zenodo.org/record/7078499', 'local_time': '9:11:05', 'detected_events': None, 'event_cluster': None, 'peaks': None, 'quality': None, 'recordist': None}\n",
      "\n",
      "top split idx: 1728 \n",
      "data at idx: {'audio': {'bytes': None, 'path': 'd:\\\\Programmierzeugs\\\\BirdSet\\\\data_birdset\\\\UHH_scape\\\\downloads\\\\extracted\\\\a39fd4590182df6876811d8e287d9479e4bec4a72763eac481048068f2595c09\\\\UHH_029_S01_20161123_094000_240_245.ogg'}, 'filepath': 'd:\\\\Programmierzeugs\\\\BirdSet\\\\data_birdset\\\\UHH_scape\\\\downloads\\\\extracted\\\\a39fd4590182df6876811d8e287d9479e4bec4a72763eac481048068f2595c09\\\\UHH_029_S01_20161123_094000_240_245.ogg', 'start_time': 0.0, 'end_time': 5.0, 'low_freq': None, 'high_freq': None, 'ebird_code': None, 'ebird_code_multilabel': [], 'ebird_code_secondary': None, 'call_type': None, 'sex': None, 'lat': 19.801668, 'long': -155.609444, 'length': None, 'microphone': 'Soundscape', 'license': 'Creative Commons Attribution 4.0 International Public License', 'source': 'https://zenodo.org/record/7078499', 'local_time': '9:45:24', 'detected_events': None, 'event_cluster': None, 'peaks': None, 'quality': None, 'recordist': None}\n",
      "\n",
      "bottom split percentage: 0.22273662551440332 \n",
      "top split percentage: 0.11111111111111116\n",
      "\n",
      "Dataset({\n",
      "    features: ['audio', 'filepath', 'start_time', 'end_time', 'low_freq', 'high_freq', 'ebird_code', 'ebird_code_multilabel', 'ebird_code_secondary', 'call_type', 'sex', 'lat', 'long', 'length', 'microphone', 'license', 'source', 'local_time', 'detected_events', 'event_cluster', 'peaks', 'quality', 'recordist'],\n",
      "    num_rows: 1512\n",
      "}) {'audio': {'bytes': None, 'path': 'd:\\\\Programmierzeugs\\\\BirdSet\\\\data_birdset\\\\UHH_scape\\\\downloads\\\\extracted\\\\a39fd4590182df6876811d8e287d9479e4bec4a72763eac481048068f2595c09\\\\UHH_490_S04_20190411_214000_535_539.ogg'}, 'filepath': 'd:\\\\Programmierzeugs\\\\BirdSet\\\\data_birdset\\\\UHH_scape\\\\downloads\\\\extracted\\\\a39fd4590182df6876811d8e287d9479e4bec4a72763eac481048068f2595c09\\\\UHH_490_S04_20190411_214000_535_539.ogg', 'start_time': 0.0, 'end_time': 4.9916562500000055, 'low_freq': None, 'high_freq': None, 'ebird_code': None, 'ebird_code_multilabel': [], 'ebird_code_secondary': None, 'call_type': None, 'sex': None, 'lat': 19.820609, 'long': -155.468097, 'length': None, 'microphone': 'Soundscape', 'license': 'Creative Commons Attribution 4.0 International Public License', 'source': 'https://zenodo.org/record/7078499', 'local_time': '21:57:31', 'detected_events': None, 'event_cluster': None, 'peaks': None, 'quality': None, 'recordist': None}\n",
      "Dataset({\n",
      "    features: ['audio', 'filepath', 'start_time', 'end_time', 'low_freq', 'high_freq', 'ebird_code', 'ebird_code_multilabel', 'ebird_code_secondary', 'call_type', 'sex', 'lat', 'long', 'length', 'microphone', 'license', 'source', 'local_time', 'detected_events', 'event_cluster', 'peaks', 'quality', 'recordist'],\n",
      "    num_rows: 432\n",
      "}) {'audio': {'bytes': None, 'path': 'd:\\\\Programmierzeugs\\\\BirdSet\\\\data_birdset\\\\UHH_scape\\\\downloads\\\\extracted\\\\a39fd4590182df6876811d8e287d9479e4bec4a72763eac481048068f2595c09\\\\UHH_491_S04_20190413_193000_000_005.ogg'}, 'filepath': 'd:\\\\Programmierzeugs\\\\BirdSet\\\\data_birdset\\\\UHH_scape\\\\downloads\\\\extracted\\\\a39fd4590182df6876811d8e287d9479e4bec4a72763eac481048068f2595c09\\\\UHH_491_S04_20190413_193000_000_005.ogg', 'start_time': 0.0, 'end_time': 5.0, 'low_freq': None, 'high_freq': None, 'ebird_code': None, 'ebird_code_multilabel': [], 'ebird_code_secondary': None, 'call_type': None, 'sex': None, 'lat': 19.820609, 'long': -155.468097, 'length': None, 'microphone': 'Soundscape', 'license': 'Creative Commons Attribution 4.0 International Public License', 'source': 'https://zenodo.org/record/7078499', 'local_time': '19:32:47', 'detected_events': None, 'event_cluster': None, 'peaks': None, 'quality': None, 'recordist': None}\n",
      "20220322\n",
      "bottom split idx: 7139 \n",
      "data at idx: {'audio': {'bytes': None, 'path': 'd:\\\\Programmierzeugs\\\\BirdSet\\\\data_birdset\\\\UHH_scape\\\\downloads\\\\extracted\\\\a39fd4590182df6876811d8e287d9479e4bec4a72763eac481048068f2595c09\\\\UHH_119_S01_20161127_090000_295_300.ogg'}, 'filepath': 'd:\\\\Programmierzeugs\\\\BirdSet\\\\data_birdset\\\\UHH_scape\\\\downloads\\\\extracted\\\\a39fd4590182df6876811d8e287d9479e4bec4a72763eac481048068f2595c09\\\\UHH_119_S01_20161127_090000_295_300.ogg', 'start_time': 0.0, 'end_time': 5.0, 'low_freq': None, 'high_freq': None, 'ebird_code': None, 'ebird_code_multilabel': [21], 'ebird_code_secondary': None, 'call_type': None, 'sex': None, 'lat': 19.801668, 'long': -155.609444, 'length': None, 'microphone': 'Soundscape', 'license': 'Creative Commons Attribution 4.0 International Public License', 'source': 'https://zenodo.org/record/7078499', 'local_time': '9:05:51', 'detected_events': None, 'event_cluster': None, 'peaks': None, 'quality': None, 'recordist': None}\n",
      "\n",
      "top split idx: 8004 \n",
      "data at idx: {'audio': {'bytes': None, 'path': 'd:\\\\Programmierzeugs\\\\BirdSet\\\\data_birdset\\\\UHH_scape\\\\downloads\\\\extracted\\\\a39fd4590182df6876811d8e287d9479e4bec4a72763eac481048068f2595c09\\\\UHH_134_S01_20161128_065000_120_125.ogg'}, 'filepath': 'd:\\\\Programmierzeugs\\\\BirdSet\\\\data_birdset\\\\UHH_scape\\\\downloads\\\\extracted\\\\a39fd4590182df6876811d8e287d9479e4bec4a72763eac481048068f2595c09\\\\UHH_134_S01_20161128_065000_120_125.ogg', 'start_time': 0.0, 'end_time': 5.0, 'low_freq': None, 'high_freq': None, 'ebird_code': None, 'ebird_code_multilabel': [22], 'ebird_code_secondary': None, 'call_type': None, 'sex': None, 'lat': 19.801668, 'long': -155.609444, 'length': None, 'microphone': 'Soundscape', 'license': 'Creative Commons Attribution 4.0 International Public License', 'source': 'https://zenodo.org/record/7078499', 'local_time': '6:52:43', 'detected_events': None, 'event_cluster': None, 'peaks': None, 'quality': None, 'recordist': None}\n",
      "\n",
      "bottom split percentage: 0.21203090507726274 \n",
      "top split percentage: 0.11655629139072843\n",
      "\n",
      "Dataset({\n",
      "    features: ['audio', 'filepath', 'start_time', 'end_time', 'low_freq', 'high_freq', 'ebird_code', 'ebird_code_multilabel', 'ebird_code_secondary', 'call_type', 'sex', 'lat', 'long', 'length', 'microphone', 'license', 'source', 'local_time', 'detected_events', 'event_cluster', 'peaks', 'quality', 'recordist'],\n",
      "    num_rows: 7140\n",
      "}) {'audio': {'bytes': None, 'path': 'd:\\\\Programmierzeugs\\\\BirdSet\\\\data_birdset\\\\UHH_scape\\\\downloads\\\\extracted\\\\a39fd4590182df6876811d8e287d9479e4bec4a72763eac481048068f2595c09\\\\UHH_613_S02_20220312_060000_295_299.ogg'}, 'filepath': 'd:\\\\Programmierzeugs\\\\BirdSet\\\\data_birdset\\\\UHH_scape\\\\downloads\\\\extracted\\\\a39fd4590182df6876811d8e287d9479e4bec4a72763eac481048068f2595c09\\\\UHH_613_S02_20220312_060000_295_299.ogg', 'start_time': 0.0, 'end_time': 4.990218749999997, 'low_freq': None, 'high_freq': None, 'ebird_code': None, 'ebird_code_multilabel': [18], 'ebird_code_secondary': None, 'call_type': None, 'sex': None, 'lat': 19.792975, 'long': -155.321332, 'length': None, 'microphone': 'Soundscape', 'license': 'Creative Commons Attribution 4.0 International Public License', 'source': 'https://zenodo.org/record/7078499', 'local_time': '6:04:57', 'detected_events': None, 'event_cluster': None, 'peaks': None, 'quality': None, 'recordist': None}\n",
      "Dataset({\n",
      "    features: ['audio', 'filepath', 'start_time', 'end_time', 'low_freq', 'high_freq', 'ebird_code', 'ebird_code_multilabel', 'ebird_code_secondary', 'call_type', 'sex', 'lat', 'long', 'length', 'microphone', 'license', 'source', 'local_time', 'detected_events', 'event_cluster', 'peaks', 'quality', 'recordist'],\n",
      "    num_rows: 1920\n",
      "}) {'audio': {'bytes': None, 'path': 'd:\\\\Programmierzeugs\\\\BirdSet\\\\data_birdset\\\\UHH_scape\\\\downloads\\\\extracted\\\\a39fd4590182df6876811d8e287d9479e4bec4a72763eac481048068f2595c09\\\\UHH_614_S02_20220322_071700_000_005.ogg'}, 'filepath': 'd:\\\\Programmierzeugs\\\\BirdSet\\\\data_birdset\\\\UHH_scape\\\\downloads\\\\extracted\\\\a39fd4590182df6876811d8e287d9479e4bec4a72763eac481048068f2595c09\\\\UHH_614_S02_20220322_071700_000_005.ogg', 'start_time': 0.0, 'end_time': 5.0, 'low_freq': None, 'high_freq': None, 'ebird_code': None, 'ebird_code_multilabel': [25], 'ebird_code_secondary': None, 'call_type': None, 'sex': None, 'lat': 19.792975, 'long': -155.321332, 'length': None, 'microphone': 'Soundscape', 'license': 'Creative Commons Attribution 4.0 International Public License', 'source': 'https://zenodo.org/record/7078499', 'local_time': '7:17:02', 'detected_events': None, 'event_cluster': None, 'peaks': None, 'quality': None, 'recordist': None}\n",
      "\n",
      "test_split percentage: 0.21748505609083713\n"
     ]
    },
    {
     "data": {
      "text/plain": [
       "DatasetDict({\n",
       "    train: Dataset({\n",
       "        features: ['audio', 'filepath', 'start_time', 'end_time', 'low_freq', 'high_freq', 'ebird_code', 'ebird_code_multilabel', 'ebird_code_secondary', 'call_type', 'sex', 'lat', 'long', 'length', 'microphone', 'license', 'source', 'local_time', 'detected_events', 'event_cluster', 'peaks', 'quality', 'recordist'],\n",
       "        num_rows: 28668\n",
       "    })\n",
       "    test: Dataset({\n",
       "        features: ['audio', 'filepath', 'start_time', 'end_time', 'low_freq', 'high_freq', 'ebird_code', 'ebird_code_multilabel', 'ebird_code_secondary', 'call_type', 'sex', 'lat', 'long', 'length', 'microphone', 'license', 'source', 'local_time', 'detected_events', 'event_cluster', 'peaks', 'quality', 'recordist'],\n",
       "        num_rows: 7968\n",
       "    })\n",
       "})"
      ]
     },
     "execution_count": 42,
     "metadata": {},
     "output_type": "execute_result"
    }
   ],
   "source": [
    "def get_file_comparison_name(path :str) -> str:\n",
    "    path = cut_underscores(path, 3)\n",
    "    path = path[-8:]\n",
    "    return path\n",
    "\n",
    "desired_train_split = 0.2\n",
    "\n",
    "sites_split = {}\n",
    "sites_split[\"train\"] = []\n",
    "sites_split[\"test\"] = []\n",
    "\n",
    "for site in sites.keys():\n",
    "    site_dataset = sites[site]\n",
    "    num_rows = len(site_dataset)\n",
    "    desired_train_split_idx = int(num_rows * (1 - desired_train_split))\n",
    "\n",
    "    filepath : str = site_dataset[desired_train_split_idx][\"filepath\"]\n",
    "    split_file = get_file_comparison_name(filepath)\n",
    "    print(split_file)\n",
    "    # since split shouldn't cut files in two find nearest index that's a different file\n",
    "    bottom_idx = 0\n",
    "    top_idx = num_rows-1\n",
    "\n",
    "    for idx in range(desired_train_split_idx-1, -1, -1):\n",
    "        filepath_at_idx = site_dataset[idx][\"filepath\"]\n",
    "        file_at_idx = get_file_comparison_name(filepath_at_idx)\n",
    "\n",
    "        if file_at_idx != split_file:\n",
    "            bottom_idx = idx\n",
    "            break\n",
    "\n",
    "    for idx in range(desired_train_split_idx, num_rows):\n",
    "        filepath_at_idx = site_dataset[idx][\"filepath\"]\n",
    "        file_at_idx = get_file_comparison_name(filepath_at_idx)\n",
    "\n",
    "        if file_at_idx != split_file:\n",
    "            top_idx = idx\n",
    "            break\n",
    "\n",
    "    bottom_train_split = 1- (bottom_idx / num_rows)\n",
    "    top_train_split = 1 - (top_idx / num_rows)\n",
    "    print(f\"bottom split idx: {bottom_idx} \\ndata at idx: {test_5s[bottom_idx]}\\n\")\n",
    "    print(f\"top split idx: {top_idx} \\ndata at idx: {test_5s[top_idx]}\\n\")\n",
    "    print(f\"bottom split percentage: {bottom_train_split} \\ntop split percentage: {top_train_split}\\n\")\n",
    "\n",
    "    if bottom_train_split - desired_train_split > desired_train_split - top_train_split:\n",
    "        nearest_split_idx = top_idx\n",
    "        furthest_split_idx = bottom_idx\n",
    "    else:\n",
    "        nearest_split_idx = bottom_idx\n",
    "        furthest_split_idx = top_idx\n",
    "\n",
    "    try: \n",
    "        train_split = site_dataset.select(range(nearest_split_idx+1))\n",
    "        test_split = site_dataset.select(range(nearest_split_idx+1, num_rows))\n",
    "    except IndexError:\n",
    "        train_split = site_dataset.select(range(furthest_split_idx+1))\n",
    "        test_split = site_dataset.select(range(furthest_split_idx+1, num_rows))\n",
    "\n",
    "    print(train_split, train_split[-1])\n",
    "    print(test_split, test_split[0])\n",
    "\n",
    "    sites_split[\"train\"].append(train_split)\n",
    "    sites_split[\"test\"].append(test_split)\n",
    "\n",
    "train_set = concatenate_datasets([sites_split[\"train\"][0], sites_split[\"train\"][1], sites_split[\"train\"][2], sites_split[\"train\"][3]])\n",
    "test_set = concatenate_datasets([sites_split[\"test\"][0], sites_split[\"test\"][1], sites_split[\"test\"][2], sites_split[\"test\"][3]])\n",
    "uhh_test_5s_dataset_dict = DatasetDict({'train':train_set, 'test':test_set})\n",
    "test_split_percentage = len(uhh_test_5s_dataset_dict[\"test\"]) / len(test_5s)\n",
    "print(f\"\\ntest_split percentage: {test_split_percentage}\")\n",
    "\n",
    "uhh_test_5s_dataset_dict"
   ]
  },
  {
   "cell_type": "code",
   "execution_count": 33,
   "metadata": {},
   "outputs": [
    {
     "data": {
      "application/vnd.jupyter.widget-view+json": {
       "model_id": "ae95f8ab355b4adbad8f2360a6d29d6c",
       "version_major": 2,
       "version_minor": 0
      },
      "text/plain": [
       "Uploading the dataset shards:   0%|          | 0/3 [00:00<?, ?it/s]"
      ]
     },
     "metadata": {},
     "output_type": "display_data"
    },
    {
     "data": {
      "application/vnd.jupyter.widget-view+json": {
       "model_id": "d88f1c213aa440b6b64ee1ac699a229a",
       "version_major": 2,
       "version_minor": 0
      },
      "text/plain": [
       "Map:   0%|          | 0/9556 [00:00<?, ? examples/s]"
      ]
     },
     "metadata": {},
     "output_type": "display_data"
    },
    {
     "data": {
      "application/vnd.jupyter.widget-view+json": {
       "model_id": "c0c378c7562d47a8b8f34466ce9baf35",
       "version_major": 2,
       "version_minor": 0
      },
      "text/plain": [
       "Creating parquet from Arrow format:   0%|          | 0/96 [00:00<?, ?ba/s]"
      ]
     },
     "metadata": {},
     "output_type": "display_data"
    },
    {
     "data": {
      "application/vnd.jupyter.widget-view+json": {
       "model_id": "159e810e472a44dfb3d0451f93647cea",
       "version_major": 2,
       "version_minor": 0
      },
      "text/plain": [
       "Map:   0%|          | 0/9556 [00:00<?, ? examples/s]"
      ]
     },
     "metadata": {},
     "output_type": "display_data"
    },
    {
     "data": {
      "application/vnd.jupyter.widget-view+json": {
       "model_id": "cda0665e66b64ccb82e9ebc1c4d09815",
       "version_major": 2,
       "version_minor": 0
      },
      "text/plain": [
       "Creating parquet from Arrow format:   0%|          | 0/96 [00:00<?, ?ba/s]"
      ]
     },
     "metadata": {},
     "output_type": "display_data"
    },
    {
     "data": {
      "application/vnd.jupyter.widget-view+json": {
       "model_id": "b9a743c50b904ec1924d74d6efd95835",
       "version_major": 2,
       "version_minor": 0
      },
      "text/plain": [
       "Map:   0%|          | 0/9556 [00:00<?, ? examples/s]"
      ]
     },
     "metadata": {},
     "output_type": "display_data"
    },
    {
     "data": {
      "application/vnd.jupyter.widget-view+json": {
       "model_id": "8dae5945cc684a09bfa45f8b4b72f0fb",
       "version_major": 2,
       "version_minor": 0
      },
      "text/plain": [
       "Creating parquet from Arrow format:   0%|          | 0/96 [00:00<?, ?ba/s]"
      ]
     },
     "metadata": {},
     "output_type": "display_data"
    },
    {
     "data": {
      "application/vnd.jupyter.widget-view+json": {
       "model_id": "d10805598b2c47aebaf38dca045b8255",
       "version_major": 2,
       "version_minor": 0
      },
      "text/plain": [
       "Uploading the dataset shards:   0%|          | 0/1 [00:00<?, ?it/s]"
      ]
     },
     "metadata": {},
     "output_type": "display_data"
    },
    {
     "data": {
      "application/vnd.jupyter.widget-view+json": {
       "model_id": "09f6c84c029a4ae898ab86cb5da48250",
       "version_major": 2,
       "version_minor": 0
      },
      "text/plain": [
       "Map:   0%|          | 0/7968 [00:00<?, ? examples/s]"
      ]
     },
     "metadata": {},
     "output_type": "display_data"
    },
    {
     "data": {
      "application/vnd.jupyter.widget-view+json": {
       "model_id": "1228b9a2596e45dd8b04c4e7ab42d775",
       "version_major": 2,
       "version_minor": 0
      },
      "text/plain": [
       "Creating parquet from Arrow format:   0%|          | 0/80 [00:00<?, ?ba/s]"
      ]
     },
     "metadata": {},
     "output_type": "display_data"
    },
    {
     "data": {
      "application/vnd.jupyter.widget-view+json": {
       "model_id": "ef48acc82cef4207b67ada9262986520",
       "version_major": 2,
       "version_minor": 0
      },
      "text/plain": [
       "README.md:   0%|          | 0.00/5.59k [00:00<?, ?B/s]"
      ]
     },
     "metadata": {},
     "output_type": "display_data"
    },
    {
     "data": {
      "text/plain": [
       "CommitInfo(commit_url='https://huggingface.co/datasets/DBD-research-group/soundscape_datasets/commit/89aae089656d06d6d6eba1bb432bf276d53bfe06', commit_message='Upload dataset', commit_description='', oid='89aae089656d06d6d6eba1bb432bf276d53bfe06', pr_url=None, pr_revision=None, pr_num=None)"
      ]
     },
     "execution_count": 33,
     "metadata": {},
     "output_type": "execute_result"
    }
   ],
   "source": [
    "#uhh_test_5s_dataset_dict.push_to_hub(repo_id=\"DBD-research-group/soundscape_datasets\", data_dir=\"UHH22p\")"
   ]
  },
  {
   "cell_type": "markdown",
   "metadata": {},
   "source": [
    "# NBP"
   ]
  },
  {
   "cell_type": "code",
   "execution_count": 43,
   "metadata": {},
   "outputs": [
    {
     "name": "stderr",
     "output_type": "stream",
     "text": [
      "c:\\Users\\feier\\miniconda3\\envs\\birdset\\lib\\site-packages\\datasets\\load.py:1486: FutureWarning: The repository for DBD-research-group/BirdSet contains custom code which must be executed to correctly load the dataset. You can inspect the repository content at https://hf.co/datasets/DBD-research-group/BirdSet\n",
      "You can avoid this message in future by passing the argument `trust_remote_code=True`.\n",
      "Passing `trust_remote_code=True` will be mandatory to load this dataset from the next major release of `datasets`.\n",
      "  warnings.warn(\n"
     ]
    },
    {
     "name": "stdout",
     "output_type": "stream",
     "text": [
      "DatasetDict({\n",
      "    test: Dataset({\n",
      "        features: ['audio', 'filepath', 'start_time', 'end_time', 'low_freq', 'high_freq', 'ebird_code', 'ebird_code_multilabel', 'ebird_code_secondary', 'call_type', 'sex', 'lat', 'long', 'length', 'microphone', 'license', 'source', 'local_time', 'detected_events', 'event_cluster', 'peaks', 'quality', 'recordist'],\n",
      "        num_rows: 5279\n",
      "    })\n",
      "    test_5s: Dataset({\n",
      "        features: ['audio', 'filepath', 'start_time', 'end_time', 'low_freq', 'high_freq', 'ebird_code', 'ebird_code_multilabel', 'ebird_code_secondary', 'call_type', 'sex', 'lat', 'long', 'length', 'microphone', 'license', 'source', 'local_time', 'detected_events', 'event_cluster', 'peaks', 'quality', 'recordist'],\n",
      "        num_rows: 539\n",
      "    })\n",
      "})\n"
     ]
    },
    {
     "data": {
      "text/plain": [
       "{'audio': {'bytes': None,\n",
       "  'path': 'd:\\\\Programmierzeugs\\\\BirdSet\\\\data_birdset\\\\NBP_scape\\\\downloads\\\\extracted\\\\9c8517c6f12879ef44c4f8a96e566675b59d0c859f17b5a4ede37384ffa78ae3\\\\nips4b_birds_trainfile173_000_001.ogg'},\n",
       " 'filepath': 'd:\\\\Programmierzeugs\\\\BirdSet\\\\data_birdset\\\\NBP_scape\\\\downloads\\\\extracted\\\\9c8517c6f12879ef44c4f8a96e566675b59d0c859f17b5a4ede37384ffa78ae3\\\\nips4b_birds_trainfile173_000_001.ogg',\n",
       " 'start_time': 0.0,\n",
       " 'end_time': 1.0158730158730158,\n",
       " 'low_freq': None,\n",
       " 'high_freq': None,\n",
       " 'ebird_code': None,\n",
       " 'ebird_code_multilabel': [0],\n",
       " 'ebird_code_secondary': None,\n",
       " 'call_type': 'song',\n",
       " 'sex': None,\n",
       " 'lat': None,\n",
       " 'long': None,\n",
       " 'length': None,\n",
       " 'microphone': 'Soundscape (SMX-US)',\n",
       " 'license': None,\n",
       " 'source': 'https://figshare.com/articles/dataset/Transcriptions_of_NIPS4B_2013_Bird_Challenge_Training_Dataset/6798548',\n",
       " 'local_time': 'NaT',\n",
       " 'detected_events': None,\n",
       " 'event_cluster': None,\n",
       " 'peaks': None,\n",
       " 'quality': None,\n",
       " 'recordist': None}"
      ]
     },
     "execution_count": 43,
     "metadata": {},
     "output_type": "execute_result"
    }
   ],
   "source": [
    "dataset = get_dataset(\"NBP_scape\")\n",
    "test_5s = dataset[\"test_5s\"]\n",
    "print(dataset)\n",
    "next(iter(test_5s))"
   ]
  },
  {
   "cell_type": "markdown",
   "metadata": {},
   "source": [
    "## Split by percentage"
   ]
  },
  {
   "cell_type": "code",
   "execution_count": 44,
   "metadata": {},
   "outputs": [
    {
     "name": "stdout",
     "output_type": "stream",
     "text": [
      "dataset length: 539\n",
      "\n",
      "bottom split idx: 430 \n",
      "data at idx: {'audio': {'bytes': None, 'path': 'd:\\\\Programmierzeugs\\\\BirdSet\\\\data_birdset\\\\NBP_scape\\\\downloads\\\\extracted\\\\9c8517c6f12879ef44c4f8a96e566675b59d0c859f17b5a4ede37384ffa78ae3\\\\nips4b_birds_trainfile651_000_005.ogg'}, 'filepath': 'd:\\\\Programmierzeugs\\\\BirdSet\\\\data_birdset\\\\NBP_scape\\\\downloads\\\\extracted\\\\9c8517c6f12879ef44c4f8a96e566675b59d0c859f17b5a4ede37384ffa78ae3\\\\nips4b_birds_trainfile651_000_005.ogg', 'start_time': 0.0, 'end_time': 5.0, 'low_freq': None, 'high_freq': None, 'ebird_code': None, 'ebird_code_multilabel': [22], 'ebird_code_secondary': None, 'call_type': 'song', 'sex': None, 'lat': None, 'long': None, 'length': None, 'microphone': 'Soundscape (SMX-US)', 'license': None, 'source': 'https://figshare.com/articles/dataset/Transcriptions_of_NIPS4B_2013_Bird_Challenge_Training_Dataset/6798548', 'local_time': 'NaT', 'detected_events': None, 'event_cluster': None, 'peaks': None, 'quality': None, 'recordist': None}\n",
      "\n",
      "top split idx: 432 \n",
      "data at idx: {'audio': {'bytes': None, 'path': 'd:\\\\Programmierzeugs\\\\BirdSet\\\\data_birdset\\\\NBP_scape\\\\downloads\\\\extracted\\\\9c8517c6f12879ef44c4f8a96e566675b59d0c859f17b5a4ede37384ffa78ae3\\\\nips4b_birds_trainfile319_000_005.ogg'}, 'filepath': 'd:\\\\Programmierzeugs\\\\BirdSet\\\\data_birdset\\\\NBP_scape\\\\downloads\\\\extracted\\\\9c8517c6f12879ef44c4f8a96e566675b59d0c859f17b5a4ede37384ffa78ae3\\\\nips4b_birds_trainfile319_000_005.ogg', 'start_time': 0.0, 'end_time': 5.0, 'low_freq': None, 'high_freq': None, 'ebird_code': None, 'ebird_code_multilabel': [12, 6, 11], 'ebird_code_secondary': None, 'call_type': 'call', 'sex': None, 'lat': None, 'long': None, 'length': None, 'microphone': 'Soundscape (SMX-US)', 'license': None, 'source': 'https://figshare.com/articles/dataset/Transcriptions_of_NIPS4B_2013_Bird_Challenge_Training_Dataset/6798548', 'local_time': 'NaT', 'detected_events': None, 'event_cluster': None, 'peaks': None, 'quality': None, 'recordist': None}\n",
      "\n",
      "bottom split percentage: 0.2022263450834879 \n",
      "top split percentage: 0.1985157699443414\n",
      "\n",
      "train dataset:\n",
      " Dataset({\n",
      "    features: ['audio', 'filepath', 'start_time', 'end_time', 'low_freq', 'high_freq', 'ebird_code', 'ebird_code_multilabel', 'ebird_code_secondary', 'call_type', 'sex', 'lat', 'long', 'length', 'microphone', 'license', 'source', 'local_time', 'detected_events', 'event_cluster', 'peaks', 'quality', 'recordist'],\n",
      "    num_rows: 433\n",
      "}) {'audio': {'bytes': None, 'path': 'd:\\\\Programmierzeugs\\\\BirdSet\\\\data_birdset\\\\NBP_scape\\\\downloads\\\\extracted\\\\9c8517c6f12879ef44c4f8a96e566675b59d0c859f17b5a4ede37384ffa78ae3\\\\nips4b_birds_trainfile319_000_005.ogg'}, 'filepath': 'd:\\\\Programmierzeugs\\\\BirdSet\\\\data_birdset\\\\NBP_scape\\\\downloads\\\\extracted\\\\9c8517c6f12879ef44c4f8a96e566675b59d0c859f17b5a4ede37384ffa78ae3\\\\nips4b_birds_trainfile319_000_005.ogg', 'start_time': 0.0, 'end_time': 5.0, 'low_freq': None, 'high_freq': None, 'ebird_code': None, 'ebird_code_multilabel': [12, 6, 11], 'ebird_code_secondary': None, 'call_type': 'call', 'sex': None, 'lat': None, 'long': None, 'length': None, 'microphone': 'Soundscape (SMX-US)', 'license': None, 'source': 'https://figshare.com/articles/dataset/Transcriptions_of_NIPS4B_2013_Bird_Challenge_Training_Dataset/6798548', 'local_time': 'NaT', 'detected_events': None, 'event_cluster': None, 'peaks': None, 'quality': None, 'recordist': None}\n",
      "test dataset:\n",
      " Dataset({\n",
      "    features: ['audio', 'filepath', 'start_time', 'end_time', 'low_freq', 'high_freq', 'ebird_code', 'ebird_code_multilabel', 'ebird_code_secondary', 'call_type', 'sex', 'lat', 'long', 'length', 'microphone', 'license', 'source', 'local_time', 'detected_events', 'event_cluster', 'peaks', 'quality', 'recordist'],\n",
      "    num_rows: 106\n",
      "}) {'audio': {'bytes': None, 'path': 'd:\\\\Programmierzeugs\\\\BirdSet\\\\data_birdset\\\\NBP_scape\\\\downloads\\\\extracted\\\\9c8517c6f12879ef44c4f8a96e566675b59d0c859f17b5a4ede37384ffa78ae3\\\\nips4b_birds_trainfile620_000_004.ogg'}, 'filepath': 'd:\\\\Programmierzeugs\\\\BirdSet\\\\data_birdset\\\\NBP_scape\\\\downloads\\\\extracted\\\\9c8517c6f12879ef44c4f8a96e566675b59d0c859f17b5a4ede37384ffa78ae3\\\\nips4b_birds_trainfile620_000_004.ogg', 'start_time': 0.0, 'end_time': 4.440816326530612, 'low_freq': None, 'high_freq': None, 'ebird_code': None, 'ebird_code_multilabel': [27], 'ebird_code_secondary': None, 'call_type': 'song', 'sex': None, 'lat': None, 'long': None, 'length': None, 'microphone': 'Soundscape (SMX-US)', 'license': None, 'source': 'https://figshare.com/articles/dataset/Transcriptions_of_NIPS4B_2013_Bird_Challenge_Training_Dataset/6798548', 'local_time': 'NaT', 'detected_events': None, 'event_cluster': None, 'peaks': None, 'quality': None, 'recordist': None}\n"
     ]
    },
    {
     "data": {
      "text/plain": [
       "DatasetDict({\n",
       "    train: Dataset({\n",
       "        features: ['audio', 'filepath', 'start_time', 'end_time', 'low_freq', 'high_freq', 'ebird_code', 'ebird_code_multilabel', 'ebird_code_secondary', 'call_type', 'sex', 'lat', 'long', 'length', 'microphone', 'license', 'source', 'local_time', 'detected_events', 'event_cluster', 'peaks', 'quality', 'recordist'],\n",
       "        num_rows: 433\n",
       "    })\n",
       "    test: Dataset({\n",
       "        features: ['audio', 'filepath', 'start_time', 'end_time', 'low_freq', 'high_freq', 'ebird_code', 'ebird_code_multilabel', 'ebird_code_secondary', 'call_type', 'sex', 'lat', 'long', 'length', 'microphone', 'license', 'source', 'local_time', 'detected_events', 'event_cluster', 'peaks', 'quality', 'recordist'],\n",
       "        num_rows: 106\n",
       "    })\n",
       "})"
      ]
     },
     "execution_count": 44,
     "metadata": {},
     "output_type": "execute_result"
    }
   ],
   "source": [
    "def get_file_comparison_name(path :str) -> str:\n",
    "    path = cut_underscores(path, 2)\n",
    "    return path\n",
    "\n",
    "num_rows = len(test_5s)\n",
    "print(f\"dataset length: {num_rows}\\n\")\n",
    "desired_train_split = 0.2\n",
    "desired_train_split_idx = int(num_rows * (1 - desired_train_split))\n",
    "\n",
    "filepath : str = test_5s[desired_train_split_idx][\"filepath\"]\n",
    "split_file = get_file_comparison_name(filepath)\n",
    "\n",
    "# since split shouldn't cut files in two find nearest index that's a different file\n",
    "bottom_idx = 0\n",
    "top_idx = num_rows-1\n",
    "\n",
    "for idx in range(desired_train_split_idx-1, -1, -1):\n",
    "    filepath_at_idx = test_5s[idx][\"filepath\"]\n",
    "    file_at_idx = get_file_comparison_name(filepath_at_idx)\n",
    "\n",
    "    if file_at_idx != split_file:\n",
    "        bottom_idx = idx\n",
    "        break\n",
    "\n",
    "for idx in range(desired_train_split_idx, num_rows):\n",
    "    filepath_at_idx = test_5s[idx][\"filepath\"]\n",
    "    file_at_idx = get_file_comparison_name(filepath_at_idx)\n",
    "\n",
    "    if file_at_idx != split_file:\n",
    "        top_idx = idx\n",
    "        break\n",
    "\n",
    "\n",
    "\n",
    "bottom_train_split = 1- (bottom_idx / num_rows)\n",
    "top_train_split = 1 - (top_idx / num_rows)\n",
    "print(f\"bottom split idx: {bottom_idx} \\ndata at idx: {test_5s[bottom_idx]}\\n\")\n",
    "print(f\"top split idx: {top_idx} \\ndata at idx: {test_5s[top_idx]}\\n\")\n",
    "print(f\"bottom split percentage: {bottom_train_split} \\ntop split percentage: {top_train_split}\\n\")\n",
    "\n",
    "# select nearest to desired split\n",
    "if bottom_train_split - desired_train_split > desired_train_split - top_train_split:\n",
    "    nearest_split_idx = top_idx\n",
    "else:\n",
    "    nearest_split_idx = bottom_idx\n",
    "\n",
    "train_split = test_5s.select(range(nearest_split_idx+1))\n",
    "test_split = test_5s.select(range(nearest_split_idx+1, num_rows))\n",
    "\n",
    "print(\"train dataset:\\n\" ,train_split, train_split[-1])\n",
    "print(\"test dataset:\\n\", test_split, test_split[0])\n",
    "\n",
    "nbp_test_5s_dataset_dict = DatasetDict({'train':train_split, 'test':test_split})\n",
    "nbp_test_5s_dataset_dict"
   ]
  },
  {
   "cell_type": "code",
   "execution_count": 38,
   "metadata": {},
   "outputs": [
    {
     "data": {
      "application/vnd.jupyter.widget-view+json": {
       "model_id": "441ae9d2c1a142f1a65bfed80d37bb25",
       "version_major": 2,
       "version_minor": 0
      },
      "text/plain": [
       "Uploading the dataset shards:   0%|          | 0/1 [00:00<?, ?it/s]"
      ]
     },
     "metadata": {},
     "output_type": "display_data"
    },
    {
     "data": {
      "application/vnd.jupyter.widget-view+json": {
       "model_id": "b5a40873eac049f9a8793c4650abefb5",
       "version_major": 2,
       "version_minor": 0
      },
      "text/plain": [
       "Map:   0%|          | 0/433 [00:00<?, ? examples/s]"
      ]
     },
     "metadata": {},
     "output_type": "display_data"
    },
    {
     "data": {
      "application/vnd.jupyter.widget-view+json": {
       "model_id": "27fea521728e4fcd8d7551c684dedd08",
       "version_major": 2,
       "version_minor": 0
      },
      "text/plain": [
       "Creating parquet from Arrow format:   0%|          | 0/5 [00:00<?, ?ba/s]"
      ]
     },
     "metadata": {},
     "output_type": "display_data"
    },
    {
     "data": {
      "application/vnd.jupyter.widget-view+json": {
       "model_id": "78527c189dc04e9b8afe82331bf495da",
       "version_major": 2,
       "version_minor": 0
      },
      "text/plain": [
       "Uploading the dataset shards:   0%|          | 0/1 [00:00<?, ?it/s]"
      ]
     },
     "metadata": {},
     "output_type": "display_data"
    },
    {
     "data": {
      "application/vnd.jupyter.widget-view+json": {
       "model_id": "33ca276b437f4ea4a78cfc357b5d60b0",
       "version_major": 2,
       "version_minor": 0
      },
      "text/plain": [
       "Map:   0%|          | 0/106 [00:00<?, ? examples/s]"
      ]
     },
     "metadata": {},
     "output_type": "display_data"
    },
    {
     "data": {
      "application/vnd.jupyter.widget-view+json": {
       "model_id": "792fde4fc8db407db02730fe16c6d999",
       "version_major": 2,
       "version_minor": 0
      },
      "text/plain": [
       "Creating parquet from Arrow format:   0%|          | 0/2 [00:00<?, ?ba/s]"
      ]
     },
     "metadata": {},
     "output_type": "display_data"
    },
    {
     "data": {
      "application/vnd.jupyter.widget-view+json": {
       "model_id": "8faa73a0e0cc4eb8ae38d5bc90dc81cb",
       "version_major": 2,
       "version_minor": 0
      },
      "text/plain": [
       "README.md:   0%|          | 0.00/3.10k [00:00<?, ?B/s]"
      ]
     },
     "metadata": {},
     "output_type": "display_data"
    },
    {
     "data": {
      "text/plain": [
       "CommitInfo(commit_url='https://huggingface.co/datasets/DBD-research-group/soundscape_datasets/commit/dd22de3cd67718188d3cb3c5bf8622b7cb168d69', commit_message='Upload dataset', commit_description='', oid='dd22de3cd67718188d3cb3c5bf8622b7cb168d69', pr_url=None, pr_revision=None, pr_num=None)"
      ]
     },
     "execution_count": 38,
     "metadata": {},
     "output_type": "execute_result"
    }
   ],
   "source": [
    "#nbp_test_5s_dataset_dict.push_to_hub(repo_id=\"DBD-research-group/soundscape_datasets\", data_dir=\"NBP20p\")"
   ]
  },
  {
   "cell_type": "markdown",
   "metadata": {},
   "source": [
    "# SNE"
   ]
  },
  {
   "cell_type": "code",
   "execution_count": 45,
   "metadata": {},
   "outputs": [
    {
     "name": "stdout",
     "output_type": "stream",
     "text": [
      "DatasetDict({\n",
      "    test: Dataset({\n",
      "        features: ['audio', 'filepath', 'start_time', 'end_time', 'low_freq', 'high_freq', 'ebird_code', 'ebird_code_multilabel', 'ebird_code_secondary', 'call_type', 'sex', 'lat', 'long', 'length', 'microphone', 'license', 'source', 'local_time', 'detected_events', 'event_cluster', 'peaks', 'quality', 'recordist'],\n",
      "        num_rows: 20147\n",
      "    })\n",
      "    test_5s: Dataset({\n",
      "        features: ['audio', 'filepath', 'start_time', 'end_time', 'low_freq', 'high_freq', 'ebird_code', 'ebird_code_multilabel', 'ebird_code_secondary', 'call_type', 'sex', 'lat', 'long', 'length', 'microphone', 'license', 'source', 'local_time', 'detected_events', 'event_cluster', 'peaks', 'quality', 'recordist'],\n",
      "        num_rows: 23756\n",
      "    })\n",
      "})\n"
     ]
    },
    {
     "data": {
      "text/plain": [
       "{'audio': {'bytes': None,\n",
       "  'path': 'd:\\\\Programmierzeugs\\\\BirdSet\\\\data_birdset\\\\SNE_scape\\\\downloads\\\\extracted\\\\9107d16437ff81a28c02486e4cbe533a4bb535389b99ef128a552c27228356d0\\\\SNE_001_20180509_050002_000_005.ogg'},\n",
       " 'filepath': 'd:\\\\Programmierzeugs\\\\BirdSet\\\\data_birdset\\\\SNE_scape\\\\downloads\\\\extracted\\\\9107d16437ff81a28c02486e4cbe533a4bb535389b99ef128a552c27228356d0\\\\SNE_001_20180509_050002_000_005.ogg',\n",
       " 'start_time': 0.0,\n",
       " 'end_time': 5.0,\n",
       " 'low_freq': None,\n",
       " 'high_freq': None,\n",
       " 'ebird_code': None,\n",
       " 'ebird_code_multilabel': [],\n",
       " 'ebird_code_secondary': None,\n",
       " 'call_type': None,\n",
       " 'sex': None,\n",
       " 'lat': 38.49,\n",
       " 'long': -119.95,\n",
       " 'length': None,\n",
       " 'microphone': 'Soundscape',\n",
       " 'license': 'Creative Commons Attribution 4.0 International Public License',\n",
       " 'source': 'https://zenodo.org/record/7050014',\n",
       " 'local_time': '5:08:45',\n",
       " 'detected_events': None,\n",
       " 'event_cluster': None,\n",
       " 'peaks': None,\n",
       " 'quality': None,\n",
       " 'recordist': None}"
      ]
     },
     "execution_count": 45,
     "metadata": {},
     "output_type": "execute_result"
    }
   ],
   "source": [
    "dataset = get_dataset(\"SNE_scape\")\n",
    "test_5s = dataset[\"test_5s\"]\n",
    "print(dataset)\n",
    "next(iter(test_5s))"
   ]
  },
  {
   "cell_type": "markdown",
   "metadata": {},
   "source": [
    "## Split by percentage"
   ]
  },
  {
   "cell_type": "code",
   "execution_count": 41,
   "metadata": {},
   "outputs": [
    {
     "name": "stdout",
     "output_type": "stream",
     "text": [
      "23756\n",
      "d:\\Programmierzeugs\\BirdSet\\data_birdset\\SNE_scape\\downloads\\extracted\\9107d16437ff81a28c02486e4cbe533a4bb535389b99ef128a552c27228356d0\\SNE_027_20180529\n",
      "18716 {'audio': {'bytes': None, 'path': 'd:\\\\Programmierzeugs\\\\BirdSet\\\\data_birdset\\\\SNE_scape\\\\downloads\\\\extracted\\\\9107d16437ff81a28c02486e4cbe533a4bb535389b99ef128a552c27228356d0\\\\SNE_026_20180529_040002_3595_3600.ogg'}, 'filepath': 'd:\\\\Programmierzeugs\\\\BirdSet\\\\data_birdset\\\\SNE_scape\\\\downloads\\\\extracted\\\\9107d16437ff81a28c02486e4cbe533a4bb535389b99ef128a552c27228356d0\\\\SNE_026_20180529_040002_3595_3600.ogg', 'start_time': 0.0, 'end_time': 5.0, 'low_freq': None, 'high_freq': None, 'ebird_code': None, 'ebird_code_multilabel': [50, 20, 45], 'ebird_code_secondary': None, 'call_type': None, 'sex': None, 'lat': 38.49, 'long': -119.95, 'length': None, 'microphone': 'Soundscape', 'license': 'Creative Commons Attribution 4.0 International Public License', 'source': 'https://zenodo.org/record/7050014', 'local_time': '5:44:46', 'detected_events': None, 'event_cluster': None, 'peaks': None, 'quality': None, 'recordist': None}\n",
      "19437 {'audio': {'bytes': None, 'path': 'd:\\\\Programmierzeugs\\\\BirdSet\\\\data_birdset\\\\SNE_scape\\\\downloads\\\\extracted\\\\9107d16437ff81a28c02486e4cbe533a4bb535389b99ef128a552c27228356d0\\\\SNE_028_20180529_060003_000_005.ogg'}, 'filepath': 'd:\\\\Programmierzeugs\\\\BirdSet\\\\data_birdset\\\\SNE_scape\\\\downloads\\\\extracted\\\\9107d16437ff81a28c02486e4cbe533a4bb535389b99ef128a552c27228356d0\\\\SNE_028_20180529_060003_000_005.ogg', 'start_time': 0.0, 'end_time': 5.0, 'low_freq': None, 'high_freq': None, 'ebird_code': None, 'ebird_code_multilabel': [22], 'ebird_code_secondary': None, 'call_type': None, 'sex': None, 'lat': 38.49, 'long': -119.95, 'length': None, 'microphone': 'Soundscape', 'license': 'Creative Commons Attribution 4.0 International Public License', 'source': 'https://zenodo.org/record/7050014', 'local_time': '6:00:11', 'detected_events': None, 'event_cluster': None, 'peaks': None, 'quality': None, 'recordist': None}\n",
      "0.2121569287758882 0.18180670146489308\n",
      "Dataset({\n",
      "    features: ['audio', 'filepath', 'start_time', 'end_time', 'low_freq', 'high_freq', 'ebird_code', 'ebird_code_multilabel', 'ebird_code_secondary', 'call_type', 'sex', 'lat', 'long', 'length', 'microphone', 'license', 'source', 'local_time', 'detected_events', 'event_cluster', 'peaks', 'quality', 'recordist'],\n",
      "    num_rows: 18717\n",
      "}) {'audio': {'bytes': None, 'path': 'd:\\\\Programmierzeugs\\\\BirdSet\\\\data_birdset\\\\SNE_scape\\\\downloads\\\\extracted\\\\9107d16437ff81a28c02486e4cbe533a4bb535389b99ef128a552c27228356d0\\\\SNE_026_20180529_040002_3595_3600.ogg'}, 'filepath': 'd:\\\\Programmierzeugs\\\\BirdSet\\\\data_birdset\\\\SNE_scape\\\\downloads\\\\extracted\\\\9107d16437ff81a28c02486e4cbe533a4bb535389b99ef128a552c27228356d0\\\\SNE_026_20180529_040002_3595_3600.ogg', 'start_time': 0.0, 'end_time': 5.0, 'low_freq': None, 'high_freq': None, 'ebird_code': None, 'ebird_code_multilabel': [50, 20, 45], 'ebird_code_secondary': None, 'call_type': None, 'sex': None, 'lat': 38.49, 'long': -119.95, 'length': None, 'microphone': 'Soundscape', 'license': 'Creative Commons Attribution 4.0 International Public License', 'source': 'https://zenodo.org/record/7050014', 'local_time': '5:44:46', 'detected_events': None, 'event_cluster': None, 'peaks': None, 'quality': None, 'recordist': None}\n",
      "Dataset({\n",
      "    features: ['audio', 'filepath', 'start_time', 'end_time', 'low_freq', 'high_freq', 'ebird_code', 'ebird_code_multilabel', 'ebird_code_secondary', 'call_type', 'sex', 'lat', 'long', 'length', 'microphone', 'license', 'source', 'local_time', 'detected_events', 'event_cluster', 'peaks', 'quality', 'recordist'],\n",
      "    num_rows: 5039\n",
      "}) {'audio': {'bytes': None, 'path': 'd:\\\\Programmierzeugs\\\\BirdSet\\\\data_birdset\\\\SNE_scape\\\\downloads\\\\extracted\\\\9107d16437ff81a28c02486e4cbe533a4bb535389b99ef128a552c27228356d0\\\\SNE_027_20180529_050002_000_005.ogg'}, 'filepath': 'd:\\\\Programmierzeugs\\\\BirdSet\\\\data_birdset\\\\SNE_scape\\\\downloads\\\\extracted\\\\9107d16437ff81a28c02486e4cbe533a4bb535389b99ef128a552c27228356d0\\\\SNE_027_20180529_050002_000_005.ogg', 'start_time': 0.0, 'end_time': 5.0, 'low_freq': None, 'high_freq': None, 'ebird_code': None, 'ebird_code_multilabel': [50, 20, 45], 'ebird_code_secondary': None, 'call_type': None, 'sex': None, 'lat': 38.49, 'long': -119.95, 'length': None, 'microphone': 'Soundscape', 'license': 'Creative Commons Attribution 4.0 International Public License', 'source': 'https://zenodo.org/record/7050014', 'local_time': '5:00:02', 'detected_events': None, 'event_cluster': None, 'peaks': None, 'quality': None, 'recordist': None}\n"
     ]
    },
    {
     "data": {
      "text/plain": [
       "DatasetDict({\n",
       "    train: Dataset({\n",
       "        features: ['audio', 'filepath', 'start_time', 'end_time', 'low_freq', 'high_freq', 'ebird_code', 'ebird_code_multilabel', 'ebird_code_secondary', 'call_type', 'sex', 'lat', 'long', 'length', 'microphone', 'license', 'source', 'local_time', 'detected_events', 'event_cluster', 'peaks', 'quality', 'recordist'],\n",
       "        num_rows: 18717\n",
       "    })\n",
       "    test: Dataset({\n",
       "        features: ['audio', 'filepath', 'start_time', 'end_time', 'low_freq', 'high_freq', 'ebird_code', 'ebird_code_multilabel', 'ebird_code_secondary', 'call_type', 'sex', 'lat', 'long', 'length', 'microphone', 'license', 'source', 'local_time', 'detected_events', 'event_cluster', 'peaks', 'quality', 'recordist'],\n",
       "        num_rows: 5039\n",
       "    })\n",
       "})"
      ]
     },
     "execution_count": 41,
     "metadata": {},
     "output_type": "execute_result"
    }
   ],
   "source": [
    "def get_file_comparison_name(path :str) -> str:\n",
    "    path = cut_underscores(path, 3)\n",
    "    return path\n",
    "\n",
    "num_rows = len(test_5s)\n",
    "print(num_rows)\n",
    "desired_train_split = 0.2\n",
    "desired_train_split_idx = int(num_rows * (1 - desired_train_split))\n",
    "\n",
    "filepath : str = test_5s[desired_train_split_idx][\"filepath\"]\n",
    "split_file = get_file_comparison_name(filepath)\n",
    "print(split_file)\n",
    "\n",
    "# since split shouldn't cut files in two find nearest index that's a different file\n",
    "bottom_idx = 0\n",
    "top_idx = num_rows-1\n",
    "\n",
    "for idx in range(desired_train_split_idx-1, -1, -1):\n",
    "    filepath_at_idx = test_5s[idx][\"filepath\"]\n",
    "    file_at_idx = get_file_comparison_name(filepath_at_idx)\n",
    "\n",
    "    if file_at_idx != split_file:\n",
    "        bottom_idx = idx\n",
    "        break\n",
    "\n",
    "for idx in range(desired_train_split_idx, num_rows):\n",
    "    filepath_at_idx = test_5s[idx][\"filepath\"]\n",
    "    file_at_idx = get_file_comparison_name(filepath_at_idx)\n",
    "\n",
    "    if file_at_idx != split_file:\n",
    "        top_idx = idx\n",
    "        break\n",
    "\n",
    "print(bottom_idx, test_5s[bottom_idx])\n",
    "print(top_idx, test_5s[top_idx])\n",
    "\n",
    "bottom_train_split = 1- (bottom_idx / num_rows)\n",
    "top_train_split = 1 - (top_idx / num_rows)\n",
    "print(bottom_train_split, top_train_split)\n",
    "\n",
    "if bottom_train_split - desired_train_split > desired_train_split - top_train_split:\n",
    "    nearest_split_idx = top_idx\n",
    "else:\n",
    "    nearest_split_idx = bottom_idx\n",
    "\n",
    "train_split = test_5s.select(range(nearest_split_idx+1))\n",
    "test_split = test_5s.select(range(nearest_split_idx+1, num_rows))\n",
    "\n",
    "print(train_split, train_split[-1])\n",
    "print(test_split, test_split[0])\n",
    "\n",
    "sne_test_5s_dataset_dict = DatasetDict({'train':train_split, 'test':test_split})\n",
    "sne_test_5s_dataset_dict"
   ]
  },
  {
   "cell_type": "code",
   "execution_count": 42,
   "metadata": {},
   "outputs": [
    {
     "data": {
      "application/vnd.jupyter.widget-view+json": {
       "model_id": "d1b8386d01dd45c8aaff70601c2a6d61",
       "version_major": 2,
       "version_minor": 0
      },
      "text/plain": [
       "Uploading the dataset shards:   0%|          | 0/2 [00:00<?, ?it/s]"
      ]
     },
     "metadata": {},
     "output_type": "display_data"
    },
    {
     "data": {
      "application/vnd.jupyter.widget-view+json": {
       "model_id": "2121cb34ca68445eb57e3daec00bab73",
       "version_major": 2,
       "version_minor": 0
      },
      "text/plain": [
       "Map:   0%|          | 0/9359 [00:00<?, ? examples/s]"
      ]
     },
     "metadata": {},
     "output_type": "display_data"
    },
    {
     "data": {
      "application/vnd.jupyter.widget-view+json": {
       "model_id": "01b5424d7a1c409bbe491d563bd2d5ad",
       "version_major": 2,
       "version_minor": 0
      },
      "text/plain": [
       "Creating parquet from Arrow format:   0%|          | 0/94 [00:00<?, ?ba/s]"
      ]
     },
     "metadata": {},
     "output_type": "display_data"
    },
    {
     "data": {
      "application/vnd.jupyter.widget-view+json": {
       "model_id": "43baf696bf4d408099ab529d9bea46e3",
       "version_major": 2,
       "version_minor": 0
      },
      "text/plain": [
       "Map:   0%|          | 0/9358 [00:00<?, ? examples/s]"
      ]
     },
     "metadata": {},
     "output_type": "display_data"
    },
    {
     "data": {
      "application/vnd.jupyter.widget-view+json": {
       "model_id": "2933041f6262426cbfc3e7f5ad9ed90d",
       "version_major": 2,
       "version_minor": 0
      },
      "text/plain": [
       "Creating parquet from Arrow format:   0%|          | 0/94 [00:00<?, ?ba/s]"
      ]
     },
     "metadata": {},
     "output_type": "display_data"
    },
    {
     "data": {
      "application/vnd.jupyter.widget-view+json": {
       "model_id": "27f9bc6ac2e3463daed62debc8705c6f",
       "version_major": 2,
       "version_minor": 0
      },
      "text/plain": [
       "Uploading the dataset shards:   0%|          | 0/1 [00:00<?, ?it/s]"
      ]
     },
     "metadata": {},
     "output_type": "display_data"
    },
    {
     "data": {
      "application/vnd.jupyter.widget-view+json": {
       "model_id": "5c7a8160e1b44442a2282b37eb0da0ea",
       "version_major": 2,
       "version_minor": 0
      },
      "text/plain": [
       "Map:   0%|          | 0/5039 [00:00<?, ? examples/s]"
      ]
     },
     "metadata": {},
     "output_type": "display_data"
    },
    {
     "data": {
      "application/vnd.jupyter.widget-view+json": {
       "model_id": "a9e6830d865d46a880d6c135e89809c4",
       "version_major": 2,
       "version_minor": 0
      },
      "text/plain": [
       "Creating parquet from Arrow format:   0%|          | 0/51 [00:00<?, ?ba/s]"
      ]
     },
     "metadata": {},
     "output_type": "display_data"
    },
    {
     "data": {
      "application/vnd.jupyter.widget-view+json": {
       "model_id": "8fac7714df9146e889f1d9f2e2735f43",
       "version_major": 2,
       "version_minor": 0
      },
      "text/plain": [
       "README.md:   0%|          | 0.00/4.25k [00:00<?, ?B/s]"
      ]
     },
     "metadata": {},
     "output_type": "display_data"
    },
    {
     "data": {
      "text/plain": [
       "CommitInfo(commit_url='https://huggingface.co/datasets/DBD-research-group/soundscape_datasets/commit/ed40c3dd227b549b59bfaa12216a2bd2d2b4fe0f', commit_message='Upload dataset', commit_description='', oid='ed40c3dd227b549b59bfaa12216a2bd2d2b4fe0f', pr_url=None, pr_revision=None, pr_num=None)"
      ]
     },
     "execution_count": 42,
     "metadata": {},
     "output_type": "execute_result"
    }
   ],
   "source": [
    "#sne_test_5s_dataset_dict.push_to_hub(repo_id=\"DBD-research-group/soundscape_datasets\", data_dir=\"SNE21p\")"
   ]
  }
 ],
 "metadata": {
  "kernelspec": {
   "display_name": "birdset",
   "language": "python",
   "name": "python3"
  },
  "language_info": {
   "codemirror_mode": {
    "name": "ipython",
    "version": 3
   },
   "file_extension": ".py",
   "mimetype": "text/x-python",
   "name": "python",
   "nbconvert_exporter": "python",
   "pygments_lexer": "ipython3",
   "version": "3.10.14"
  }
 },
 "nbformat": 4,
 "nbformat_minor": 2
}
