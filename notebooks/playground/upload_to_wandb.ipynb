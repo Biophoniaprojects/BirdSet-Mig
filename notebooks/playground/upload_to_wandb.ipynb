{
 "cells": [
  {
   "cell_type": "markdown",
   "metadata": {},
   "source": [
    "# Upload file to WandB run"
   ]
  },
  {
   "cell_type": "code",
   "execution_count": 3,
   "metadata": {},
   "outputs": [],
   "source": [
    "runID = 'deepbirddetect/birdset/pretrain_eat_3_2024-05-17_075334'\n",
    "filepath = '../../logs/train/runs/XCL/eat/2024-05-17_075334/callback_checkpoints/checkpoint-20.ckpt'"
   ]
  },
  {
   "cell_type": "code",
   "execution_count": 4,
   "metadata": {},
   "outputs": [
    {
     "data": {
      "text/plain": [
       "<File checkpoint-20.ckpt () 74.0MiB>"
      ]
     },
     "execution_count": 4,
     "metadata": {},
     "output_type": "execute_result"
    }
   ],
   "source": [
    "import wandb\n",
    "\n",
    "api = wandb.Api()\n",
    "run = api.run(runID)\n",
    "run.upload_file(filepath, root=\"../../logs/train/runs/XCL/eat/2024-05-17_075334/callback_checkpoints/\")\n"
   ]
  }
 ],
 "metadata": {
  "kernelspec": {
   "display_name": "birdset-xS3fZVNL-py3.10",
   "language": "python",
   "name": "python3"
  },
  "language_info": {
   "codemirror_mode": {
    "name": "ipython",
    "version": 3
   },
   "file_extension": ".py",
   "mimetype": "text/x-python",
   "name": "python",
   "nbconvert_exporter": "python",
   "pygments_lexer": "ipython3",
   "version": "3.10.12"
  }
 },
 "nbformat": 4,
 "nbformat_minor": 2
}
