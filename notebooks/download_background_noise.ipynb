{
 "cells": [
  {
   "cell_type": "markdown",
   "metadata": {},
   "source": [
    "# Download and prepare background noise"
   ]
  },
  {
   "cell_type": "code",
   "execution_count": null,
   "metadata": {},
   "outputs": [],
   "source": [
    "from huggingface_hub import hf_hub_download\n",
    " \n",
    "repo_id = \"DBD-research-group/BirdSet\"  # Replace with the repository ID\n",
    "filenames = [\"dcase18_shard_0001.tar.gz\", \"dcase18_shard_0002.tar.gz\"]  # Replace with the path to the file in the repository\n",
    "subfolder = \"data/dcase18\"\n",
    "revision = \"data\"\n",
    "local_dir = \"/workspace/data_birdset/dcase18\"  # Replace with the local directory where the file will be downloaded\n",
    "repo_type = \"dataset\"\n",
    "# Download the file\n",
    "for filename in filenames:\n",
    "    file_path = hf_hub_download(\n",
    "        repo_id=repo_id,\n",
    "        filename=filename,\n",
    "        subfolder=subfolder,\n",
    "        local_dir=local_dir,\n",
    "        revision=revision,\n",
    "        repo_type=repo_type,\n",
    "        local_dir_use_symlinks=False,\n",
    "        force_download=True)"
   ]
  },
  {
   "cell_type": "code",
   "execution_count": null,
   "metadata": {},
   "outputs": [],
   "source": [
    "import tarfile\n",
    "import os\n",
    "os.chdir(\"/workspace/data_birdset/dcase18/data/dcase18/\")\n",
    " \n",
    "# The directory where you want to extract the files\n",
    "output_directory =\"/workspace/data_birdset/background_noise/\"\n",
    " \n",
    "# Create the output directory if it doesn't exist\n",
    "os.makedirs(output_directory, exist_ok=True)\n",
    " \n",
    "# Iterate through the files and extract each one\n",
    "for filename in filenames:\n",
    "    with tarfile.open(filename, \"r:gz\") as tar:\n",
    "        tar.extractall(path=output_directory)\n",
    " \n",
    "print(\"Extraction complete. No-Call samples ready.\")"
   ]
  }
 ],
 "metadata": {
  "kernelspec": {
   "display_name": "birdset-xS3fZVNL-py3.10",
   "language": "python",
   "name": "python3"
  },
  "language_info": {
   "codemirror_mode": {
    "name": "ipython",
    "version": 3
   },
   "file_extension": ".py",
   "mimetype": "text/x-python",
   "name": "python",
   "nbconvert_exporter": "python",
   "pygments_lexer": "ipython3",
   "version": "3.10.12"
  }
 },
 "nbformat": 4,
 "nbformat_minor": 2
}
