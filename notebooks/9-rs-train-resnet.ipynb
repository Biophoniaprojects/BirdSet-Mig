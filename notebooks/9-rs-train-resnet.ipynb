{
 "cells": [
  {
   "cell_type": "markdown",
   "metadata": {},
   "source": [
    "# Train a RESNET model on the esc50 dataset"
   ]
  },
  {
   "cell_type": "markdown",
   "metadata": {},
   "source": [
    "## Imports"
   ]
  },
  {
   "cell_type": "code",
   "execution_count": 1,
   "metadata": {},
   "outputs": [
    {
     "name": "stdout",
     "output_type": "stream",
     "text": [
      "Current working directory: /workspaces/GADME\n"
     ]
    }
   ],
   "source": [
    "# change working directory to the root of the project\n",
    "import os\n",
    "os.chdir(\"../\")\n",
    "print(\"Current working directory: {0}\".format(os.getcwd()))"
   ]
  },
  {
   "cell_type": "code",
   "execution_count": 2,
   "metadata": {},
   "outputs": [],
   "source": [
    "# imports\n",
    "from omegaconf import OmegaConf\n",
    "import torchvision\n",
    "import torch\n",
    "import torchmetrics.classification\n",
    "\n",
    "from src.modules.base_module import BaseModule\n",
    "from src.datamodule.esc50_datamodule import ESC50\n",
    "from src.utils.ast_extractor import CustomASTFeatureExtractor\n"
   ]
  },
  {
   "cell_type": "markdown",
   "metadata": {},
   "source": [
    "## Datamodule"
   ]
  },
  {
   "cell_type": "code",
   "execution_count": 3,
   "metadata": {},
   "outputs": [],
   "source": [
    "esc50_config = OmegaConf.create({\n",
    "    \"dataset\": {\n",
    "        \"data_dir\": \"/workspaces/GADME/data\",\n",
    "        \"dataset_name\": \"esc50\",\n",
    "        \"hf_path\": \"ashraq/esc50\",\n",
    "        \"hf_name\": None,\n",
    "        \"seed\": 42,\n",
    "        \"feature_extractor\": {\n",
    "            \"_target_\": 'src.utils.ast_extractor.CustomASTFeatureExtractor',\n",
    "            \"n_classes\": 50,\n",
    "            \"n_workers\": 1,\n",
    "            \"column_list\": [\"input_values\", \"target\"],\n",
    "            \"sampling_rate\": 32000,\n",
    "            \"return_tensor\": 'pt',\n",
    "        },\n",
    "        \"n_classes\": 50,\n",
    "        \"n_workers\": 16,\n",
    "        \"column_list\": [\"input_values\", \"target\"],\n",
    "        \"val_split\": 0.2,\n",
    "    },\n",
    "    \"loaders\": {\n",
    "        \"train\": {\n",
    "            \"batch_size\": 64,\n",
    "            \"shuffle\": True,\n",
    "            \"num_workers\": 32,\n",
    "            \"drop_last\": False,\n",
    "            \"pin_memory\": False\n",
    "        },\n",
    "        \"valid\": {\n",
    "            \"batch_size\": 64,\n",
    "            \"shuffle\": False,\n",
    "            \"num_workers\": 32,\n",
    "            \"drop_last\": False,\n",
    "            \"pin_memory\": False\n",
    "        },\n",
    "        \"test\": {\n",
    "            \"batch_size\": 6,\n",
    "            \"shuffle\": False,\n",
    "            \"num_workers\": 4,\n",
    "            \"drop_last\": False,\n",
    "            \"pin_memory\": False\n",
    "        },\n",
    "    },\n",
    "    \"transforms\": {\n",
    "        \"use_channel_dim\": True,\n",
    "        \"normalize\": True,\n",
    "        \"use_spectrogram\": True,\n",
    "        \"n_fft\": 1024,\n",
    "        \"hop_length\": 79,\n",
    "        \"n_mels\": 128,\n",
    "        \"db_scale\": True,\n",
    "        \"target_height\": 32,\n",
    "        \"target_width\": 32,\n",
    "        \"waveform_augmentations\": {\n",
    "            \"colored_noise\": {\n",
    "                \"prob\": 0.5,\n",
    "                \"min_snr_in_db\": 3.0,\n",
    "                \"max_snr_in_db\": 30.0,\n",
    "                \"min_f_decay\": -2.0,\n",
    "                \"max_f_decay\": 2.0\n",
    "            },\n",
    "        },\n",
    "        \"spectrogram_augmentations\": {\n",
    "            \"time_masking\": {\n",
    "                \"time_mask_param\": 100,\n",
    "                \"prob\": 0.5\n",
    "            },\n",
    "            \"frequency_masking\": {\n",
    "                \"freq_mask_param\": 100,\n",
    "                \"prob\": 0.5\n",
    "            },\n",
    "            \"time_stretch\": {\n",
    "                \"prob\": 0.5,\n",
    "                \"min_rate\": 0.8,\n",
    "                \"max_rate\": 1.2\n",
    "            },\n",
    "        },\n",
    "    },\n",
    "})"
   ]
  },
  {
   "cell_type": "code",
   "execution_count": 4,
   "metadata": {},
   "outputs": [],
   "source": [
    "esc50_datamodule = ESC50(dataset=esc50_config.dataset, loaders=esc50_config.loaders, transforms=esc50_config.transforms)"
   ]
  },
  {
   "cell_type": "code",
   "execution_count": 27,
   "metadata": {},
   "outputs": [
    {
     "name": "stderr",
     "output_type": "stream",
     "text": [
      "Repo card metadata block was not found. Setting CardData to empty.\n",
      "WARNING:huggingface_hub.repocard:Repo card metadata block was not found. Setting CardData to empty.\n"
     ]
    },
    {
     "data": {
      "application/vnd.jupyter.widget-view+json": {
       "model_id": "fc52630638ca4800ba840cbde1ffd67c",
       "version_major": 2,
       "version_minor": 0
      },
      "text/plain": [
       "Map (num_proc=16):   0%|          | 0/2000 [00:00<?, ? examples/s]"
      ]
     },
     "metadata": {},
     "output_type": "display_data"
    },
    {
     "data": {
      "application/vnd.jupyter.widget-view+json": {
       "model_id": "3d55d21689e8465cb2381406629fe573",
       "version_major": 2,
       "version_minor": 0
      },
      "text/plain": [
       "Saving the dataset (0/3 shards):   0%|          | 0/1600 [00:00<?, ? examples/s]"
      ]
     },
     "metadata": {},
     "output_type": "display_data"
    },
    {
     "data": {
      "application/vnd.jupyter.widget-view+json": {
       "model_id": "58ae701186a04fdfaaf1b8541d1e9187",
       "version_major": 2,
       "version_minor": 0
      },
      "text/plain": [
       "Saving the dataset (0/1 shards):   0%|          | 0/200 [00:00<?, ? examples/s]"
      ]
     },
     "metadata": {},
     "output_type": "display_data"
    },
    {
     "data": {
      "application/vnd.jupyter.widget-view+json": {
       "model_id": "ca62e179965c4b51ba5cb5bfb9aac7c5",
       "version_major": 2,
       "version_minor": 0
      },
      "text/plain": [
       "Saving the dataset (0/1 shards):   0%|          | 0/200 [00:00<?, ? examples/s]"
      ]
     },
     "metadata": {},
     "output_type": "display_data"
    }
   ],
   "source": [
    "esc50_datamodule.prepare_data()"
   ]
  },
  {
   "cell_type": "code",
   "execution_count": 28,
   "metadata": {},
   "outputs": [],
   "source": [
    "esc50_datamodule.setup(stage=\"fit\") "
   ]
  },
  {
   "cell_type": "code",
   "execution_count": 21,
   "metadata": {},
   "outputs": [],
   "source": [
    "train_dataloader = esc50_datamodule.train_dataloader()\n",
    "batch = next(iter(train_dataloader))"
   ]
  },
  {
   "cell_type": "code",
   "execution_count": 22,
   "metadata": {},
   "outputs": [
    {
     "data": {
      "text/plain": [
       "{'input_values': tensor([[[[-8.8381e-01, -1.4403e+00, -2.0807e-03,  ...,  1.3756e+00,\n",
       "             9.5521e-01,  4.6009e-01],\n",
       "           [-2.9873e-01, -8.5521e-01,  5.8300e-01,  ...,  1.9606e+00,\n",
       "             1.5403e+00,  1.0452e+00],\n",
       "           [ 1.7588e+00,  1.8201e+00,  1.9262e+00,  ...,  2.1592e+00,\n",
       "             2.0430e+00,  1.9352e+00],\n",
       "           ...,\n",
       "           [-3.4712e-01,  4.2145e-01,  1.0251e+00,  ...,  6.1928e-02,\n",
       "             3.9102e-01,  6.0605e-01],\n",
       "           [ 7.3823e-01,  8.5905e-01,  1.0857e+00,  ...,  2.8951e-01,\n",
       "             3.4515e-01,  3.7695e-01],\n",
       "           [ 3.9075e-01,  4.9374e-01,  6.3433e-01,  ...,  2.2800e-01,\n",
       "             8.2780e-02, -1.1711e-01]]],\n",
       " \n",
       " \n",
       "         [[[-2.5118e+00, -2.5419e+00, -2.5900e+00,  ..., -3.9896e+00,\n",
       "            -3.8270e+00, -3.5008e+00],\n",
       "           [-1.9267e+00, -1.9568e+00, -2.0049e+00,  ..., -3.4046e+00,\n",
       "            -3.2419e+00, -2.9158e+00],\n",
       "           [-1.9659e+00, -2.0984e+00, -2.3249e+00,  ..., -2.3808e+00,\n",
       "            -2.2738e+00, -2.2062e+00],\n",
       "           ...,\n",
       "           [-2.4064e+00, -2.2898e+00, -2.2543e+00,  ..., -2.4216e+00,\n",
       "            -2.5484e+00, -2.7122e+00],\n",
       "           [-2.3324e+00, -2.2529e+00, -2.2615e+00,  ..., -2.2881e+00,\n",
       "            -2.5056e+00, -2.7493e+00],\n",
       "           [-2.2845e+00, -2.3311e+00, -2.4251e+00,  ..., -2.7676e+00,\n",
       "            -2.6924e+00, -2.5818e+00]]],\n",
       " \n",
       " \n",
       "         [[[-4.1752e+00, -4.1752e+00, -4.1752e+00,  ..., -4.1752e+00,\n",
       "            -4.1752e+00, -4.1752e+00],\n",
       "           [-4.1752e+00, -4.1752e+00, -4.1752e+00,  ..., -4.1282e+00,\n",
       "            -4.1752e+00, -3.9074e+00],\n",
       "           [-4.1752e+00, -4.1752e+00, -4.1752e+00,  ..., -3.8650e+00,\n",
       "            -4.1752e+00, -4.1752e+00],\n",
       "           ...,\n",
       "           [-4.1752e+00, -4.1752e+00, -4.1752e+00,  ..., -4.1752e+00,\n",
       "            -4.1648e+00, -3.7836e+00],\n",
       "           [-4.1752e+00, -4.1752e+00, -4.1752e+00,  ..., -4.1592e+00,\n",
       "            -4.0229e+00, -3.7943e+00],\n",
       "           [-4.1752e+00, -4.1752e+00, -4.1752e+00,  ..., -4.1752e+00,\n",
       "            -4.1752e+00, -4.1752e+00]]],\n",
       " \n",
       " \n",
       "         ...,\n",
       " \n",
       " \n",
       "         [[[-4.1738e+00, -4.3304e+00, -4.9969e+00,  ..., -3.0575e+00,\n",
       "            -2.9364e+00, -2.8964e+00],\n",
       "           [-3.5888e+00, -3.7453e+00, -4.4118e+00,  ..., -2.4724e+00,\n",
       "            -2.3513e+00, -2.3113e+00],\n",
       "           [-3.3602e+00, -3.3444e+00, -3.2702e+00,  ..., -2.4651e+00,\n",
       "            -2.4597e+00, -2.5538e+00],\n",
       "           ...,\n",
       "           [-6.2775e+00, -6.2775e+00, -6.1755e+00,  ..., -6.2775e+00,\n",
       "            -6.1819e+00, -5.8369e+00],\n",
       "           [-6.0687e+00, -6.0001e+00, -5.9145e+00,  ..., -6.0858e+00,\n",
       "            -5.8129e+00, -5.6000e+00],\n",
       "           [-6.2775e+00, -6.2775e+00, -6.0377e+00,  ..., -6.2775e+00,\n",
       "            -6.1399e+00, -5.9934e+00]]],\n",
       " \n",
       " \n",
       "         [[[ 2.5364e-02, -1.6639e-01, -3.2535e-01,  ...,  4.7519e-03,\n",
       "            -1.0285e-02, -1.0558e-02],\n",
       "           [ 6.1044e-01,  4.1869e-01,  2.5973e-01,  ...,  5.8983e-01,\n",
       "             5.7480e-01,  5.7452e-01],\n",
       "           [ 1.1416e+00,  1.1548e+00,  1.1399e+00,  ...,  1.0978e+00,\n",
       "             9.7493e-01,  1.0831e+00],\n",
       "           ...,\n",
       "           [ 9.2389e-01,  8.8922e-01,  7.9094e-01,  ...,  1.2943e-01,\n",
       "             1.2516e-02, -6.2446e-04],\n",
       "           [ 3.0700e-01,  2.7986e-01,  2.0367e-01,  ..., -1.4015e-01,\n",
       "            -1.3331e-01,  4.8005e-02],\n",
       "           [-2.7839e-01, -1.8218e-01, -5.4329e-03,  ..., -3.7391e-01,\n",
       "            -2.5676e-01, -4.5333e-02]]],\n",
       " \n",
       " \n",
       "         [[[-4.2770e+00, -4.2770e+00, -4.2770e+00,  ..., -1.9028e+00,\n",
       "            -2.3171e+00, -1.7029e+00],\n",
       "           [-4.2770e+00, -4.2770e+00, -4.2770e+00,  ..., -1.3178e+00,\n",
       "            -1.7321e+00, -1.1178e+00],\n",
       "           [-4.2770e+00, -4.2770e+00, -4.2770e+00,  ..., -1.4027e+00,\n",
       "            -2.0273e+00, -1.4593e+00],\n",
       "           ...,\n",
       "           [-4.2770e+00, -4.2770e+00, -4.2770e+00,  ...,  2.6250e+00,\n",
       "             2.7827e+00,  2.8428e+00],\n",
       "           [-4.2770e+00, -4.2770e+00, -4.2770e+00,  ...,  2.8554e+00,\n",
       "             2.9127e+00,  2.8630e+00],\n",
       "           [-4.2770e+00, -4.2770e+00, -4.2770e+00,  ...,  2.8172e+00,\n",
       "             2.9368e+00,  2.9472e+00]]]]),\n",
       " 'labels': tensor([44, 31, 32, 41,  9, 48, 42, 40, 25, 28, 45, 38, 26, 18, 24, 45, 44,  4,\n",
       "         10, 10, 30, 23, 42, 43, 12,  0, 22, 19, 11, 43, 19, 34, 38, 34, 32, 18,\n",
       "         16, 13,  5, 20,  3, 29,  3, 41, 29, 13, 12, 18,  6, 28, 31, 36,  5, 39,\n",
       "         39, 42, 13,  5, 21, 35, 25, 38, 16, 33, 39, 29, 39, 44, 28, 48, 46, 30,\n",
       "          5, 34, 14, 26, 25,  5, 36, 48, 22, 26,  8, 26, 41, 19, 30,  1, 27, 43,\n",
       "         46, 13,  1, 24, 13, 39, 26, 27, 16,  2,  8, 34, 19,  1,  5, 42, 17, 24,\n",
       "         24, 15, 18,  2, 26, 28, 39,  8, 40, 10, 22, 49,  9,  0, 15,  6,  2, 28,\n",
       "          7, 26])}"
      ]
     },
     "execution_count": 22,
     "metadata": {},
     "output_type": "execute_result"
    }
   ],
   "source": [
    "batch"
   ]
  },
  {
   "cell_type": "code",
   "execution_count": 23,
   "metadata": {},
   "outputs": [
    {
     "data": {
      "text/plain": [
       "torch.Size([128, 1, 32, 32])"
      ]
     },
     "execution_count": 23,
     "metadata": {},
     "output_type": "execute_result"
    }
   ],
   "source": [
    "batch['input_values'].shape"
   ]
  },
  {
   "cell_type": "code",
   "execution_count": 49,
   "metadata": {},
   "outputs": [
    {
     "data": {
      "text/plain": [
       "torch.Size([6])"
      ]
     },
     "execution_count": 49,
     "metadata": {},
     "output_type": "execute_result"
    }
   ],
   "source": [
    "batch['labels'].shape"
   ]
  },
  {
   "cell_type": "code",
   "execution_count": 51,
   "metadata": {},
   "outputs": [
    {
     "data": {
      "text/plain": [
       "<matplotlib.image.AxesImage at 0x7fdbc0ec88b0>"
      ]
     },
     "execution_count": 51,
     "metadata": {},
     "output_type": "execute_result"
    },
    {
     "data": {
      "image/png": "[encoded data removed]",
      "text/plain": [
       "<Figure size 640x480 with 1 Axes>"
      ]
     },
     "metadata": {},
     "output_type": "display_data"
    }
   ],
   "source": [
    "# plot the first spectrogram\n",
    "import matplotlib.pyplot as plt\n",
    "plt.imshow(batch['input_values'][2].squeeze().numpy())\n"
   ]
  },
  {
   "cell_type": "markdown",
   "metadata": {},
   "source": [
    "## Lightning Module"
   ]
  },
  {
   "cell_type": "code",
   "execution_count": 29,
   "metadata": {},
   "outputs": [],
   "source": [
    "len_trainset = len(esc50_datamodule.train_dataset)\n",
    "module_config = OmegaConf.create({\n",
    "    \"network\": {\n",
    "        \"model_name\": \"resnet50\",\n",
    "        \"model\": {\n",
    "            \"_target_\": 'src.modules.models.resnet.ResNetClassifier',\n",
    "            \"baseline_architecture\": 'resnet18',\n",
    "            \"num_classes\": 50,\n",
    "            \"num_channels\": 1,\n",
    "            \"pretrained\": True,\n",
    "        },\n",
    "        \"torch_compile\": False\n",
    "    },\n",
    "    \"output_activation\": {\n",
    "        \"_target_\": 'torch.softmax',\n",
    "        \"dim\": 1\n",
    "    },\n",
    "    \"loss\": {\n",
    "        \"_target_\": 'torch.nn.CrossEntropyLoss'\n",
    "    },\n",
    "    \"optimizer\": {\n",
    "        \"_target_\": 'torch.optim.Adam',\n",
    "        \"lr\": 0.001,\n",
    "        \"weight_decay\": 0.01\n",
    "    },\n",
    "    \"lr_scheduler\": {\n",
    "        \"_target_\": 'torch.optim.lr_scheduler',\n",
    "    },\n",
    "    \"metrics\": {\n",
    "        \"main\": {\n",
    "            \"_target_\": 'torchmetrics.classification.Accuracy',\n",
    "            \"task\": \"multiclass\",\n",
    "            \"num_classes\": 50,\n",
    "            \"top_k\": 1,\n",
    "        },\n",
    "        \"val_best\": {   \n",
    "            \"_target_\": 'torchmetrics.MaxMetric',\n",
    "        }\n",
    "    },\n",
    "    \"num_epochs\": 200,\n",
    "    \"logging_params\": {\n",
    "        \"on_step\": False,\n",
    "        \"on_epoch\": True,\n",
    "        \"sync_dist\": False,\n",
    "        \"prog_bar\": True,\n",
    "    },\n",
    "    \"len_trainset\": len_trainset\n",
    "})"
   ]
  },
  {
   "cell_type": "code",
   "execution_count": 30,
   "metadata": {},
   "outputs": [],
   "source": [
    "resnetModule = BaseModule(\n",
    "    network=module_config.network,\n",
    "    output_activation= module_config.output_activation,\n",
    "    loss=module_config.loss,\n",
    "    optimizer=module_config.optimizer,\n",
    "    lr_scheduler=module_config.lr_scheduler,\n",
    "    metrics=module_config.metrics,\n",
    "    logging_params=module_config.logging_params,\n",
    "    num_epochs=module_config.num_epochs,\n",
    "    len_trainset=module_config.len_trainset\n",
    ")\n",
    "    "
   ]
  },
  {
   "cell_type": "code",
   "execution_count": 45,
   "metadata": {},
   "outputs": [
    {
     "data": {
      "text/plain": [
       "BaseModule(\n",
       "  (model): ResNetClassifier(\n",
       "    (model): ResNet(\n",
       "      (conv1): Conv2d(1, 64, kernel_size=(7, 7), stride=(2, 2), padding=(3, 3), bias=False)\n",
       "      (bn1): BatchNorm2d(64, eps=1e-05, momentum=0.1, affine=True, track_running_stats=True)\n",
       "      (relu): ReLU(inplace=True)\n",
       "      (maxpool): MaxPool2d(kernel_size=3, stride=2, padding=1, dilation=1, ceil_mode=False)\n",
       "      (layer1): Sequential(\n",
       "        (0): BasicBlock(\n",
       "          (conv1): Conv2d(64, 64, kernel_size=(3, 3), stride=(1, 1), padding=(1, 1), bias=False)\n",
       "          (bn1): BatchNorm2d(64, eps=1e-05, momentum=0.1, affine=True, track_running_stats=True)\n",
       "          (relu): ReLU(inplace=True)\n",
       "          (conv2): Conv2d(64, 64, kernel_size=(3, 3), stride=(1, 1), padding=(1, 1), bias=False)\n",
       "          (bn2): BatchNorm2d(64, eps=1e-05, momentum=0.1, affine=True, track_running_stats=True)\n",
       "        )\n",
       "        (1): BasicBlock(\n",
       "          (conv1): Conv2d(64, 64, kernel_size=(3, 3), stride=(1, 1), padding=(1, 1), bias=False)\n",
       "          (bn1): BatchNorm2d(64, eps=1e-05, momentum=0.1, affine=True, track_running_stats=True)\n",
       "          (relu): ReLU(inplace=True)\n",
       "          (conv2): Conv2d(64, 64, kernel_size=(3, 3), stride=(1, 1), padding=(1, 1), bias=False)\n",
       "          (bn2): BatchNorm2d(64, eps=1e-05, momentum=0.1, affine=True, track_running_stats=True)\n",
       "        )\n",
       "      )\n",
       "      (layer2): Sequential(\n",
       "        (0): BasicBlock(\n",
       "          (conv1): Conv2d(64, 128, kernel_size=(3, 3), stride=(2, 2), padding=(1, 1), bias=False)\n",
       "          (bn1): BatchNorm2d(128, eps=1e-05, momentum=0.1, affine=True, track_running_stats=True)\n",
       "          (relu): ReLU(inplace=True)\n",
       "          (conv2): Conv2d(128, 128, kernel_size=(3, 3), stride=(1, 1), padding=(1, 1), bias=False)\n",
       "          (bn2): BatchNorm2d(128, eps=1e-05, momentum=0.1, affine=True, track_running_stats=True)\n",
       "          (downsample): Sequential(\n",
       "            (0): Conv2d(64, 128, kernel_size=(1, 1), stride=(2, 2), bias=False)\n",
       "            (1): BatchNorm2d(128, eps=1e-05, momentum=0.1, affine=True, track_running_stats=True)\n",
       "          )\n",
       "        )\n",
       "        (1): BasicBlock(\n",
       "          (conv1): Conv2d(128, 128, kernel_size=(3, 3), stride=(1, 1), padding=(1, 1), bias=False)\n",
       "          (bn1): BatchNorm2d(128, eps=1e-05, momentum=0.1, affine=True, track_running_stats=True)\n",
       "          (relu): ReLU(inplace=True)\n",
       "          (conv2): Conv2d(128, 128, kernel_size=(3, 3), stride=(1, 1), padding=(1, 1), bias=False)\n",
       "          (bn2): BatchNorm2d(128, eps=1e-05, momentum=0.1, affine=True, track_running_stats=True)\n",
       "        )\n",
       "      )\n",
       "      (layer3): Sequential(\n",
       "        (0): BasicBlock(\n",
       "          (conv1): Conv2d(128, 256, kernel_size=(3, 3), stride=(2, 2), padding=(1, 1), bias=False)\n",
       "          (bn1): BatchNorm2d(256, eps=1e-05, momentum=0.1, affine=True, track_running_stats=True)\n",
       "          (relu): ReLU(inplace=True)\n",
       "          (conv2): Conv2d(256, 256, kernel_size=(3, 3), stride=(1, 1), padding=(1, 1), bias=False)\n",
       "          (bn2): BatchNorm2d(256, eps=1e-05, momentum=0.1, affine=True, track_running_stats=True)\n",
       "          (downsample): Sequential(\n",
       "            (0): Conv2d(128, 256, kernel_size=(1, 1), stride=(2, 2), bias=False)\n",
       "            (1): BatchNorm2d(256, eps=1e-05, momentum=0.1, affine=True, track_running_stats=True)\n",
       "          )\n",
       "        )\n",
       "        (1): BasicBlock(\n",
       "          (conv1): Conv2d(256, 256, kernel_size=(3, 3), stride=(1, 1), padding=(1, 1), bias=False)\n",
       "          (bn1): BatchNorm2d(256, eps=1e-05, momentum=0.1, affine=True, track_running_stats=True)\n",
       "          (relu): ReLU(inplace=True)\n",
       "          (conv2): Conv2d(256, 256, kernel_size=(3, 3), stride=(1, 1), padding=(1, 1), bias=False)\n",
       "          (bn2): BatchNorm2d(256, eps=1e-05, momentum=0.1, affine=True, track_running_stats=True)\n",
       "        )\n",
       "      )\n",
       "      (layer4): Sequential(\n",
       "        (0): BasicBlock(\n",
       "          (conv1): Conv2d(256, 512, kernel_size=(3, 3), stride=(2, 2), padding=(1, 1), bias=False)\n",
       "          (bn1): BatchNorm2d(512, eps=1e-05, momentum=0.1, affine=True, track_running_stats=True)\n",
       "          (relu): ReLU(inplace=True)\n",
       "          (conv2): Conv2d(512, 512, kernel_size=(3, 3), stride=(1, 1), padding=(1, 1), bias=False)\n",
       "          (bn2): BatchNorm2d(512, eps=1e-05, momentum=0.1, affine=True, track_running_stats=True)\n",
       "          (downsample): Sequential(\n",
       "            (0): Conv2d(256, 512, kernel_size=(1, 1), stride=(2, 2), bias=False)\n",
       "            (1): BatchNorm2d(512, eps=1e-05, momentum=0.1, affine=True, track_running_stats=True)\n",
       "          )\n",
       "        )\n",
       "        (1): BasicBlock(\n",
       "          (conv1): Conv2d(512, 512, kernel_size=(3, 3), stride=(1, 1), padding=(1, 1), bias=False)\n",
       "          (bn1): BatchNorm2d(512, eps=1e-05, momentum=0.1, affine=True, track_running_stats=True)\n",
       "          (relu): ReLU(inplace=True)\n",
       "          (conv2): Conv2d(512, 512, kernel_size=(3, 3), stride=(1, 1), padding=(1, 1), bias=False)\n",
       "          (bn2): BatchNorm2d(512, eps=1e-05, momentum=0.1, affine=True, track_running_stats=True)\n",
       "        )\n",
       "      )\n",
       "      (avgpool): AdaptiveAvgPool2d(output_size=(1, 1))\n",
       "      (fc): Linear(in_features=512, out_features=50, bias=True)\n",
       "    )\n",
       "  )\n",
       "  (loss): CrossEntropyLoss()\n",
       "  (train_metric): MulticlassAccuracy()\n",
       "  (train_add_metrics): MetricCollection,\n",
       "    postfix=/train\n",
       "  )\n",
       "  (valid_metric): MulticlassAccuracy()\n",
       "  (valid_metric_best): MaxMetric()\n",
       "  (valid_add_metrics): MetricCollection,\n",
       "    postfix=/valid\n",
       "  )\n",
       "  (test_metric): MulticlassAccuracy()\n",
       "  (test_add_metrics): MetricCollection,\n",
       "    postfix=/test\n",
       "  )\n",
       ")"
      ]
     },
     "execution_count": 45,
     "metadata": {},
     "output_type": "execute_result"
    }
   ],
   "source": [
    "resnetModule"
   ]
  },
  {
   "cell_type": "markdown",
   "metadata": {},
   "source": [
    "## Training"
   ]
  },
  {
   "cell_type": "code",
   "execution_count": 31,
   "metadata": {},
   "outputs": [
    {
     "name": "stderr",
     "output_type": "stream",
     "text": [
      "GPU available: True (cuda), used: True\n",
      "TPU available: False, using: 0 TPU cores\n",
      "IPU available: False, using: 0 IPUs\n",
      "HPU available: False, using: 0 HPUs\n",
      "You are using a CUDA device ('NVIDIA A100 80GB PCIe') that has Tensor Cores. To properly utilize them, you should set `torch.set_float32_matmul_precision('medium' | 'high')` which will trade-off precision for performance. For more details, read https://pytorch.org/docs/stable/generated/torch.set_float32_matmul_precision.html#torch.set_float32_matmul_precision\n",
      "LOCAL_RANK: 0 - CUDA_VISIBLE_DEVICES: [0,1,2]\n",
      "\n",
      "  | Name              | Type               | Params\n",
      "---------------------------------------------------------\n",
      "0 | model             | ResNetClassifier   | 11.2 M\n",
      "1 | loss              | CrossEntropyLoss   | 0     \n",
      "2 | train_metric      | MulticlassAccuracy | 0     \n",
      "3 | train_add_metrics | MetricCollection   | 0     \n",
      "4 | valid_metric      | MulticlassAccuracy | 0     \n",
      "5 | valid_metric_best | MaxMetric          | 0     \n",
      "6 | valid_add_metrics | MetricCollection   | 0     \n",
      "7 | test_metric       | MulticlassAccuracy | 0     \n",
      "8 | test_add_metrics  | MetricCollection   | 0     \n",
      "---------------------------------------------------------\n",
      "11.2 M    Trainable params\n",
      "0         Non-trainable params\n",
      "11.2 M    Total params\n",
      "44.784    Total estimated model params size (MB)\n"
     ]
    },
    {
     "data": {
      "application/vnd.jupyter.widget-view+json": {
       "model_id": "661e1dc8b6814e09b1e40ab15a09c2aa",
       "version_major": 2,
       "version_minor": 0
      },
      "text/plain": [
       "Sanity Checking: |          | 0/? [00:00<?, ?it/s]"
      ]
     },
     "metadata": {},
     "output_type": "display_data"
    },
    {
     "data": {
      "application/vnd.jupyter.widget-view+json": {
       "model_id": "de0c4f05d2784bbf8b84599fc244be0e",
       "version_major": 2,
       "version_minor": 0
      },
      "text/plain": [
       "Training: |          | 0/? [00:00<?, ?it/s]"
      ]
     },
     "metadata": {},
     "output_type": "display_data"
    },
    {
     "name": "stdout",
     "output_type": "stream",
     "text": [
      "LEARNING RATE 0.001\n",
      "LEARNING RATE 0.001\n",
      "LEARNING RATE 0.001\n",
      "LEARNING RATE 0.001\n",
      "LEARNING RATE 0.001\n",
      "LEARNING RATE 0.001\n",
      "LEARNING RATE 0.001\n",
      "LEARNING RATE 0.001\n",
      "LEARNING RATE 0.001\n",
      "LEARNING RATE 0.001\n",
      "LEARNING RATE 0.001\n",
      "LEARNING RATE 0.001\n",
      "LEARNING RATE 0.001\n",
      "LEARNING RATE 0.001\n",
      "LEARNING RATE 0.001\n",
      "LEARNING RATE 0.001\n",
      "LEARNING RATE 0.001\n",
      "LEARNING RATE 0.001\n",
      "LEARNING RATE 0.001\n",
      "LEARNING RATE 0.001\n",
      "LEARNING RATE 0.001\n",
      "LEARNING RATE 0.001\n",
      "LEARNING RATE 0.001\n",
      "LEARNING RATE 0.001\n",
      "LEARNING RATE 0.001\n"
     ]
    },
    {
     "data": {
      "application/vnd.jupyter.widget-view+json": {
       "model_id": "873d2897455e4bc99fdb0f321bef0f26",
       "version_major": 2,
       "version_minor": 0
      },
      "text/plain": [
       "Validation: |          | 0/? [00:00<?, ?it/s]"
      ]
     },
     "metadata": {},
     "output_type": "display_data"
    },
    {
     "name": "stdout",
     "output_type": "stream",
     "text": [
      "LEARNING RATE 0.001\n",
      "LEARNING RATE 0.001\n",
      "LEARNING RATE 0.001\n",
      "LEARNING RATE 0.001\n",
      "LEARNING RATE 0.001\n",
      "LEARNING RATE 0.001\n",
      "LEARNING RATE 0.001\n",
      "LEARNING RATE 0.001\n",
      "LEARNING RATE 0.001\n",
      "LEARNING RATE 0.001\n",
      "LEARNING RATE 0.001\n",
      "LEARNING RATE 0.001\n",
      "LEARNING RATE 0.001\n",
      "LEARNING RATE 0.001\n",
      "LEARNING RATE 0.001\n",
      "LEARNING RATE 0.001\n",
      "LEARNING RATE 0.001\n",
      "LEARNING RATE 0.001\n",
      "LEARNING RATE 0.001\n",
      "LEARNING RATE 0.001\n",
      "LEARNING RATE 0.001\n",
      "LEARNING RATE 0.001\n",
      "LEARNING RATE 0.001\n",
      "LEARNING RATE 0.001\n",
      "LEARNING RATE 0.001\n"
     ]
    },
    {
     "data": {
      "application/vnd.jupyter.widget-view+json": {
       "model_id": "d1207061c73f4b9f8d5c7df3ec5478b4",
       "version_major": 2,
       "version_minor": 0
      },
      "text/plain": [
       "Validation: |          | 0/? [00:00<?, ?it/s]"
      ]
     },
     "metadata": {},
     "output_type": "display_data"
    },
    {
     "name": "stdout",
     "output_type": "stream",
     "text": [
      "LEARNING RATE 0.001\n",
      "LEARNING RATE 0.001\n",
      "LEARNING RATE 0.001\n",
      "LEARNING RATE 0.001\n",
      "LEARNING RATE 0.001\n",
      "LEARNING RATE 0.001\n",
      "LEARNING RATE 0.001\n",
      "LEARNING RATE 0.001\n",
      "LEARNING RATE 0.001\n",
      "LEARNING RATE 0.001\n",
      "LEARNING RATE 0.001\n",
      "LEARNING RATE 0.001\n",
      "LEARNING RATE 0.001\n",
      "LEARNING RATE 0.001\n",
      "LEARNING RATE 0.001\n",
      "LEARNING RATE 0.001\n",
      "LEARNING RATE 0.001\n",
      "LEARNING RATE 0.001\n",
      "LEARNING RATE 0.001\n",
      "LEARNING RATE 0.001\n",
      "LEARNING RATE 0.001\n",
      "LEARNING RATE 0.001\n",
      "LEARNING RATE 0.001\n",
      "LEARNING RATE 0.001\n",
      "LEARNING RATE 0.001\n"
     ]
    },
    {
     "data": {
      "application/vnd.jupyter.widget-view+json": {
       "model_id": "ddf1a199fb874c43b07f2b8062815352",
       "version_major": 2,
       "version_minor": 0
      },
      "text/plain": [
       "Validation: |          | 0/? [00:00<?, ?it/s]"
      ]
     },
     "metadata": {},
     "output_type": "display_data"
    },
    {
     "name": "stdout",
     "output_type": "stream",
     "text": [
      "LEARNING RATE 0.001\n",
      "LEARNING RATE 0.001\n",
      "LEARNING RATE 0.001\n",
      "LEARNING RATE 0.001\n",
      "LEARNING RATE 0.001\n",
      "LEARNING RATE 0.001\n",
      "LEARNING RATE 0.001\n",
      "LEARNING RATE 0.001\n",
      "LEARNING RATE 0.001\n",
      "LEARNING RATE 0.001\n",
      "LEARNING RATE 0.001\n",
      "LEARNING RATE 0.001\n",
      "LEARNING RATE 0.001\n",
      "LEARNING RATE 0.001\n",
      "LEARNING RATE 0.001\n",
      "LEARNING RATE 0.001\n",
      "LEARNING RATE 0.001\n",
      "LEARNING RATE 0.001\n",
      "LEARNING RATE 0.001\n",
      "LEARNING RATE 0.001\n",
      "LEARNING RATE 0.001\n",
      "LEARNING RATE 0.001\n",
      "LEARNING RATE 0.001\n",
      "LEARNING RATE 0.001\n",
      "LEARNING RATE 0.001\n"
     ]
    },
    {
     "data": {
      "application/vnd.jupyter.widget-view+json": {
       "model_id": "58be32156e634eea8d0adfddfa01dc37",
       "version_major": 2,
       "version_minor": 0
      },
      "text/plain": [
       "Validation: |          | 0/? [00:00<?, ?it/s]"
      ]
     },
     "metadata": {},
     "output_type": "display_data"
    },
    {
     "name": "stdout",
     "output_type": "stream",
     "text": [
      "LEARNING RATE 0.001\n",
      "LEARNING RATE 0.001\n",
      "LEARNING RATE 0.001\n",
      "LEARNING RATE 0.001\n",
      "LEARNING RATE 0.001\n",
      "LEARNING RATE 0.001\n",
      "LEARNING RATE 0.001\n",
      "LEARNING RATE 0.001\n",
      "LEARNING RATE 0.001\n",
      "LEARNING RATE 0.001\n",
      "LEARNING RATE 0.001\n",
      "LEARNING RATE 0.001\n",
      "LEARNING RATE 0.001\n",
      "LEARNING RATE 0.001\n",
      "LEARNING RATE 0.001\n",
      "LEARNING RATE 0.001\n",
      "LEARNING RATE 0.001\n",
      "LEARNING RATE 0.001\n",
      "LEARNING RATE 0.001\n",
      "LEARNING RATE 0.001\n",
      "LEARNING RATE 0.001\n",
      "LEARNING RATE 0.001\n",
      "LEARNING RATE 0.001\n",
      "LEARNING RATE 0.001\n",
      "LEARNING RATE 0.001\n"
     ]
    },
    {
     "data": {
      "application/vnd.jupyter.widget-view+json": {
       "model_id": "af39b41b866544a89a5d7c2c68043411",
       "version_major": 2,
       "version_minor": 0
      },
      "text/plain": [
       "Validation: |          | 0/? [00:00<?, ?it/s]"
      ]
     },
     "metadata": {},
     "output_type": "display_data"
    },
    {
     "name": "stdout",
     "output_type": "stream",
     "text": [
      "LEARNING RATE 0.001\n",
      "LEARNING RATE 0.001\n",
      "LEARNING RATE 0.001\n",
      "LEARNING RATE 0.001\n",
      "LEARNING RATE 0.001\n",
      "LEARNING RATE 0.001\n",
      "LEARNING RATE 0.001\n",
      "LEARNING RATE 0.001\n",
      "LEARNING RATE 0.001\n",
      "LEARNING RATE 0.001\n",
      "LEARNING RATE 0.001\n",
      "LEARNING RATE 0.001\n",
      "LEARNING RATE 0.001\n",
      "LEARNING RATE 0.001\n",
      "LEARNING RATE 0.001\n",
      "LEARNING RATE 0.001\n",
      "LEARNING RATE 0.001\n",
      "LEARNING RATE 0.001\n",
      "LEARNING RATE 0.001\n",
      "LEARNING RATE 0.001\n",
      "LEARNING RATE 0.001\n",
      "LEARNING RATE 0.001\n",
      "LEARNING RATE 0.001\n",
      "LEARNING RATE 0.001\n",
      "LEARNING RATE 0.001\n"
     ]
    },
    {
     "data": {
      "application/vnd.jupyter.widget-view+json": {
       "model_id": "2213c5aca6f64aec96c94cded00d2d5a",
       "version_major": 2,
       "version_minor": 0
      },
      "text/plain": [
       "Validation: |          | 0/? [00:00<?, ?it/s]"
      ]
     },
     "metadata": {},
     "output_type": "display_data"
    },
    {
     "name": "stdout",
     "output_type": "stream",
     "text": [
      "LEARNING RATE 0.001\n",
      "LEARNING RATE 0.001\n",
      "LEARNING RATE 0.001\n",
      "LEARNING RATE 0.001\n",
      "LEARNING RATE 0.001\n",
      "LEARNING RATE 0.001\n",
      "LEARNING RATE 0.001\n",
      "LEARNING RATE 0.001\n",
      "LEARNING RATE 0.001\n",
      "LEARNING RATE 0.001\n",
      "LEARNING RATE 0.001\n",
      "LEARNING RATE 0.001\n",
      "LEARNING RATE 0.001\n",
      "LEARNING RATE 0.001\n",
      "LEARNING RATE 0.001\n",
      "LEARNING RATE 0.001\n",
      "LEARNING RATE 0.001\n",
      "LEARNING RATE 0.001\n",
      "LEARNING RATE 0.001\n",
      "LEARNING RATE 0.001\n",
      "LEARNING RATE 0.001\n",
      "LEARNING RATE 0.001\n",
      "LEARNING RATE 0.001\n",
      "LEARNING RATE 0.001\n",
      "LEARNING RATE 0.001\n"
     ]
    },
    {
     "data": {
      "application/vnd.jupyter.widget-view+json": {
       "model_id": "bcc069105d484d8c815d2194885ece23",
       "version_major": 2,
       "version_minor": 0
      },
      "text/plain": [
       "Validation: |          | 0/? [00:00<?, ?it/s]"
      ]
     },
     "metadata": {},
     "output_type": "display_data"
    },
    {
     "name": "stdout",
     "output_type": "stream",
     "text": [
      "LEARNING RATE 0.001\n",
      "LEARNING RATE 0.001\n",
      "LEARNING RATE 0.001\n",
      "LEARNING RATE 0.001\n",
      "LEARNING RATE 0.001\n",
      "LEARNING RATE 0.001\n",
      "LEARNING RATE 0.001\n",
      "LEARNING RATE 0.001\n",
      "LEARNING RATE 0.001\n",
      "LEARNING RATE 0.001\n",
      "LEARNING RATE 0.001\n",
      "LEARNING RATE 0.001\n",
      "LEARNING RATE 0.001\n",
      "LEARNING RATE 0.001\n",
      "LEARNING RATE 0.001\n",
      "LEARNING RATE 0.001\n",
      "LEARNING RATE 0.001\n",
      "LEARNING RATE 0.001\n",
      "LEARNING RATE 0.001\n",
      "LEARNING RATE 0.001\n",
      "LEARNING RATE 0.001\n",
      "LEARNING RATE 0.001\n",
      "LEARNING RATE 0.001\n",
      "LEARNING RATE 0.001\n",
      "LEARNING RATE 0.001\n"
     ]
    },
    {
     "data": {
      "application/vnd.jupyter.widget-view+json": {
       "model_id": "d75b275975df49e1bbd56ebcb7696958",
       "version_major": 2,
       "version_minor": 0
      },
      "text/plain": [
       "Validation: |          | 0/? [00:00<?, ?it/s]"
      ]
     },
     "metadata": {},
     "output_type": "display_data"
    },
    {
     "name": "stdout",
     "output_type": "stream",
     "text": [
      "LEARNING RATE 0.001\n",
      "LEARNING RATE 0.001\n",
      "LEARNING RATE 0.001\n",
      "LEARNING RATE 0.001\n",
      "LEARNING RATE 0.001\n",
      "LEARNING RATE 0.001\n",
      "LEARNING RATE 0.001\n",
      "LEARNING RATE 0.001\n",
      "LEARNING RATE 0.001\n",
      "LEARNING RATE 0.001\n",
      "LEARNING RATE 0.001\n",
      "LEARNING RATE 0.001\n",
      "LEARNING RATE 0.001\n",
      "LEARNING RATE 0.001\n",
      "LEARNING RATE 0.001\n",
      "LEARNING RATE 0.001\n",
      "LEARNING RATE 0.001\n",
      "LEARNING RATE 0.001\n",
      "LEARNING RATE 0.001\n",
      "LEARNING RATE 0.001\n",
      "LEARNING RATE 0.001\n",
      "LEARNING RATE 0.001\n",
      "LEARNING RATE 0.001\n",
      "LEARNING RATE 0.001\n",
      "LEARNING RATE 0.001\n"
     ]
    },
    {
     "data": {
      "application/vnd.jupyter.widget-view+json": {
       "model_id": "36f991d766734e12a5d9672f0ee77b9f",
       "version_major": 2,
       "version_minor": 0
      },
      "text/plain": [
       "Validation: |          | 0/? [00:00<?, ?it/s]"
      ]
     },
     "metadata": {},
     "output_type": "display_data"
    },
    {
     "name": "stdout",
     "output_type": "stream",
     "text": [
      "LEARNING RATE 0.001\n",
      "LEARNING RATE 0.001\n",
      "LEARNING RATE 0.001\n",
      "LEARNING RATE 0.001\n",
      "LEARNING RATE 0.001\n",
      "LEARNING RATE 0.001\n",
      "LEARNING RATE 0.001\n",
      "LEARNING RATE 0.001\n",
      "LEARNING RATE 0.001\n",
      "LEARNING RATE 0.001\n",
      "LEARNING RATE 0.001\n",
      "LEARNING RATE 0.001\n",
      "LEARNING RATE 0.001\n",
      "LEARNING RATE 0.001\n",
      "LEARNING RATE 0.001\n",
      "LEARNING RATE 0.001\n",
      "LEARNING RATE 0.001\n",
      "LEARNING RATE 0.001\n",
      "LEARNING RATE 0.001\n",
      "LEARNING RATE 0.001\n",
      "LEARNING RATE 0.001\n",
      "LEARNING RATE 0.001\n",
      "LEARNING RATE 0.001\n",
      "LEARNING RATE 0.001\n",
      "LEARNING RATE 0.001\n"
     ]
    },
    {
     "data": {
      "application/vnd.jupyter.widget-view+json": {
       "model_id": "12127d2b11544abe85586a053130984c",
       "version_major": 2,
       "version_minor": 0
      },
      "text/plain": [
       "Validation: |          | 0/? [00:00<?, ?it/s]"
      ]
     },
     "metadata": {},
     "output_type": "display_data"
    },
    {
     "name": "stdout",
     "output_type": "stream",
     "text": [
      "LEARNING RATE 0.001\n",
      "LEARNING RATE 0.001\n",
      "LEARNING RATE 0.001\n",
      "LEARNING RATE 0.001\n",
      "LEARNING RATE 0.001\n",
      "LEARNING RATE 0.001\n",
      "LEARNING RATE 0.001\n",
      "LEARNING RATE 0.001\n",
      "LEARNING RATE 0.001\n",
      "LEARNING RATE 0.001\n",
      "LEARNING RATE 0.001\n",
      "LEARNING RATE 0.001\n",
      "LEARNING RATE 0.001\n",
      "LEARNING RATE 0.001\n",
      "LEARNING RATE 0.001\n",
      "LEARNING RATE 0.001\n",
      "LEARNING RATE 0.001\n",
      "LEARNING RATE 0.001\n",
      "LEARNING RATE 0.001\n",
      "LEARNING RATE 0.001\n",
      "LEARNING RATE 0.001\n",
      "LEARNING RATE 0.001\n",
      "LEARNING RATE 0.001\n",
      "LEARNING RATE 0.001\n",
      "LEARNING RATE 0.001\n"
     ]
    },
    {
     "data": {
      "application/vnd.jupyter.widget-view+json": {
       "model_id": "d03fb9ded9f045d98f33958d8157f893",
       "version_major": 2,
       "version_minor": 0
      },
      "text/plain": [
       "Validation: |          | 0/? [00:00<?, ?it/s]"
      ]
     },
     "metadata": {},
     "output_type": "display_data"
    },
    {
     "name": "stdout",
     "output_type": "stream",
     "text": [
      "LEARNING RATE 0.001\n",
      "LEARNING RATE 0.001\n",
      "LEARNING RATE 0.001\n",
      "LEARNING RATE 0.001\n",
      "LEARNING RATE 0.001\n",
      "LEARNING RATE 0.001\n",
      "LEARNING RATE 0.001\n",
      "LEARNING RATE 0.001\n",
      "LEARNING RATE 0.001\n",
      "LEARNING RATE 0.001\n",
      "LEARNING RATE 0.001\n",
      "LEARNING RATE 0.001\n",
      "LEARNING RATE 0.001\n",
      "LEARNING RATE 0.001\n",
      "LEARNING RATE 0.001\n",
      "LEARNING RATE 0.001\n",
      "LEARNING RATE 0.001\n",
      "LEARNING RATE 0.001\n",
      "LEARNING RATE 0.001\n",
      "LEARNING RATE 0.001\n",
      "LEARNING RATE 0.001\n",
      "LEARNING RATE 0.001\n",
      "LEARNING RATE 0.001\n",
      "LEARNING RATE 0.001\n",
      "LEARNING RATE 0.001\n"
     ]
    },
    {
     "data": {
      "application/vnd.jupyter.widget-view+json": {
       "model_id": "0e7dad527c0f458f8e2338544be61f01",
       "version_major": 2,
       "version_minor": 0
      },
      "text/plain": [
       "Validation: |          | 0/? [00:00<?, ?it/s]"
      ]
     },
     "metadata": {},
     "output_type": "display_data"
    },
    {
     "name": "stdout",
     "output_type": "stream",
     "text": [
      "LEARNING RATE 0.001\n",
      "LEARNING RATE 0.001\n",
      "LEARNING RATE 0.001\n",
      "LEARNING RATE 0.001\n",
      "LEARNING RATE 0.001\n",
      "LEARNING RATE 0.001\n",
      "LEARNING RATE 0.001\n",
      "LEARNING RATE 0.001\n",
      "LEARNING RATE 0.001\n",
      "LEARNING RATE 0.001\n",
      "LEARNING RATE 0.001\n",
      "LEARNING RATE 0.001\n",
      "LEARNING RATE 0.001\n",
      "LEARNING RATE 0.001\n",
      "LEARNING RATE 0.001\n",
      "LEARNING RATE 0.001\n",
      "LEARNING RATE 0.001\n",
      "LEARNING RATE 0.001\n",
      "LEARNING RATE 0.001\n",
      "LEARNING RATE 0.001\n",
      "LEARNING RATE 0.001\n",
      "LEARNING RATE 0.001\n",
      "LEARNING RATE 0.001\n",
      "LEARNING RATE 0.001\n",
      "LEARNING RATE 0.001\n"
     ]
    },
    {
     "data": {
      "application/vnd.jupyter.widget-view+json": {
       "model_id": "ff8ea943be5d40dea07604e9e90f6a29",
       "version_major": 2,
       "version_minor": 0
      },
      "text/plain": [
       "Validation: |          | 0/? [00:00<?, ?it/s]"
      ]
     },
     "metadata": {},
     "output_type": "display_data"
    },
    {
     "name": "stdout",
     "output_type": "stream",
     "text": [
      "LEARNING RATE 0.001\n",
      "LEARNING RATE 0.001\n",
      "LEARNING RATE 0.001\n",
      "LEARNING RATE 0.001\n",
      "LEARNING RATE 0.001\n",
      "LEARNING RATE 0.001\n",
      "LEARNING RATE 0.001\n",
      "LEARNING RATE 0.001\n",
      "LEARNING RATE 0.001\n",
      "LEARNING RATE 0.001\n",
      "LEARNING RATE 0.001\n",
      "LEARNING RATE 0.001\n",
      "LEARNING RATE 0.001\n",
      "LEARNING RATE 0.001\n",
      "LEARNING RATE 0.001\n",
      "LEARNING RATE 0.001\n",
      "LEARNING RATE 0.001\n",
      "LEARNING RATE 0.001\n",
      "LEARNING RATE 0.001\n",
      "LEARNING RATE 0.001\n",
      "LEARNING RATE 0.001\n",
      "LEARNING RATE 0.001\n",
      "LEARNING RATE 0.001\n",
      "LEARNING RATE 0.001\n",
      "LEARNING RATE 0.001\n"
     ]
    },
    {
     "data": {
      "application/vnd.jupyter.widget-view+json": {
       "model_id": "68b962b2632e4d1399356fbc4c2499ec",
       "version_major": 2,
       "version_minor": 0
      },
      "text/plain": [
       "Validation: |          | 0/? [00:00<?, ?it/s]"
      ]
     },
     "metadata": {},
     "output_type": "display_data"
    },
    {
     "name": "stdout",
     "output_type": "stream",
     "text": [
      "LEARNING RATE 0.001\n",
      "LEARNING RATE 0.001\n",
      "LEARNING RATE 0.001\n",
      "LEARNING RATE 0.001\n",
      "LEARNING RATE 0.001\n",
      "LEARNING RATE 0.001\n",
      "LEARNING RATE 0.001\n",
      "LEARNING RATE 0.001\n",
      "LEARNING RATE 0.001\n",
      "LEARNING RATE 0.001\n",
      "LEARNING RATE 0.001\n",
      "LEARNING RATE 0.001\n",
      "LEARNING RATE 0.001\n",
      "LEARNING RATE 0.001\n",
      "LEARNING RATE 0.001\n",
      "LEARNING RATE 0.001\n",
      "LEARNING RATE 0.001\n",
      "LEARNING RATE 0.001\n",
      "LEARNING RATE 0.001\n",
      "LEARNING RATE 0.001\n",
      "LEARNING RATE 0.001\n",
      "LEARNING RATE 0.001\n",
      "LEARNING RATE 0.001\n",
      "LEARNING RATE 0.001\n",
      "LEARNING RATE 0.001\n"
     ]
    },
    {
     "data": {
      "application/vnd.jupyter.widget-view+json": {
       "model_id": "31ab16016188455cba44a5c24e241f71",
       "version_major": 2,
       "version_minor": 0
      },
      "text/plain": [
       "Validation: |          | 0/? [00:00<?, ?it/s]"
      ]
     },
     "metadata": {},
     "output_type": "display_data"
    },
    {
     "name": "stdout",
     "output_type": "stream",
     "text": [
      "LEARNING RATE 0.001\n",
      "LEARNING RATE 0.001\n",
      "LEARNING RATE 0.001\n",
      "LEARNING RATE 0.001\n",
      "LEARNING RATE 0.001\n",
      "LEARNING RATE 0.001\n",
      "LEARNING RATE 0.001\n",
      "LEARNING RATE 0.001\n",
      "LEARNING RATE 0.001\n",
      "LEARNING RATE 0.001\n",
      "LEARNING RATE 0.001\n",
      "LEARNING RATE 0.001\n",
      "LEARNING RATE 0.001\n",
      "LEARNING RATE 0.001\n",
      "LEARNING RATE 0.001\n",
      "LEARNING RATE 0.001\n",
      "LEARNING RATE 0.001\n",
      "LEARNING RATE 0.001\n",
      "LEARNING RATE 0.001\n",
      "LEARNING RATE 0.001\n",
      "LEARNING RATE 0.001\n",
      "LEARNING RATE 0.001\n",
      "LEARNING RATE 0.001\n",
      "LEARNING RATE 0.001\n",
      "LEARNING RATE 0.001\n"
     ]
    },
    {
     "data": {
      "application/vnd.jupyter.widget-view+json": {
       "model_id": "a4fbfdc67fe1411babdd5b714e648e27",
       "version_major": 2,
       "version_minor": 0
      },
      "text/plain": [
       "Validation: |          | 0/? [00:00<?, ?it/s]"
      ]
     },
     "metadata": {},
     "output_type": "display_data"
    },
    {
     "name": "stdout",
     "output_type": "stream",
     "text": [
      "LEARNING RATE 0.001\n",
      "LEARNING RATE 0.001\n",
      "LEARNING RATE 0.001\n",
      "LEARNING RATE 0.001\n",
      "LEARNING RATE 0.001\n",
      "LEARNING RATE 0.001\n",
      "LEARNING RATE 0.001\n",
      "LEARNING RATE 0.001\n",
      "LEARNING RATE 0.001\n",
      "LEARNING RATE 0.001\n",
      "LEARNING RATE 0.001\n",
      "LEARNING RATE 0.001\n",
      "LEARNING RATE 0.001\n",
      "LEARNING RATE 0.001\n",
      "LEARNING RATE 0.001\n",
      "LEARNING RATE 0.001\n",
      "LEARNING RATE 0.001\n",
      "LEARNING RATE 0.001\n",
      "LEARNING RATE 0.001\n",
      "LEARNING RATE 0.001\n",
      "LEARNING RATE 0.001\n",
      "LEARNING RATE 0.001\n",
      "LEARNING RATE 0.001\n",
      "LEARNING RATE 0.001\n",
      "LEARNING RATE 0.001\n"
     ]
    },
    {
     "data": {
      "application/vnd.jupyter.widget-view+json": {
       "model_id": "0e6e654444484c639f2f66834d2f4903",
       "version_major": 2,
       "version_minor": 0
      },
      "text/plain": [
       "Validation: |          | 0/? [00:00<?, ?it/s]"
      ]
     },
     "metadata": {},
     "output_type": "display_data"
    },
    {
     "name": "stdout",
     "output_type": "stream",
     "text": [
      "LEARNING RATE 0.001\n",
      "LEARNING RATE 0.001\n",
      "LEARNING RATE 0.001\n",
      "LEARNING RATE 0.001\n",
      "LEARNING RATE 0.001\n",
      "LEARNING RATE 0.001\n",
      "LEARNING RATE 0.001\n",
      "LEARNING RATE 0.001\n",
      "LEARNING RATE 0.001\n",
      "LEARNING RATE 0.001\n",
      "LEARNING RATE 0.001\n",
      "LEARNING RATE 0.001\n",
      "LEARNING RATE 0.001\n",
      "LEARNING RATE 0.001\n",
      "LEARNING RATE 0.001\n",
      "LEARNING RATE 0.001\n",
      "LEARNING RATE 0.001\n",
      "LEARNING RATE 0.001\n",
      "LEARNING RATE 0.001\n",
      "LEARNING RATE 0.001\n",
      "LEARNING RATE 0.001\n",
      "LEARNING RATE 0.001\n",
      "LEARNING RATE 0.001\n",
      "LEARNING RATE 0.001\n",
      "LEARNING RATE 0.001\n"
     ]
    },
    {
     "data": {
      "application/vnd.jupyter.widget-view+json": {
       "model_id": "c04fa45dbb09485a80410883283f4568",
       "version_major": 2,
       "version_minor": 0
      },
      "text/plain": [
       "Validation: |          | 0/? [00:00<?, ?it/s]"
      ]
     },
     "metadata": {},
     "output_type": "display_data"
    },
    {
     "name": "stdout",
     "output_type": "stream",
     "text": [
      "LEARNING RATE 0.001\n",
      "LEARNING RATE 0.001\n",
      "LEARNING RATE 0.001\n",
      "LEARNING RATE 0.001\n",
      "LEARNING RATE 0.001\n",
      "LEARNING RATE 0.001\n",
      "LEARNING RATE 0.001\n",
      "LEARNING RATE 0.001\n",
      "LEARNING RATE 0.001\n",
      "LEARNING RATE 0.001\n",
      "LEARNING RATE 0.001\n",
      "LEARNING RATE 0.001\n",
      "LEARNING RATE 0.001\n",
      "LEARNING RATE 0.001\n",
      "LEARNING RATE 0.001\n",
      "LEARNING RATE 0.001\n",
      "LEARNING RATE 0.001\n",
      "LEARNING RATE 0.001\n",
      "LEARNING RATE 0.001\n",
      "LEARNING RATE 0.001\n",
      "LEARNING RATE 0.001\n",
      "LEARNING RATE 0.001\n",
      "LEARNING RATE 0.001\n",
      "LEARNING RATE 0.001\n",
      "LEARNING RATE 0.001\n"
     ]
    },
    {
     "data": {
      "application/vnd.jupyter.widget-view+json": {
       "model_id": "5d3b911ad6f341d88ef851d6007a64bf",
       "version_major": 2,
       "version_minor": 0
      },
      "text/plain": [
       "Validation: |          | 0/? [00:00<?, ?it/s]"
      ]
     },
     "metadata": {},
     "output_type": "display_data"
    },
    {
     "name": "stdout",
     "output_type": "stream",
     "text": [
      "LEARNING RATE 0.001\n",
      "LEARNING RATE 0.001\n",
      "LEARNING RATE 0.001\n",
      "LEARNING RATE 0.001\n",
      "LEARNING RATE 0.001\n",
      "LEARNING RATE 0.001\n",
      "LEARNING RATE 0.001\n",
      "LEARNING RATE 0.001\n",
      "LEARNING RATE 0.001\n",
      "LEARNING RATE 0.001\n",
      "LEARNING RATE 0.001\n",
      "LEARNING RATE 0.001\n",
      "LEARNING RATE 0.001\n",
      "LEARNING RATE 0.001\n",
      "LEARNING RATE 0.001\n",
      "LEARNING RATE 0.001\n",
      "LEARNING RATE 0.001\n",
      "LEARNING RATE 0.001\n",
      "LEARNING RATE 0.001\n",
      "LEARNING RATE 0.001\n",
      "LEARNING RATE 0.001\n",
      "LEARNING RATE 0.001\n",
      "LEARNING RATE 0.001\n",
      "LEARNING RATE 0.001\n",
      "LEARNING RATE 0.001\n"
     ]
    },
    {
     "data": {
      "application/vnd.jupyter.widget-view+json": {
       "model_id": "e81cd7a5b86943f18caae5d7d63d193b",
       "version_major": 2,
       "version_minor": 0
      },
      "text/plain": [
       "Validation: |          | 0/? [00:00<?, ?it/s]"
      ]
     },
     "metadata": {},
     "output_type": "display_data"
    },
    {
     "name": "stdout",
     "output_type": "stream",
     "text": [
      "LEARNING RATE 0.001\n",
      "LEARNING RATE 0.001\n",
      "LEARNING RATE 0.001\n",
      "LEARNING RATE 0.001\n",
      "LEARNING RATE 0.001\n",
      "LEARNING RATE 0.001\n",
      "LEARNING RATE 0.001\n",
      "LEARNING RATE 0.001\n",
      "LEARNING RATE 0.001\n",
      "LEARNING RATE 0.001\n",
      "LEARNING RATE 0.001\n",
      "LEARNING RATE 0.001\n",
      "LEARNING RATE 0.001\n",
      "LEARNING RATE 0.001\n",
      "LEARNING RATE 0.001\n",
      "LEARNING RATE 0.001\n",
      "LEARNING RATE 0.001\n",
      "LEARNING RATE 0.001\n",
      "LEARNING RATE 0.001\n",
      "LEARNING RATE 0.001\n",
      "LEARNING RATE 0.001\n",
      "LEARNING RATE 0.001\n",
      "LEARNING RATE 0.001\n",
      "LEARNING RATE 0.001\n",
      "LEARNING RATE 0.001\n"
     ]
    },
    {
     "data": {
      "application/vnd.jupyter.widget-view+json": {
       "model_id": "1503c4bec5734b3cb7adf80fd22a8c90",
       "version_major": 2,
       "version_minor": 0
      },
      "text/plain": [
       "Validation: |          | 0/? [00:00<?, ?it/s]"
      ]
     },
     "metadata": {},
     "output_type": "display_data"
    },
    {
     "name": "stdout",
     "output_type": "stream",
     "text": [
      "LEARNING RATE 0.001\n",
      "LEARNING RATE 0.001\n",
      "LEARNING RATE 0.001\n",
      "LEARNING RATE 0.001\n",
      "LEARNING RATE 0.001\n",
      "LEARNING RATE 0.001\n",
      "LEARNING RATE 0.001\n",
      "LEARNING RATE 0.001\n",
      "LEARNING RATE 0.001\n",
      "LEARNING RATE 0.001\n",
      "LEARNING RATE 0.001\n",
      "LEARNING RATE 0.001\n",
      "LEARNING RATE 0.001\n",
      "LEARNING RATE 0.001\n",
      "LEARNING RATE 0.001\n",
      "LEARNING RATE 0.001\n",
      "LEARNING RATE 0.001\n",
      "LEARNING RATE 0.001\n",
      "LEARNING RATE 0.001\n",
      "LEARNING RATE 0.001\n",
      "LEARNING RATE 0.001\n",
      "LEARNING RATE 0.001\n",
      "LEARNING RATE 0.001\n",
      "LEARNING RATE 0.001\n",
      "LEARNING RATE 0.001\n"
     ]
    },
    {
     "data": {
      "application/vnd.jupyter.widget-view+json": {
       "model_id": "762751b8445942708e23e7f30a14bed8",
       "version_major": 2,
       "version_minor": 0
      },
      "text/plain": [
       "Validation: |          | 0/? [00:00<?, ?it/s]"
      ]
     },
     "metadata": {},
     "output_type": "display_data"
    },
    {
     "name": "stdout",
     "output_type": "stream",
     "text": [
      "LEARNING RATE 0.001\n",
      "LEARNING RATE 0.001\n",
      "LEARNING RATE 0.001\n",
      "LEARNING RATE 0.001\n",
      "LEARNING RATE 0.001\n",
      "LEARNING RATE 0.001\n",
      "LEARNING RATE 0.001\n",
      "LEARNING RATE 0.001\n",
      "LEARNING RATE 0.001\n",
      "LEARNING RATE 0.001\n",
      "LEARNING RATE 0.001\n",
      "LEARNING RATE 0.001\n",
      "LEARNING RATE 0.001\n",
      "LEARNING RATE 0.001\n",
      "LEARNING RATE 0.001\n",
      "LEARNING RATE 0.001\n",
      "LEARNING RATE 0.001\n",
      "LEARNING RATE 0.001\n",
      "LEARNING RATE 0.001\n",
      "LEARNING RATE 0.001\n",
      "LEARNING RATE 0.001\n",
      "LEARNING RATE 0.001\n",
      "LEARNING RATE 0.001\n",
      "LEARNING RATE 0.001\n",
      "LEARNING RATE 0.001\n"
     ]
    },
    {
     "data": {
      "application/vnd.jupyter.widget-view+json": {
       "model_id": "3ed6e8724ebb42e78e8ee5df3377776a",
       "version_major": 2,
       "version_minor": 0
      },
      "text/plain": [
       "Validation: |          | 0/? [00:00<?, ?it/s]"
      ]
     },
     "metadata": {},
     "output_type": "display_data"
    },
    {
     "name": "stdout",
     "output_type": "stream",
     "text": [
      "LEARNING RATE 0.001\n",
      "LEARNING RATE 0.001\n",
      "LEARNING RATE 0.001\n",
      "LEARNING RATE 0.001\n",
      "LEARNING RATE 0.001\n",
      "LEARNING RATE 0.001\n",
      "LEARNING RATE 0.001\n",
      "LEARNING RATE 0.001\n",
      "LEARNING RATE 0.001\n",
      "LEARNING RATE 0.001\n",
      "LEARNING RATE 0.001\n",
      "LEARNING RATE 0.001\n",
      "LEARNING RATE 0.001\n",
      "LEARNING RATE 0.001\n",
      "LEARNING RATE 0.001\n",
      "LEARNING RATE 0.001\n",
      "LEARNING RATE 0.001\n",
      "LEARNING RATE 0.001\n",
      "LEARNING RATE 0.001\n",
      "LEARNING RATE 0.001\n",
      "LEARNING RATE 0.001\n",
      "LEARNING RATE 0.001\n",
      "LEARNING RATE 0.001\n",
      "LEARNING RATE 0.001\n",
      "LEARNING RATE 0.001\n"
     ]
    },
    {
     "data": {
      "application/vnd.jupyter.widget-view+json": {
       "model_id": "a109a6409fcd4613ae07f5c9bbddce7a",
       "version_major": 2,
       "version_minor": 0
      },
      "text/plain": [
       "Validation: |          | 0/? [00:00<?, ?it/s]"
      ]
     },
     "metadata": {},
     "output_type": "display_data"
    },
    {
     "name": "stdout",
     "output_type": "stream",
     "text": [
      "LEARNING RATE 0.001\n",
      "LEARNING RATE 0.001\n",
      "LEARNING RATE 0.001\n",
      "LEARNING RATE 0.001\n",
      "LEARNING RATE 0.001\n",
      "LEARNING RATE 0.001\n",
      "LEARNING RATE 0.001\n",
      "LEARNING RATE 0.001\n",
      "LEARNING RATE 0.001\n",
      "LEARNING RATE 0.001\n",
      "LEARNING RATE 0.001\n",
      "LEARNING RATE 0.001\n",
      "LEARNING RATE 0.001\n",
      "LEARNING RATE 0.001\n",
      "LEARNING RATE 0.001\n",
      "LEARNING RATE 0.001\n",
      "LEARNING RATE 0.001\n",
      "LEARNING RATE 0.001\n",
      "LEARNING RATE 0.001\n",
      "LEARNING RATE 0.001\n",
      "LEARNING RATE 0.001\n",
      "LEARNING RATE 0.001\n",
      "LEARNING RATE 0.001\n",
      "LEARNING RATE 0.001\n",
      "LEARNING RATE 0.001\n"
     ]
    },
    {
     "data": {
      "application/vnd.jupyter.widget-view+json": {
       "model_id": "7e04eafa4be54517965160ecb2119e96",
       "version_major": 2,
       "version_minor": 0
      },
      "text/plain": [
       "Validation: |          | 0/? [00:00<?, ?it/s]"
      ]
     },
     "metadata": {},
     "output_type": "display_data"
    },
    {
     "name": "stdout",
     "output_type": "stream",
     "text": [
      "LEARNING RATE 0.001\n",
      "LEARNING RATE 0.001\n",
      "LEARNING RATE 0.001\n",
      "LEARNING RATE 0.001\n",
      "LEARNING RATE 0.001\n",
      "LEARNING RATE 0.001\n",
      "LEARNING RATE 0.001\n",
      "LEARNING RATE 0.001\n",
      "LEARNING RATE 0.001\n",
      "LEARNING RATE 0.001\n",
      "LEARNING RATE 0.001\n",
      "LEARNING RATE 0.001\n",
      "LEARNING RATE 0.001\n",
      "LEARNING RATE 0.001\n",
      "LEARNING RATE 0.001\n",
      "LEARNING RATE 0.001\n",
      "LEARNING RATE 0.001\n",
      "LEARNING RATE 0.001\n",
      "LEARNING RATE 0.001\n",
      "LEARNING RATE 0.001\n",
      "LEARNING RATE 0.001\n",
      "LEARNING RATE 0.001\n",
      "LEARNING RATE 0.001\n",
      "LEARNING RATE 0.001\n",
      "LEARNING RATE 0.001\n"
     ]
    },
    {
     "data": {
      "application/vnd.jupyter.widget-view+json": {
       "model_id": "792324cd5aeb4fdb8e22502dd9ffc3ef",
       "version_major": 2,
       "version_minor": 0
      },
      "text/plain": [
       "Validation: |          | 0/? [00:00<?, ?it/s]"
      ]
     },
     "metadata": {},
     "output_type": "display_data"
    },
    {
     "name": "stdout",
     "output_type": "stream",
     "text": [
      "LEARNING RATE 0.001\n",
      "LEARNING RATE 0.001\n",
      "LEARNING RATE 0.001\n",
      "LEARNING RATE 0.001\n",
      "LEARNING RATE 0.001\n",
      "LEARNING RATE 0.001\n",
      "LEARNING RATE 0.001\n",
      "LEARNING RATE 0.001\n",
      "LEARNING RATE 0.001\n",
      "LEARNING RATE 0.001\n",
      "LEARNING RATE 0.001\n",
      "LEARNING RATE 0.001\n",
      "LEARNING RATE 0.001\n",
      "LEARNING RATE 0.001\n",
      "LEARNING RATE 0.001\n",
      "LEARNING RATE 0.001\n",
      "LEARNING RATE 0.001\n",
      "LEARNING RATE 0.001\n",
      "LEARNING RATE 0.001\n",
      "LEARNING RATE 0.001\n",
      "LEARNING RATE 0.001\n",
      "LEARNING RATE 0.001\n",
      "LEARNING RATE 0.001\n",
      "LEARNING RATE 0.001\n",
      "LEARNING RATE 0.001\n"
     ]
    },
    {
     "data": {
      "application/vnd.jupyter.widget-view+json": {
       "model_id": "38bd5ce7bcfa481eb15056e822cac2dc",
       "version_major": 2,
       "version_minor": 0
      },
      "text/plain": [
       "Validation: |          | 0/? [00:00<?, ?it/s]"
      ]
     },
     "metadata": {},
     "output_type": "display_data"
    },
    {
     "name": "stdout",
     "output_type": "stream",
     "text": [
      "LEARNING RATE 0.001\n",
      "LEARNING RATE 0.001\n",
      "LEARNING RATE 0.001\n",
      "LEARNING RATE 0.001\n",
      "LEARNING RATE 0.001\n",
      "LEARNING RATE 0.001\n",
      "LEARNING RATE 0.001\n",
      "LEARNING RATE 0.001\n",
      "LEARNING RATE 0.001\n",
      "LEARNING RATE 0.001\n",
      "LEARNING RATE 0.001\n",
      "LEARNING RATE 0.001\n",
      "LEARNING RATE 0.001\n",
      "LEARNING RATE 0.001\n",
      "LEARNING RATE 0.001\n",
      "LEARNING RATE 0.001\n",
      "LEARNING RATE 0.001\n",
      "LEARNING RATE 0.001\n",
      "LEARNING RATE 0.001\n",
      "LEARNING RATE 0.001\n",
      "LEARNING RATE 0.001\n",
      "LEARNING RATE 0.001\n",
      "LEARNING RATE 0.001\n",
      "LEARNING RATE 0.001\n",
      "LEARNING RATE 0.001\n"
     ]
    },
    {
     "data": {
      "application/vnd.jupyter.widget-view+json": {
       "model_id": "4d12d0e5028f49ba82da63127d8332d4",
       "version_major": 2,
       "version_minor": 0
      },
      "text/plain": [
       "Validation: |          | 0/? [00:00<?, ?it/s]"
      ]
     },
     "metadata": {},
     "output_type": "display_data"
    },
    {
     "name": "stdout",
     "output_type": "stream",
     "text": [
      "LEARNING RATE 0.001\n",
      "LEARNING RATE 0.001\n",
      "LEARNING RATE 0.001\n",
      "LEARNING RATE 0.001\n",
      "LEARNING RATE 0.001\n",
      "LEARNING RATE 0.001\n",
      "LEARNING RATE 0.001\n",
      "LEARNING RATE 0.001\n",
      "LEARNING RATE 0.001\n",
      "LEARNING RATE 0.001\n",
      "LEARNING RATE 0.001\n",
      "LEARNING RATE 0.001\n",
      "LEARNING RATE 0.001\n",
      "LEARNING RATE 0.001\n",
      "LEARNING RATE 0.001\n",
      "LEARNING RATE 0.001\n",
      "LEARNING RATE 0.001\n",
      "LEARNING RATE 0.001\n",
      "LEARNING RATE 0.001\n",
      "LEARNING RATE 0.001\n",
      "LEARNING RATE 0.001\n",
      "LEARNING RATE 0.001\n",
      "LEARNING RATE 0.001\n",
      "LEARNING RATE 0.001\n",
      "LEARNING RATE 0.001\n"
     ]
    },
    {
     "data": {
      "application/vnd.jupyter.widget-view+json": {
       "model_id": "3ab12e2226e44309b6f44324cd29e798",
       "version_major": 2,
       "version_minor": 0
      },
      "text/plain": [
       "Validation: |          | 0/? [00:00<?, ?it/s]"
      ]
     },
     "metadata": {},
     "output_type": "display_data"
    },
    {
     "name": "stdout",
     "output_type": "stream",
     "text": [
      "LEARNING RATE 0.001\n",
      "LEARNING RATE 0.001\n",
      "LEARNING RATE 0.001\n",
      "LEARNING RATE 0.001\n",
      "LEARNING RATE 0.001\n",
      "LEARNING RATE 0.001\n",
      "LEARNING RATE 0.001\n",
      "LEARNING RATE 0.001\n",
      "LEARNING RATE 0.001\n",
      "LEARNING RATE 0.001\n",
      "LEARNING RATE 0.001\n",
      "LEARNING RATE 0.001\n",
      "LEARNING RATE 0.001\n",
      "LEARNING RATE 0.001\n",
      "LEARNING RATE 0.001\n",
      "LEARNING RATE 0.001\n",
      "LEARNING RATE 0.001\n",
      "LEARNING RATE 0.001\n",
      "LEARNING RATE 0.001\n",
      "LEARNING RATE 0.001\n",
      "LEARNING RATE 0.001\n",
      "LEARNING RATE 0.001\n",
      "LEARNING RATE 0.001\n",
      "LEARNING RATE 0.001\n",
      "LEARNING RATE 0.001\n"
     ]
    },
    {
     "data": {
      "application/vnd.jupyter.widget-view+json": {
       "model_id": "0146cf78d58e481386a4d1feb91a105c",
       "version_major": 2,
       "version_minor": 0
      },
      "text/plain": [
       "Validation: |          | 0/? [00:00<?, ?it/s]"
      ]
     },
     "metadata": {},
     "output_type": "display_data"
    },
    {
     "name": "stdout",
     "output_type": "stream",
     "text": [
      "LEARNING RATE 0.001\n",
      "LEARNING RATE 0.001\n",
      "LEARNING RATE 0.001\n",
      "LEARNING RATE 0.001\n",
      "LEARNING RATE 0.001\n",
      "LEARNING RATE 0.001\n",
      "LEARNING RATE 0.001\n",
      "LEARNING RATE 0.001\n",
      "LEARNING RATE 0.001\n",
      "LEARNING RATE 0.001\n",
      "LEARNING RATE 0.001\n",
      "LEARNING RATE 0.001\n",
      "LEARNING RATE 0.001\n",
      "LEARNING RATE 0.001\n",
      "LEARNING RATE 0.001\n",
      "LEARNING RATE 0.001\n",
      "LEARNING RATE 0.001\n",
      "LEARNING RATE 0.001\n",
      "LEARNING RATE 0.001\n",
      "LEARNING RATE 0.001\n",
      "LEARNING RATE 0.001\n",
      "LEARNING RATE 0.001\n",
      "LEARNING RATE 0.001\n",
      "LEARNING RATE 0.001\n",
      "LEARNING RATE 0.001\n"
     ]
    },
    {
     "data": {
      "application/vnd.jupyter.widget-view+json": {
       "model_id": "11590fbfc5ac409d8d57795c971d3728",
       "version_major": 2,
       "version_minor": 0
      },
      "text/plain": [
       "Validation: |          | 0/? [00:00<?, ?it/s]"
      ]
     },
     "metadata": {},
     "output_type": "display_data"
    },
    {
     "name": "stdout",
     "output_type": "stream",
     "text": [
      "LEARNING RATE 0.001\n",
      "LEARNING RATE 0.001\n",
      "LEARNING RATE 0.001\n",
      "LEARNING RATE 0.001\n",
      "LEARNING RATE 0.001\n",
      "LEARNING RATE 0.001\n",
      "LEARNING RATE 0.001\n",
      "LEARNING RATE 0.001\n",
      "LEARNING RATE 0.001\n",
      "LEARNING RATE 0.001\n",
      "LEARNING RATE 0.001\n",
      "LEARNING RATE 0.001\n",
      "LEARNING RATE 0.001\n",
      "LEARNING RATE 0.001\n",
      "LEARNING RATE 0.001\n",
      "LEARNING RATE 0.001\n",
      "LEARNING RATE 0.001\n",
      "LEARNING RATE 0.001\n",
      "LEARNING RATE 0.001\n",
      "LEARNING RATE 0.001\n",
      "LEARNING RATE 0.001\n",
      "LEARNING RATE 0.001\n",
      "LEARNING RATE 0.001\n",
      "LEARNING RATE 0.001\n",
      "LEARNING RATE 0.001\n"
     ]
    },
    {
     "data": {
      "application/vnd.jupyter.widget-view+json": {
       "model_id": "9f8c59762a1149db8928eb5e70aaf459",
       "version_major": 2,
       "version_minor": 0
      },
      "text/plain": [
       "Validation: |          | 0/? [00:00<?, ?it/s]"
      ]
     },
     "metadata": {},
     "output_type": "display_data"
    },
    {
     "name": "stdout",
     "output_type": "stream",
     "text": [
      "LEARNING RATE 0.001\n",
      "LEARNING RATE 0.001\n",
      "LEARNING RATE 0.001\n",
      "LEARNING RATE 0.001\n",
      "LEARNING RATE 0.001\n",
      "LEARNING RATE 0.001\n",
      "LEARNING RATE 0.001\n",
      "LEARNING RATE 0.001\n",
      "LEARNING RATE 0.001\n",
      "LEARNING RATE 0.001\n",
      "LEARNING RATE 0.001\n",
      "LEARNING RATE 0.001\n",
      "LEARNING RATE 0.001\n",
      "LEARNING RATE 0.001\n",
      "LEARNING RATE 0.001\n",
      "LEARNING RATE 0.001\n",
      "LEARNING RATE 0.001\n",
      "LEARNING RATE 0.001\n",
      "LEARNING RATE 0.001\n",
      "LEARNING RATE 0.001\n",
      "LEARNING RATE 0.001\n",
      "LEARNING RATE 0.001\n",
      "LEARNING RATE 0.001\n",
      "LEARNING RATE 0.001\n",
      "LEARNING RATE 0.001\n"
     ]
    },
    {
     "name": "stderr",
     "output_type": "stream",
     "text": [
      "Exception ignored in: <function _releaseLock at 0x7f33d5a78940>\n",
      "Traceback (most recent call last):\n",
      "  File \"/usr/lib/python3.10/logging/__init__.py\", line 228, in _releaseLock\n",
      "    def _releaseLock():\n",
      "  File \"_pydevd_bundle/pydevd_cython.pyx\", line 1457, in _pydevd_bundle.pydevd_cython.SafeCallWrapper.__call__\n",
      "  File \"_pydevd_bundle/pydevd_cython.pyx\", line 1758, in _pydevd_bundle.pydevd_cython.ThreadTracer.__call__\n",
      "  File \"/root/.cache/pypoetry/virtualenvs/gadme-zu58s5te-py3.10/lib/python3.10/site-packages/debugpy/_vendored/pydevd/_pydev_bundle/pydev_is_thread_alive.py\", line 9, in is_thread_alive\n",
      "    def is_thread_alive(t):\n",
      "KeyboardInterrupt: \n"
     ]
    },
    {
     "data": {
      "application/vnd.jupyter.widget-view+json": {
       "model_id": "98281a360206430d95e508a0687cc24f",
       "version_major": 2,
       "version_minor": 0
      },
      "text/plain": [
       "Validation: |          | 0/? [00:00<?, ?it/s]"
      ]
     },
     "metadata": {},
     "output_type": "display_data"
    }
   ],
   "source": [
    "from lightning import Trainer\n",
    "trainer = Trainer(max_epochs=50, devices=1)\n",
    "trainer.fit(resnetModule, esc50_datamodule)"
   ]
  },
  {
   "cell_type": "code",
   "execution_count": 22,
   "metadata": {},
   "outputs": [
    {
     "name": "stderr",
     "output_type": "stream",
     "text": [
      "LOCAL_RANK: 0 - CUDA_VISIBLE_DEVICES: [0,1,2]\n"
     ]
    },
    {
     "data": {
      "application/vnd.jupyter.widget-view+json": {
       "model_id": "9f07ff4449834f16ba617bc057a4f388",
       "version_major": 2,
       "version_minor": 0
      },
      "text/plain": [
       "Testing: |          | 0/? [00:00<?, ?it/s]"
      ]
     },
     "metadata": {},
     "output_type": "display_data"
    },
    {
     "data": {
      "text/html": [
       "<pre style=\"white-space:pre;overflow-x:auto;line-height:normal;font-family:Menlo,'DejaVu Sans Mono',consolas,'Courier New',monospace\">┏━━━━━━━━━━━━━━━━━━━━━━━━━━━┳━━━━━━━━━━━━━━━━━━━━━━━━━━━┓\n",
       "┃<span style=\"font-weight: bold\">        Test metric        </span>┃<span style=\"font-weight: bold\">       DataLoader 0        </span>┃\n",
       "┡━━━━━━━━━━━━━━━━━━━━━━━━━━━╇━━━━━━━━━━━━━━━━━━━━━━━━━━━┩\n",
       "│<span style=\"color: #008080; text-decoration-color: #008080\">         test_acc          </span>│<span style=\"color: #800080; text-decoration-color: #800080\">    0.11500000208616257    </span>│\n",
       "│<span style=\"color: #008080; text-decoration-color: #008080\">         test_loss         </span>│<span style=\"color: #800080; text-decoration-color: #800080\">     5.114875793457031     </span>│\n",
       "└───────────────────────────┴───────────────────────────┘\n",
       "</pre>\n"
      ],
      "text/plain": [
       "┏━━━━━━━━━━━━━━━━━━━━━━━━━━━┳━━━━━━━━━━━━━━━━━━━━━━━━━━━┓\n",
       "┃\u001b[1m \u001b[0m\u001b[1m       Test metric       \u001b[0m\u001b[1m \u001b[0m┃\u001b[1m \u001b[0m\u001b[1m      DataLoader 0       \u001b[0m\u001b[1m \u001b[0m┃\n",
       "┡━━━━━━━━━━━━━━━━━━━━━━━━━━━╇━━━━━━━━━━━━━━━━━━━━━━━━━━━┩\n",
       "│\u001b[36m \u001b[0m\u001b[36m        test_acc         \u001b[0m\u001b[36m \u001b[0m│\u001b[35m \u001b[0m\u001b[35m   0.11500000208616257   \u001b[0m\u001b[35m \u001b[0m│\n",
       "│\u001b[36m \u001b[0m\u001b[36m        test_loss        \u001b[0m\u001b[36m \u001b[0m│\u001b[35m \u001b[0m\u001b[35m    5.114875793457031    \u001b[0m\u001b[35m \u001b[0m│\n",
       "└───────────────────────────┴───────────────────────────┘\n"
      ]
     },
     "metadata": {},
     "output_type": "display_data"
    },
    {
     "data": {
      "text/plain": [
       "[{'test_loss': 5.114875793457031, 'test_acc': 0.11500000208616257}]"
      ]
     },
     "execution_count": 22,
     "metadata": {},
     "output_type": "execute_result"
    }
   ],
   "source": [
    "trainer.test(resnetModule, esc50_datamodule)"
   ]
  }
 ],
 "metadata": {
  "kernelspec": {
   "display_name": "gadme-zu58s5te-py3.10",
   "language": "python",
   "name": "python3"
  },
  "language_info": {
   "codemirror_mode": {
    "name": "ipython",
    "version": 3
   },
   "file_extension": ".py",
   "mimetype": "text/x-python",
   "name": "python",
   "nbconvert_exporter": "python",
   "pygments_lexer": "ipython3",
   "version": "3.10.12"
  }
 },
 "nbformat": 4,
 "nbformat_minor": 2
}
